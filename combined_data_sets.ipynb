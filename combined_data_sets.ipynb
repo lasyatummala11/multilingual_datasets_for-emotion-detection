{
  "nbformat": 4,
  "nbformat_minor": 0,
  "metadata": {
    "colab": {
      "provenance": []
    },
    "kernelspec": {
      "name": "python3",
      "display_name": "Python 3"
    },
    "language_info": {
      "name": "python"
    }
  },
  "cells": [
    {
      "cell_type": "code",
      "source": [
        "import pandas as pd\n",
        "\n",
        "# Function to read files with encoding handling\n",
        "def read_file(file_path):\n",
        "    try:\n",
        "        if file_path.endswith(\".csv\"):\n",
        "            return pd.read_csv(file_path, encoding=\"utf-8\")\n",
        "        elif file_path.endswith(\".xlsx\"):\n",
        "            return pd.read_excel(file_path)\n",
        "    except UnicodeDecodeError:\n",
        "        try:\n",
        "            return pd.read_csv(file_path, encoding=\"ISO-8859-1\")\n",
        "        except UnicodeDecodeError:\n",
        "            return pd.read_csv(file_path, encoding=\"utf-16\")\n",
        "\n",
        "# Identifying Telugu and Hindi datasets\n",
        "telugu_datasets = [\n",
        "    \"/English-Telugu.csv\",\n",
        "    \"/abn_telugu_business.csv\",\n",
        "    \"/business_telugu_sakshi (1).csv\",\n",
        "    \"/task_1_dataset_telugu_refined_submit.xlsx\",\n",
        "    \"/telugu-news.csv\",\n",
        "    \"/telugu_business_news.csv\"\n",
        "]\n",
        "\n",
        "hindi_datasets = [\n",
        "    \"/bbc_hindi_articles_with_categories_cleaned.csv\",\n",
        "    \"/business_hindi_dainikJagaran.csv\",\n",
        "    \"/task_1_dataset_hindi_refined_submit.xlsx\"\n",
        "]\n",
        "\n",
        "# Load and combine Telugu datasets\n",
        "telugu_dfs = [read_file(file) for file in telugu_datasets]\n",
        "telugu_combined = pd.concat(telugu_dfs, ignore_index=True, sort=False)\n",
        "\n",
        "# Load and combine Hindi datasets\n",
        "hindi_dfs = [read_file(file) for file in hindi_datasets]\n",
        "hindi_combined = pd.concat(hindi_dfs, ignore_index=True, sort=False)\n",
        "\n",
        "# Save the merged datasets (optional)\n",
        "telugu_combined.to_csv(\"/merged_telugu_dataset.csv\", index=False, encoding=\"utf-8\")\n",
        "hindi_combined.to_csv(\"/merged_hindi_dataset.csv\", index=False, encoding=\"utf-8\")\n",
        "\n",
        "\n"
      ],
      "metadata": {
        "id": "IutaN9hXQq8f"
      },
      "execution_count": 6,
      "outputs": []
    },
    {
      "cell_type": "code",
      "source": [
        "import pandas as pd\n",
        "\n",
        "# Specify the file path\n",
        "file_path = \"/merged_hindi_dataset.csv\"\n",
        "\n",
        "# Read the CSV file\n",
        "df = pd.read_csv(file_path)\n",
        "\n",
        "# Display the first 5 rows\n",
        "print(df.head())\n"
      ],
      "metadata": {
        "colab": {
          "base_uri": "https://localhost:8080/"
        },
        "id": "JFK381wnSuTk",
        "outputId": "ea7ac6c0-e8f9-4f50-8bdc-8971fc8b01e3"
      },
      "execution_count": 7,
      "outputs": [
        {
          "output_type": "stream",
          "name": "stdout",
          "text": [
            "                                            Headline  \\\n",
            "0  बांग्लादेश जमात-ए-इस्लामी और मोदी-बाइडन की बात...   \n",
            "1        भारत में महिलाएं क्यों छिपाती हैं मेनोपॉज़?   \n",
            "2  वीडियो, 'वडोदरा शहर में करोड़ों रुपए के बंगले ...   \n",
            "3  अवनि लेखरा: टोक्यो के बाद पेरिस में भी गोल्ड प...   \n",
            "4  पैरालंपिक में भाग्यश्री जाधव: मेहनत और लगन से ...   \n",
            "\n",
            "                                             Content Category Title  \\\n",
            "0  प्रधानमंत्री नरेंद्र मोदी और अमेरिका राष्ट्रपत...     भारत   NaN   \n",
            "1  “मेरे पति चाहते थे कि मैं हमेशा तैयार और सज सं...     भारत   NaN   \n",
            "2  गुजरात में लगातार हो रही भारी बारिश के कारण कई...     भारत   NaN   \n",
            "3  अवनि लेखरा ने पेरिस पैरालंपिक में महिलाओं की 1...     भारत   NaN   \n",
            "4  पेरिस पैरालंपिक खेलों की शुरुआत 28 अगस्त से हो...     भारत   NaN   \n",
            "\n",
            "  Description Link indic number_english number_indic  start_posn  end_posn  \\\n",
            "0         NaN  NaN   NaN            NaN          NaN         NaN       NaN   \n",
            "1         NaN  NaN   NaN            NaN          NaN         NaN       NaN   \n",
            "2         NaN  NaN   NaN            NaN          NaN         NaN       NaN   \n",
            "3         NaN  NaN   NaN            NaN          NaN         NaN       NaN   \n",
            "4         NaN  NaN   NaN            NaN          NaN         NaN       NaN   \n",
            "\n",
            "  language  magnitude  \n",
            "0      NaN        NaN  \n",
            "1      NaN        NaN  \n",
            "2      NaN        NaN  \n",
            "3      NaN        NaN  \n",
            "4      NaN        NaN  \n"
          ]
        }
      ]
    },
    {
      "cell_type": "code",
      "source": [
        "import pandas as pd\n",
        "\n",
        "# Specify the file path\n",
        "file_path = \"/merged_telugu_dataset.csv\"\n",
        "\n",
        "# Read the CSV file\n",
        "df = pd.read_csv(file_path)\n",
        "\n",
        "# Display the first 5 rows\n",
        "print(df.head())"
      ],
      "metadata": {
        "colab": {
          "base_uri": "https://localhost:8080/"
        },
        "id": "Le1HdFwvTCb6",
        "outputId": "625a57f3-7fb9-4f47-e104-59dbe7d1fa40"
      },
      "execution_count": 8,
      "outputs": [
        {
          "output_type": "stream",
          "name": "stdout",
          "text": [
            "                          English                            Telugu Headline  \\\n",
            "0              His legs are long.      అతని కాళ్ళు పొడవుగా ఉన్నాయి.      NaN   \n",
            "1             Sai is feeling good    సాయికి మంచి అనుభూతి కలుగుతోంది      NaN   \n",
            "2             Where are you going        మీరు ఎక్కడికి వెళుతున్నారు      NaN   \n",
            "3  Telugu, english, tamil, french  తెలుగు, ఇంగ్లీష్, తమిళం, ఫ్రెంచ్      NaN   \n",
            "4            Official Information                  అధికారిక సమాచారం      NaN   \n",
            "\n",
            "  Description Link No Title No Description indic number_english number_indic  \\\n",
            "0         NaN  NaN      NaN            NaN   NaN            NaN          NaN   \n",
            "1         NaN  NaN      NaN            NaN   NaN            NaN          NaN   \n",
            "2         NaN  NaN      NaN            NaN   NaN            NaN          NaN   \n",
            "3         NaN  NaN      NaN            NaN   NaN            NaN          NaN   \n",
            "4         NaN  NaN      NaN            NaN   NaN            NaN          NaN   \n",
            "\n",
            "   start_posn  end_posn language  magnitude  Unnamed: 0 body Headlines  \n",
            "0         NaN       NaN      NaN        NaN         NaN  NaN       NaN  \n",
            "1         NaN       NaN      NaN        NaN         NaN  NaN       NaN  \n",
            "2         NaN       NaN      NaN        NaN         NaN  NaN       NaN  \n",
            "3         NaN       NaN      NaN        NaN         NaN  NaN       NaN  \n",
            "4         NaN       NaN      NaN        NaN         NaN  NaN       NaN  \n"
          ]
        }
      ]
    }
  ]
}