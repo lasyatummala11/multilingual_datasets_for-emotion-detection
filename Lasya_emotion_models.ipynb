{
  "nbformat": 4,
  "nbformat_minor": 0,
  "metadata": {
    "colab": {
      "provenance": []
    },
    "kernelspec": {
      "name": "python3",
      "display_name": "Python 3"
    },
    "language_info": {
      "name": "python"
    },
    "widgets": {
      "application/vnd.jupyter.widget-state+json": {
        "701ae217e9ad47bcb39267e8eba79068": {
          "model_module": "@jupyter-widgets/controls",
          "model_name": "HBoxModel",
          "model_module_version": "1.5.0",
          "state": {
            "_dom_classes": [],
            "_model_module": "@jupyter-widgets/controls",
            "_model_module_version": "1.5.0",
            "_model_name": "HBoxModel",
            "_view_count": null,
            "_view_module": "@jupyter-widgets/controls",
            "_view_module_version": "1.5.0",
            "_view_name": "HBoxView",
            "box_style": "",
            "children": [
              "IPY_MODEL_c9bce113ea874292a4ef36cc2066df0e",
              "IPY_MODEL_85201465acef463aa2e980702407f556",
              "IPY_MODEL_aea490e563fb42ab8c6f9854b067038a"
            ],
            "layout": "IPY_MODEL_087a0fdb0f604a64a80c474cb045fc11"
          }
        },
        "c9bce113ea874292a4ef36cc2066df0e": {
          "model_module": "@jupyter-widgets/controls",
          "model_name": "HTMLModel",
          "model_module_version": "1.5.0",
          "state": {
            "_dom_classes": [],
            "_model_module": "@jupyter-widgets/controls",
            "_model_module_version": "1.5.0",
            "_model_name": "HTMLModel",
            "_view_count": null,
            "_view_module": "@jupyter-widgets/controls",
            "_view_module_version": "1.5.0",
            "_view_name": "HTMLView",
            "description": "",
            "description_tooltip": null,
            "layout": "IPY_MODEL_760ab585c3664256ba6cfafeb3f6e074",
            "placeholder": "​",
            "style": "IPY_MODEL_3489c624dfbf468294ab6eead385b193",
            "value": "tokenizer_config.json: 100%"
          }
        },
        "85201465acef463aa2e980702407f556": {
          "model_module": "@jupyter-widgets/controls",
          "model_name": "FloatProgressModel",
          "model_module_version": "1.5.0",
          "state": {
            "_dom_classes": [],
            "_model_module": "@jupyter-widgets/controls",
            "_model_module_version": "1.5.0",
            "_model_name": "FloatProgressModel",
            "_view_count": null,
            "_view_module": "@jupyter-widgets/controls",
            "_view_module_version": "1.5.0",
            "_view_name": "ProgressView",
            "bar_style": "success",
            "description": "",
            "description_tooltip": null,
            "layout": "IPY_MODEL_cc0c7b9cfc574d1f90449b1b9ce7cfbf",
            "max": 49,
            "min": 0,
            "orientation": "horizontal",
            "style": "IPY_MODEL_97d7c639cb044cd381fc216b8a6159ce",
            "value": 49
          }
        },
        "aea490e563fb42ab8c6f9854b067038a": {
          "model_module": "@jupyter-widgets/controls",
          "model_name": "HTMLModel",
          "model_module_version": "1.5.0",
          "state": {
            "_dom_classes": [],
            "_model_module": "@jupyter-widgets/controls",
            "_model_module_version": "1.5.0",
            "_model_name": "HTMLModel",
            "_view_count": null,
            "_view_module": "@jupyter-widgets/controls",
            "_view_module_version": "1.5.0",
            "_view_name": "HTMLView",
            "description": "",
            "description_tooltip": null,
            "layout": "IPY_MODEL_2a4180dc4382428a93ccded3a01c9132",
            "placeholder": "​",
            "style": "IPY_MODEL_c9c89440266d4ec583d0bbe2a14b5da7",
            "value": " 49.0/49.0 [00:00&lt;00:00, 2.44kB/s]"
          }
        },
        "087a0fdb0f604a64a80c474cb045fc11": {
          "model_module": "@jupyter-widgets/base",
          "model_name": "LayoutModel",
          "model_module_version": "1.2.0",
          "state": {
            "_model_module": "@jupyter-widgets/base",
            "_model_module_version": "1.2.0",
            "_model_name": "LayoutModel",
            "_view_count": null,
            "_view_module": "@jupyter-widgets/base",
            "_view_module_version": "1.2.0",
            "_view_name": "LayoutView",
            "align_content": null,
            "align_items": null,
            "align_self": null,
            "border": null,
            "bottom": null,
            "display": null,
            "flex": null,
            "flex_flow": null,
            "grid_area": null,
            "grid_auto_columns": null,
            "grid_auto_flow": null,
            "grid_auto_rows": null,
            "grid_column": null,
            "grid_gap": null,
            "grid_row": null,
            "grid_template_areas": null,
            "grid_template_columns": null,
            "grid_template_rows": null,
            "height": null,
            "justify_content": null,
            "justify_items": null,
            "left": null,
            "margin": null,
            "max_height": null,
            "max_width": null,
            "min_height": null,
            "min_width": null,
            "object_fit": null,
            "object_position": null,
            "order": null,
            "overflow": null,
            "overflow_x": null,
            "overflow_y": null,
            "padding": null,
            "right": null,
            "top": null,
            "visibility": null,
            "width": null
          }
        },
        "760ab585c3664256ba6cfafeb3f6e074": {
          "model_module": "@jupyter-widgets/base",
          "model_name": "LayoutModel",
          "model_module_version": "1.2.0",
          "state": {
            "_model_module": "@jupyter-widgets/base",
            "_model_module_version": "1.2.0",
            "_model_name": "LayoutModel",
            "_view_count": null,
            "_view_module": "@jupyter-widgets/base",
            "_view_module_version": "1.2.0",
            "_view_name": "LayoutView",
            "align_content": null,
            "align_items": null,
            "align_self": null,
            "border": null,
            "bottom": null,
            "display": null,
            "flex": null,
            "flex_flow": null,
            "grid_area": null,
            "grid_auto_columns": null,
            "grid_auto_flow": null,
            "grid_auto_rows": null,
            "grid_column": null,
            "grid_gap": null,
            "grid_row": null,
            "grid_template_areas": null,
            "grid_template_columns": null,
            "grid_template_rows": null,
            "height": null,
            "justify_content": null,
            "justify_items": null,
            "left": null,
            "margin": null,
            "max_height": null,
            "max_width": null,
            "min_height": null,
            "min_width": null,
            "object_fit": null,
            "object_position": null,
            "order": null,
            "overflow": null,
            "overflow_x": null,
            "overflow_y": null,
            "padding": null,
            "right": null,
            "top": null,
            "visibility": null,
            "width": null
          }
        },
        "3489c624dfbf468294ab6eead385b193": {
          "model_module": "@jupyter-widgets/controls",
          "model_name": "DescriptionStyleModel",
          "model_module_version": "1.5.0",
          "state": {
            "_model_module": "@jupyter-widgets/controls",
            "_model_module_version": "1.5.0",
            "_model_name": "DescriptionStyleModel",
            "_view_count": null,
            "_view_module": "@jupyter-widgets/base",
            "_view_module_version": "1.2.0",
            "_view_name": "StyleView",
            "description_width": ""
          }
        },
        "cc0c7b9cfc574d1f90449b1b9ce7cfbf": {
          "model_module": "@jupyter-widgets/base",
          "model_name": "LayoutModel",
          "model_module_version": "1.2.0",
          "state": {
            "_model_module": "@jupyter-widgets/base",
            "_model_module_version": "1.2.0",
            "_model_name": "LayoutModel",
            "_view_count": null,
            "_view_module": "@jupyter-widgets/base",
            "_view_module_version": "1.2.0",
            "_view_name": "LayoutView",
            "align_content": null,
            "align_items": null,
            "align_self": null,
            "border": null,
            "bottom": null,
            "display": null,
            "flex": null,
            "flex_flow": null,
            "grid_area": null,
            "grid_auto_columns": null,
            "grid_auto_flow": null,
            "grid_auto_rows": null,
            "grid_column": null,
            "grid_gap": null,
            "grid_row": null,
            "grid_template_areas": null,
            "grid_template_columns": null,
            "grid_template_rows": null,
            "height": null,
            "justify_content": null,
            "justify_items": null,
            "left": null,
            "margin": null,
            "max_height": null,
            "max_width": null,
            "min_height": null,
            "min_width": null,
            "object_fit": null,
            "object_position": null,
            "order": null,
            "overflow": null,
            "overflow_x": null,
            "overflow_y": null,
            "padding": null,
            "right": null,
            "top": null,
            "visibility": null,
            "width": null
          }
        },
        "97d7c639cb044cd381fc216b8a6159ce": {
          "model_module": "@jupyter-widgets/controls",
          "model_name": "ProgressStyleModel",
          "model_module_version": "1.5.0",
          "state": {
            "_model_module": "@jupyter-widgets/controls",
            "_model_module_version": "1.5.0",
            "_model_name": "ProgressStyleModel",
            "_view_count": null,
            "_view_module": "@jupyter-widgets/base",
            "_view_module_version": "1.2.0",
            "_view_name": "StyleView",
            "bar_color": null,
            "description_width": ""
          }
        },
        "2a4180dc4382428a93ccded3a01c9132": {
          "model_module": "@jupyter-widgets/base",
          "model_name": "LayoutModel",
          "model_module_version": "1.2.0",
          "state": {
            "_model_module": "@jupyter-widgets/base",
            "_model_module_version": "1.2.0",
            "_model_name": "LayoutModel",
            "_view_count": null,
            "_view_module": "@jupyter-widgets/base",
            "_view_module_version": "1.2.0",
            "_view_name": "LayoutView",
            "align_content": null,
            "align_items": null,
            "align_self": null,
            "border": null,
            "bottom": null,
            "display": null,
            "flex": null,
            "flex_flow": null,
            "grid_area": null,
            "grid_auto_columns": null,
            "grid_auto_flow": null,
            "grid_auto_rows": null,
            "grid_column": null,
            "grid_gap": null,
            "grid_row": null,
            "grid_template_areas": null,
            "grid_template_columns": null,
            "grid_template_rows": null,
            "height": null,
            "justify_content": null,
            "justify_items": null,
            "left": null,
            "margin": null,
            "max_height": null,
            "max_width": null,
            "min_height": null,
            "min_width": null,
            "object_fit": null,
            "object_position": null,
            "order": null,
            "overflow": null,
            "overflow_x": null,
            "overflow_y": null,
            "padding": null,
            "right": null,
            "top": null,
            "visibility": null,
            "width": null
          }
        },
        "c9c89440266d4ec583d0bbe2a14b5da7": {
          "model_module": "@jupyter-widgets/controls",
          "model_name": "DescriptionStyleModel",
          "model_module_version": "1.5.0",
          "state": {
            "_model_module": "@jupyter-widgets/controls",
            "_model_module_version": "1.5.0",
            "_model_name": "DescriptionStyleModel",
            "_view_count": null,
            "_view_module": "@jupyter-widgets/base",
            "_view_module_version": "1.2.0",
            "_view_name": "StyleView",
            "description_width": ""
          }
        },
        "13a4b3db12e44146b2cc2f76f1fff431": {
          "model_module": "@jupyter-widgets/controls",
          "model_name": "HBoxModel",
          "model_module_version": "1.5.0",
          "state": {
            "_dom_classes": [],
            "_model_module": "@jupyter-widgets/controls",
            "_model_module_version": "1.5.0",
            "_model_name": "HBoxModel",
            "_view_count": null,
            "_view_module": "@jupyter-widgets/controls",
            "_view_module_version": "1.5.0",
            "_view_name": "HBoxView",
            "box_style": "",
            "children": [
              "IPY_MODEL_5c5964bf56b341f086fd3d6244f931a5",
              "IPY_MODEL_6d93c8b47dcc412abf64512160f48aa5",
              "IPY_MODEL_474ccbd92ec64a7f91828d9cd57beb59"
            ],
            "layout": "IPY_MODEL_89f225abae644dbd87828400a99cb6f5"
          }
        },
        "5c5964bf56b341f086fd3d6244f931a5": {
          "model_module": "@jupyter-widgets/controls",
          "model_name": "HTMLModel",
          "model_module_version": "1.5.0",
          "state": {
            "_dom_classes": [],
            "_model_module": "@jupyter-widgets/controls",
            "_model_module_version": "1.5.0",
            "_model_name": "HTMLModel",
            "_view_count": null,
            "_view_module": "@jupyter-widgets/controls",
            "_view_module_version": "1.5.0",
            "_view_name": "HTMLView",
            "description": "",
            "description_tooltip": null,
            "layout": "IPY_MODEL_045e9f0ebd8f44839224e71e44811b12",
            "placeholder": "​",
            "style": "IPY_MODEL_f6148919571040398ea99764933bd439",
            "value": "config.json: 100%"
          }
        },
        "6d93c8b47dcc412abf64512160f48aa5": {
          "model_module": "@jupyter-widgets/controls",
          "model_name": "FloatProgressModel",
          "model_module_version": "1.5.0",
          "state": {
            "_dom_classes": [],
            "_model_module": "@jupyter-widgets/controls",
            "_model_module_version": "1.5.0",
            "_model_name": "FloatProgressModel",
            "_view_count": null,
            "_view_module": "@jupyter-widgets/controls",
            "_view_module_version": "1.5.0",
            "_view_name": "ProgressView",
            "bar_style": "success",
            "description": "",
            "description_tooltip": null,
            "layout": "IPY_MODEL_94c62911de82405985f58dd80a23462a",
            "max": 625,
            "min": 0,
            "orientation": "horizontal",
            "style": "IPY_MODEL_c81eb68f448944bb86b333dadd764ed3",
            "value": 625
          }
        },
        "474ccbd92ec64a7f91828d9cd57beb59": {
          "model_module": "@jupyter-widgets/controls",
          "model_name": "HTMLModel",
          "model_module_version": "1.5.0",
          "state": {
            "_dom_classes": [],
            "_model_module": "@jupyter-widgets/controls",
            "_model_module_version": "1.5.0",
            "_model_name": "HTMLModel",
            "_view_count": null,
            "_view_module": "@jupyter-widgets/controls",
            "_view_module_version": "1.5.0",
            "_view_name": "HTMLView",
            "description": "",
            "description_tooltip": null,
            "layout": "IPY_MODEL_304789b14a534b68a866137cf10742a2",
            "placeholder": "​",
            "style": "IPY_MODEL_ba11be1180d6484482340fa571fd7cbb",
            "value": " 625/625 [00:00&lt;00:00, 56.3kB/s]"
          }
        },
        "89f225abae644dbd87828400a99cb6f5": {
          "model_module": "@jupyter-widgets/base",
          "model_name": "LayoutModel",
          "model_module_version": "1.2.0",
          "state": {
            "_model_module": "@jupyter-widgets/base",
            "_model_module_version": "1.2.0",
            "_model_name": "LayoutModel",
            "_view_count": null,
            "_view_module": "@jupyter-widgets/base",
            "_view_module_version": "1.2.0",
            "_view_name": "LayoutView",
            "align_content": null,
            "align_items": null,
            "align_self": null,
            "border": null,
            "bottom": null,
            "display": null,
            "flex": null,
            "flex_flow": null,
            "grid_area": null,
            "grid_auto_columns": null,
            "grid_auto_flow": null,
            "grid_auto_rows": null,
            "grid_column": null,
            "grid_gap": null,
            "grid_row": null,
            "grid_template_areas": null,
            "grid_template_columns": null,
            "grid_template_rows": null,
            "height": null,
            "justify_content": null,
            "justify_items": null,
            "left": null,
            "margin": null,
            "max_height": null,
            "max_width": null,
            "min_height": null,
            "min_width": null,
            "object_fit": null,
            "object_position": null,
            "order": null,
            "overflow": null,
            "overflow_x": null,
            "overflow_y": null,
            "padding": null,
            "right": null,
            "top": null,
            "visibility": null,
            "width": null
          }
        },
        "045e9f0ebd8f44839224e71e44811b12": {
          "model_module": "@jupyter-widgets/base",
          "model_name": "LayoutModel",
          "model_module_version": "1.2.0",
          "state": {
            "_model_module": "@jupyter-widgets/base",
            "_model_module_version": "1.2.0",
            "_model_name": "LayoutModel",
            "_view_count": null,
            "_view_module": "@jupyter-widgets/base",
            "_view_module_version": "1.2.0",
            "_view_name": "LayoutView",
            "align_content": null,
            "align_items": null,
            "align_self": null,
            "border": null,
            "bottom": null,
            "display": null,
            "flex": null,
            "flex_flow": null,
            "grid_area": null,
            "grid_auto_columns": null,
            "grid_auto_flow": null,
            "grid_auto_rows": null,
            "grid_column": null,
            "grid_gap": null,
            "grid_row": null,
            "grid_template_areas": null,
            "grid_template_columns": null,
            "grid_template_rows": null,
            "height": null,
            "justify_content": null,
            "justify_items": null,
            "left": null,
            "margin": null,
            "max_height": null,
            "max_width": null,
            "min_height": null,
            "min_width": null,
            "object_fit": null,
            "object_position": null,
            "order": null,
            "overflow": null,
            "overflow_x": null,
            "overflow_y": null,
            "padding": null,
            "right": null,
            "top": null,
            "visibility": null,
            "width": null
          }
        },
        "f6148919571040398ea99764933bd439": {
          "model_module": "@jupyter-widgets/controls",
          "model_name": "DescriptionStyleModel",
          "model_module_version": "1.5.0",
          "state": {
            "_model_module": "@jupyter-widgets/controls",
            "_model_module_version": "1.5.0",
            "_model_name": "DescriptionStyleModel",
            "_view_count": null,
            "_view_module": "@jupyter-widgets/base",
            "_view_module_version": "1.2.0",
            "_view_name": "StyleView",
            "description_width": ""
          }
        },
        "94c62911de82405985f58dd80a23462a": {
          "model_module": "@jupyter-widgets/base",
          "model_name": "LayoutModel",
          "model_module_version": "1.2.0",
          "state": {
            "_model_module": "@jupyter-widgets/base",
            "_model_module_version": "1.2.0",
            "_model_name": "LayoutModel",
            "_view_count": null,
            "_view_module": "@jupyter-widgets/base",
            "_view_module_version": "1.2.0",
            "_view_name": "LayoutView",
            "align_content": null,
            "align_items": null,
            "align_self": null,
            "border": null,
            "bottom": null,
            "display": null,
            "flex": null,
            "flex_flow": null,
            "grid_area": null,
            "grid_auto_columns": null,
            "grid_auto_flow": null,
            "grid_auto_rows": null,
            "grid_column": null,
            "grid_gap": null,
            "grid_row": null,
            "grid_template_areas": null,
            "grid_template_columns": null,
            "grid_template_rows": null,
            "height": null,
            "justify_content": null,
            "justify_items": null,
            "left": null,
            "margin": null,
            "max_height": null,
            "max_width": null,
            "min_height": null,
            "min_width": null,
            "object_fit": null,
            "object_position": null,
            "order": null,
            "overflow": null,
            "overflow_x": null,
            "overflow_y": null,
            "padding": null,
            "right": null,
            "top": null,
            "visibility": null,
            "width": null
          }
        },
        "c81eb68f448944bb86b333dadd764ed3": {
          "model_module": "@jupyter-widgets/controls",
          "model_name": "ProgressStyleModel",
          "model_module_version": "1.5.0",
          "state": {
            "_model_module": "@jupyter-widgets/controls",
            "_model_module_version": "1.5.0",
            "_model_name": "ProgressStyleModel",
            "_view_count": null,
            "_view_module": "@jupyter-widgets/base",
            "_view_module_version": "1.2.0",
            "_view_name": "StyleView",
            "bar_color": null,
            "description_width": ""
          }
        },
        "304789b14a534b68a866137cf10742a2": {
          "model_module": "@jupyter-widgets/base",
          "model_name": "LayoutModel",
          "model_module_version": "1.2.0",
          "state": {
            "_model_module": "@jupyter-widgets/base",
            "_model_module_version": "1.2.0",
            "_model_name": "LayoutModel",
            "_view_count": null,
            "_view_module": "@jupyter-widgets/base",
            "_view_module_version": "1.2.0",
            "_view_name": "LayoutView",
            "align_content": null,
            "align_items": null,
            "align_self": null,
            "border": null,
            "bottom": null,
            "display": null,
            "flex": null,
            "flex_flow": null,
            "grid_area": null,
            "grid_auto_columns": null,
            "grid_auto_flow": null,
            "grid_auto_rows": null,
            "grid_column": null,
            "grid_gap": null,
            "grid_row": null,
            "grid_template_areas": null,
            "grid_template_columns": null,
            "grid_template_rows": null,
            "height": null,
            "justify_content": null,
            "justify_items": null,
            "left": null,
            "margin": null,
            "max_height": null,
            "max_width": null,
            "min_height": null,
            "min_width": null,
            "object_fit": null,
            "object_position": null,
            "order": null,
            "overflow": null,
            "overflow_x": null,
            "overflow_y": null,
            "padding": null,
            "right": null,
            "top": null,
            "visibility": null,
            "width": null
          }
        },
        "ba11be1180d6484482340fa571fd7cbb": {
          "model_module": "@jupyter-widgets/controls",
          "model_name": "DescriptionStyleModel",
          "model_module_version": "1.5.0",
          "state": {
            "_model_module": "@jupyter-widgets/controls",
            "_model_module_version": "1.5.0",
            "_model_name": "DescriptionStyleModel",
            "_view_count": null,
            "_view_module": "@jupyter-widgets/base",
            "_view_module_version": "1.2.0",
            "_view_name": "StyleView",
            "description_width": ""
          }
        },
        "1645fdb6c344474ab19f3de7dd998c5d": {
          "model_module": "@jupyter-widgets/controls",
          "model_name": "HBoxModel",
          "model_module_version": "1.5.0",
          "state": {
            "_dom_classes": [],
            "_model_module": "@jupyter-widgets/controls",
            "_model_module_version": "1.5.0",
            "_model_name": "HBoxModel",
            "_view_count": null,
            "_view_module": "@jupyter-widgets/controls",
            "_view_module_version": "1.5.0",
            "_view_name": "HBoxView",
            "box_style": "",
            "children": [
              "IPY_MODEL_0c147a67df6f40969aae12f98a2cbcfe",
              "IPY_MODEL_958c80da51b747f68678af46313bd12e",
              "IPY_MODEL_6df35b0c119449319c30d1a6efbdb335"
            ],
            "layout": "IPY_MODEL_3a54b022d6d7486d9a92760ae38cedca"
          }
        },
        "0c147a67df6f40969aae12f98a2cbcfe": {
          "model_module": "@jupyter-widgets/controls",
          "model_name": "HTMLModel",
          "model_module_version": "1.5.0",
          "state": {
            "_dom_classes": [],
            "_model_module": "@jupyter-widgets/controls",
            "_model_module_version": "1.5.0",
            "_model_name": "HTMLModel",
            "_view_count": null,
            "_view_module": "@jupyter-widgets/controls",
            "_view_module_version": "1.5.0",
            "_view_name": "HTMLView",
            "description": "",
            "description_tooltip": null,
            "layout": "IPY_MODEL_62a6265b3f06496f892245fa589edffb",
            "placeholder": "​",
            "style": "IPY_MODEL_a94dbcd7a02047f2ba4cb36a1733004e",
            "value": "vocab.txt: 100%"
          }
        },
        "958c80da51b747f68678af46313bd12e": {
          "model_module": "@jupyter-widgets/controls",
          "model_name": "FloatProgressModel",
          "model_module_version": "1.5.0",
          "state": {
            "_dom_classes": [],
            "_model_module": "@jupyter-widgets/controls",
            "_model_module_version": "1.5.0",
            "_model_name": "FloatProgressModel",
            "_view_count": null,
            "_view_module": "@jupyter-widgets/controls",
            "_view_module_version": "1.5.0",
            "_view_name": "ProgressView",
            "bar_style": "success",
            "description": "",
            "description_tooltip": null,
            "layout": "IPY_MODEL_5e562857d7e14bd099f72f3d7af78e61",
            "max": 995526,
            "min": 0,
            "orientation": "horizontal",
            "style": "IPY_MODEL_edbd96e4d4994fbcb0624414cf822376",
            "value": 995526
          }
        },
        "6df35b0c119449319c30d1a6efbdb335": {
          "model_module": "@jupyter-widgets/controls",
          "model_name": "HTMLModel",
          "model_module_version": "1.5.0",
          "state": {
            "_dom_classes": [],
            "_model_module": "@jupyter-widgets/controls",
            "_model_module_version": "1.5.0",
            "_model_name": "HTMLModel",
            "_view_count": null,
            "_view_module": "@jupyter-widgets/controls",
            "_view_module_version": "1.5.0",
            "_view_name": "HTMLView",
            "description": "",
            "description_tooltip": null,
            "layout": "IPY_MODEL_56183d1f2d7a4350a011ac04e859b310",
            "placeholder": "​",
            "style": "IPY_MODEL_954006a636d7450090dac193d327becf",
            "value": " 996k/996k [00:00&lt;00:00, 1.87MB/s]"
          }
        },
        "3a54b022d6d7486d9a92760ae38cedca": {
          "model_module": "@jupyter-widgets/base",
          "model_name": "LayoutModel",
          "model_module_version": "1.2.0",
          "state": {
            "_model_module": "@jupyter-widgets/base",
            "_model_module_version": "1.2.0",
            "_model_name": "LayoutModel",
            "_view_count": null,
            "_view_module": "@jupyter-widgets/base",
            "_view_module_version": "1.2.0",
            "_view_name": "LayoutView",
            "align_content": null,
            "align_items": null,
            "align_self": null,
            "border": null,
            "bottom": null,
            "display": null,
            "flex": null,
            "flex_flow": null,
            "grid_area": null,
            "grid_auto_columns": null,
            "grid_auto_flow": null,
            "grid_auto_rows": null,
            "grid_column": null,
            "grid_gap": null,
            "grid_row": null,
            "grid_template_areas": null,
            "grid_template_columns": null,
            "grid_template_rows": null,
            "height": null,
            "justify_content": null,
            "justify_items": null,
            "left": null,
            "margin": null,
            "max_height": null,
            "max_width": null,
            "min_height": null,
            "min_width": null,
            "object_fit": null,
            "object_position": null,
            "order": null,
            "overflow": null,
            "overflow_x": null,
            "overflow_y": null,
            "padding": null,
            "right": null,
            "top": null,
            "visibility": null,
            "width": null
          }
        },
        "62a6265b3f06496f892245fa589edffb": {
          "model_module": "@jupyter-widgets/base",
          "model_name": "LayoutModel",
          "model_module_version": "1.2.0",
          "state": {
            "_model_module": "@jupyter-widgets/base",
            "_model_module_version": "1.2.0",
            "_model_name": "LayoutModel",
            "_view_count": null,
            "_view_module": "@jupyter-widgets/base",
            "_view_module_version": "1.2.0",
            "_view_name": "LayoutView",
            "align_content": null,
            "align_items": null,
            "align_self": null,
            "border": null,
            "bottom": null,
            "display": null,
            "flex": null,
            "flex_flow": null,
            "grid_area": null,
            "grid_auto_columns": null,
            "grid_auto_flow": null,
            "grid_auto_rows": null,
            "grid_column": null,
            "grid_gap": null,
            "grid_row": null,
            "grid_template_areas": null,
            "grid_template_columns": null,
            "grid_template_rows": null,
            "height": null,
            "justify_content": null,
            "justify_items": null,
            "left": null,
            "margin": null,
            "max_height": null,
            "max_width": null,
            "min_height": null,
            "min_width": null,
            "object_fit": null,
            "object_position": null,
            "order": null,
            "overflow": null,
            "overflow_x": null,
            "overflow_y": null,
            "padding": null,
            "right": null,
            "top": null,
            "visibility": null,
            "width": null
          }
        },
        "a94dbcd7a02047f2ba4cb36a1733004e": {
          "model_module": "@jupyter-widgets/controls",
          "model_name": "DescriptionStyleModel",
          "model_module_version": "1.5.0",
          "state": {
            "_model_module": "@jupyter-widgets/controls",
            "_model_module_version": "1.5.0",
            "_model_name": "DescriptionStyleModel",
            "_view_count": null,
            "_view_module": "@jupyter-widgets/base",
            "_view_module_version": "1.2.0",
            "_view_name": "StyleView",
            "description_width": ""
          }
        },
        "5e562857d7e14bd099f72f3d7af78e61": {
          "model_module": "@jupyter-widgets/base",
          "model_name": "LayoutModel",
          "model_module_version": "1.2.0",
          "state": {
            "_model_module": "@jupyter-widgets/base",
            "_model_module_version": "1.2.0",
            "_model_name": "LayoutModel",
            "_view_count": null,
            "_view_module": "@jupyter-widgets/base",
            "_view_module_version": "1.2.0",
            "_view_name": "LayoutView",
            "align_content": null,
            "align_items": null,
            "align_self": null,
            "border": null,
            "bottom": null,
            "display": null,
            "flex": null,
            "flex_flow": null,
            "grid_area": null,
            "grid_auto_columns": null,
            "grid_auto_flow": null,
            "grid_auto_rows": null,
            "grid_column": null,
            "grid_gap": null,
            "grid_row": null,
            "grid_template_areas": null,
            "grid_template_columns": null,
            "grid_template_rows": null,
            "height": null,
            "justify_content": null,
            "justify_items": null,
            "left": null,
            "margin": null,
            "max_height": null,
            "max_width": null,
            "min_height": null,
            "min_width": null,
            "object_fit": null,
            "object_position": null,
            "order": null,
            "overflow": null,
            "overflow_x": null,
            "overflow_y": null,
            "padding": null,
            "right": null,
            "top": null,
            "visibility": null,
            "width": null
          }
        },
        "edbd96e4d4994fbcb0624414cf822376": {
          "model_module": "@jupyter-widgets/controls",
          "model_name": "ProgressStyleModel",
          "model_module_version": "1.5.0",
          "state": {
            "_model_module": "@jupyter-widgets/controls",
            "_model_module_version": "1.5.0",
            "_model_name": "ProgressStyleModel",
            "_view_count": null,
            "_view_module": "@jupyter-widgets/base",
            "_view_module_version": "1.2.0",
            "_view_name": "StyleView",
            "bar_color": null,
            "description_width": ""
          }
        },
        "56183d1f2d7a4350a011ac04e859b310": {
          "model_module": "@jupyter-widgets/base",
          "model_name": "LayoutModel",
          "model_module_version": "1.2.0",
          "state": {
            "_model_module": "@jupyter-widgets/base",
            "_model_module_version": "1.2.0",
            "_model_name": "LayoutModel",
            "_view_count": null,
            "_view_module": "@jupyter-widgets/base",
            "_view_module_version": "1.2.0",
            "_view_name": "LayoutView",
            "align_content": null,
            "align_items": null,
            "align_self": null,
            "border": null,
            "bottom": null,
            "display": null,
            "flex": null,
            "flex_flow": null,
            "grid_area": null,
            "grid_auto_columns": null,
            "grid_auto_flow": null,
            "grid_auto_rows": null,
            "grid_column": null,
            "grid_gap": null,
            "grid_row": null,
            "grid_template_areas": null,
            "grid_template_columns": null,
            "grid_template_rows": null,
            "height": null,
            "justify_content": null,
            "justify_items": null,
            "left": null,
            "margin": null,
            "max_height": null,
            "max_width": null,
            "min_height": null,
            "min_width": null,
            "object_fit": null,
            "object_position": null,
            "order": null,
            "overflow": null,
            "overflow_x": null,
            "overflow_y": null,
            "padding": null,
            "right": null,
            "top": null,
            "visibility": null,
            "width": null
          }
        },
        "954006a636d7450090dac193d327becf": {
          "model_module": "@jupyter-widgets/controls",
          "model_name": "DescriptionStyleModel",
          "model_module_version": "1.5.0",
          "state": {
            "_model_module": "@jupyter-widgets/controls",
            "_model_module_version": "1.5.0",
            "_model_name": "DescriptionStyleModel",
            "_view_count": null,
            "_view_module": "@jupyter-widgets/base",
            "_view_module_version": "1.2.0",
            "_view_name": "StyleView",
            "description_width": ""
          }
        },
        "7b760a8bbbc3475593903ef73ee69499": {
          "model_module": "@jupyter-widgets/controls",
          "model_name": "HBoxModel",
          "model_module_version": "1.5.0",
          "state": {
            "_dom_classes": [],
            "_model_module": "@jupyter-widgets/controls",
            "_model_module_version": "1.5.0",
            "_model_name": "HBoxModel",
            "_view_count": null,
            "_view_module": "@jupyter-widgets/controls",
            "_view_module_version": "1.5.0",
            "_view_name": "HBoxView",
            "box_style": "",
            "children": [
              "IPY_MODEL_7bceec9fa69f47a89e5e0de9bd02faa0",
              "IPY_MODEL_3d72734c77534ed3a2372b456ff3114c",
              "IPY_MODEL_8d91540f11e242dabd588fbfb4a738e1"
            ],
            "layout": "IPY_MODEL_1423f5fe264a400ab76c5d71e8a6fcb5"
          }
        },
        "7bceec9fa69f47a89e5e0de9bd02faa0": {
          "model_module": "@jupyter-widgets/controls",
          "model_name": "HTMLModel",
          "model_module_version": "1.5.0",
          "state": {
            "_dom_classes": [],
            "_model_module": "@jupyter-widgets/controls",
            "_model_module_version": "1.5.0",
            "_model_name": "HTMLModel",
            "_view_count": null,
            "_view_module": "@jupyter-widgets/controls",
            "_view_module_version": "1.5.0",
            "_view_name": "HTMLView",
            "description": "",
            "description_tooltip": null,
            "layout": "IPY_MODEL_1a8b2b6ee42b4d6b8910a1af11052bcc",
            "placeholder": "​",
            "style": "IPY_MODEL_060c1c4fd361408b9aa3b42c1229b584",
            "value": "tokenizer.json: 100%"
          }
        },
        "3d72734c77534ed3a2372b456ff3114c": {
          "model_module": "@jupyter-widgets/controls",
          "model_name": "FloatProgressModel",
          "model_module_version": "1.5.0",
          "state": {
            "_dom_classes": [],
            "_model_module": "@jupyter-widgets/controls",
            "_model_module_version": "1.5.0",
            "_model_name": "FloatProgressModel",
            "_view_count": null,
            "_view_module": "@jupyter-widgets/controls",
            "_view_module_version": "1.5.0",
            "_view_name": "ProgressView",
            "bar_style": "success",
            "description": "",
            "description_tooltip": null,
            "layout": "IPY_MODEL_d98a932671e9443eb213417b6c1744a5",
            "max": 1961828,
            "min": 0,
            "orientation": "horizontal",
            "style": "IPY_MODEL_2c1f9e4d51ed4e4b9e34f0f43483c714",
            "value": 1961828
          }
        },
        "8d91540f11e242dabd588fbfb4a738e1": {
          "model_module": "@jupyter-widgets/controls",
          "model_name": "HTMLModel",
          "model_module_version": "1.5.0",
          "state": {
            "_dom_classes": [],
            "_model_module": "@jupyter-widgets/controls",
            "_model_module_version": "1.5.0",
            "_model_name": "HTMLModel",
            "_view_count": null,
            "_view_module": "@jupyter-widgets/controls",
            "_view_module_version": "1.5.0",
            "_view_name": "HTMLView",
            "description": "",
            "description_tooltip": null,
            "layout": "IPY_MODEL_67ae0d3cae2c401eb461e3eb6b0600f2",
            "placeholder": "​",
            "style": "IPY_MODEL_d4390d6d40b34c32b55e401d16bfc440",
            "value": " 1.96M/1.96M [00:00&lt;00:00, 10.7MB/s]"
          }
        },
        "1423f5fe264a400ab76c5d71e8a6fcb5": {
          "model_module": "@jupyter-widgets/base",
          "model_name": "LayoutModel",
          "model_module_version": "1.2.0",
          "state": {
            "_model_module": "@jupyter-widgets/base",
            "_model_module_version": "1.2.0",
            "_model_name": "LayoutModel",
            "_view_count": null,
            "_view_module": "@jupyter-widgets/base",
            "_view_module_version": "1.2.0",
            "_view_name": "LayoutView",
            "align_content": null,
            "align_items": null,
            "align_self": null,
            "border": null,
            "bottom": null,
            "display": null,
            "flex": null,
            "flex_flow": null,
            "grid_area": null,
            "grid_auto_columns": null,
            "grid_auto_flow": null,
            "grid_auto_rows": null,
            "grid_column": null,
            "grid_gap": null,
            "grid_row": null,
            "grid_template_areas": null,
            "grid_template_columns": null,
            "grid_template_rows": null,
            "height": null,
            "justify_content": null,
            "justify_items": null,
            "left": null,
            "margin": null,
            "max_height": null,
            "max_width": null,
            "min_height": null,
            "min_width": null,
            "object_fit": null,
            "object_position": null,
            "order": null,
            "overflow": null,
            "overflow_x": null,
            "overflow_y": null,
            "padding": null,
            "right": null,
            "top": null,
            "visibility": null,
            "width": null
          }
        },
        "1a8b2b6ee42b4d6b8910a1af11052bcc": {
          "model_module": "@jupyter-widgets/base",
          "model_name": "LayoutModel",
          "model_module_version": "1.2.0",
          "state": {
            "_model_module": "@jupyter-widgets/base",
            "_model_module_version": "1.2.0",
            "_model_name": "LayoutModel",
            "_view_count": null,
            "_view_module": "@jupyter-widgets/base",
            "_view_module_version": "1.2.0",
            "_view_name": "LayoutView",
            "align_content": null,
            "align_items": null,
            "align_self": null,
            "border": null,
            "bottom": null,
            "display": null,
            "flex": null,
            "flex_flow": null,
            "grid_area": null,
            "grid_auto_columns": null,
            "grid_auto_flow": null,
            "grid_auto_rows": null,
            "grid_column": null,
            "grid_gap": null,
            "grid_row": null,
            "grid_template_areas": null,
            "grid_template_columns": null,
            "grid_template_rows": null,
            "height": null,
            "justify_content": null,
            "justify_items": null,
            "left": null,
            "margin": null,
            "max_height": null,
            "max_width": null,
            "min_height": null,
            "min_width": null,
            "object_fit": null,
            "object_position": null,
            "order": null,
            "overflow": null,
            "overflow_x": null,
            "overflow_y": null,
            "padding": null,
            "right": null,
            "top": null,
            "visibility": null,
            "width": null
          }
        },
        "060c1c4fd361408b9aa3b42c1229b584": {
          "model_module": "@jupyter-widgets/controls",
          "model_name": "DescriptionStyleModel",
          "model_module_version": "1.5.0",
          "state": {
            "_model_module": "@jupyter-widgets/controls",
            "_model_module_version": "1.5.0",
            "_model_name": "DescriptionStyleModel",
            "_view_count": null,
            "_view_module": "@jupyter-widgets/base",
            "_view_module_version": "1.2.0",
            "_view_name": "StyleView",
            "description_width": ""
          }
        },
        "d98a932671e9443eb213417b6c1744a5": {
          "model_module": "@jupyter-widgets/base",
          "model_name": "LayoutModel",
          "model_module_version": "1.2.0",
          "state": {
            "_model_module": "@jupyter-widgets/base",
            "_model_module_version": "1.2.0",
            "_model_name": "LayoutModel",
            "_view_count": null,
            "_view_module": "@jupyter-widgets/base",
            "_view_module_version": "1.2.0",
            "_view_name": "LayoutView",
            "align_content": null,
            "align_items": null,
            "align_self": null,
            "border": null,
            "bottom": null,
            "display": null,
            "flex": null,
            "flex_flow": null,
            "grid_area": null,
            "grid_auto_columns": null,
            "grid_auto_flow": null,
            "grid_auto_rows": null,
            "grid_column": null,
            "grid_gap": null,
            "grid_row": null,
            "grid_template_areas": null,
            "grid_template_columns": null,
            "grid_template_rows": null,
            "height": null,
            "justify_content": null,
            "justify_items": null,
            "left": null,
            "margin": null,
            "max_height": null,
            "max_width": null,
            "min_height": null,
            "min_width": null,
            "object_fit": null,
            "object_position": null,
            "order": null,
            "overflow": null,
            "overflow_x": null,
            "overflow_y": null,
            "padding": null,
            "right": null,
            "top": null,
            "visibility": null,
            "width": null
          }
        },
        "2c1f9e4d51ed4e4b9e34f0f43483c714": {
          "model_module": "@jupyter-widgets/controls",
          "model_name": "ProgressStyleModel",
          "model_module_version": "1.5.0",
          "state": {
            "_model_module": "@jupyter-widgets/controls",
            "_model_module_version": "1.5.0",
            "_model_name": "ProgressStyleModel",
            "_view_count": null,
            "_view_module": "@jupyter-widgets/base",
            "_view_module_version": "1.2.0",
            "_view_name": "StyleView",
            "bar_color": null,
            "description_width": ""
          }
        },
        "67ae0d3cae2c401eb461e3eb6b0600f2": {
          "model_module": "@jupyter-widgets/base",
          "model_name": "LayoutModel",
          "model_module_version": "1.2.0",
          "state": {
            "_model_module": "@jupyter-widgets/base",
            "_model_module_version": "1.2.0",
            "_model_name": "LayoutModel",
            "_view_count": null,
            "_view_module": "@jupyter-widgets/base",
            "_view_module_version": "1.2.0",
            "_view_name": "LayoutView",
            "align_content": null,
            "align_items": null,
            "align_self": null,
            "border": null,
            "bottom": null,
            "display": null,
            "flex": null,
            "flex_flow": null,
            "grid_area": null,
            "grid_auto_columns": null,
            "grid_auto_flow": null,
            "grid_auto_rows": null,
            "grid_column": null,
            "grid_gap": null,
            "grid_row": null,
            "grid_template_areas": null,
            "grid_template_columns": null,
            "grid_template_rows": null,
            "height": null,
            "justify_content": null,
            "justify_items": null,
            "left": null,
            "margin": null,
            "max_height": null,
            "max_width": null,
            "min_height": null,
            "min_width": null,
            "object_fit": null,
            "object_position": null,
            "order": null,
            "overflow": null,
            "overflow_x": null,
            "overflow_y": null,
            "padding": null,
            "right": null,
            "top": null,
            "visibility": null,
            "width": null
          }
        },
        "d4390d6d40b34c32b55e401d16bfc440": {
          "model_module": "@jupyter-widgets/controls",
          "model_name": "DescriptionStyleModel",
          "model_module_version": "1.5.0",
          "state": {
            "_model_module": "@jupyter-widgets/controls",
            "_model_module_version": "1.5.0",
            "_model_name": "DescriptionStyleModel",
            "_view_count": null,
            "_view_module": "@jupyter-widgets/base",
            "_view_module_version": "1.2.0",
            "_view_name": "StyleView",
            "description_width": ""
          }
        },
        "49913527ec824018a7604250d5aad6a0": {
          "model_module": "@jupyter-widgets/controls",
          "model_name": "HBoxModel",
          "model_module_version": "1.5.0",
          "state": {
            "_dom_classes": [],
            "_model_module": "@jupyter-widgets/controls",
            "_model_module_version": "1.5.0",
            "_model_name": "HBoxModel",
            "_view_count": null,
            "_view_module": "@jupyter-widgets/controls",
            "_view_module_version": "1.5.0",
            "_view_name": "HBoxView",
            "box_style": "",
            "children": [
              "IPY_MODEL_b9272685eea542cb9b0a3d56b1085226",
              "IPY_MODEL_db169b84961b446d96cad413200ff756",
              "IPY_MODEL_4b058231c4c546bdb8c1698abdbc2883"
            ],
            "layout": "IPY_MODEL_a7f41a89750a4acf866542bdd4b360ee"
          }
        },
        "b9272685eea542cb9b0a3d56b1085226": {
          "model_module": "@jupyter-widgets/controls",
          "model_name": "HTMLModel",
          "model_module_version": "1.5.0",
          "state": {
            "_dom_classes": [],
            "_model_module": "@jupyter-widgets/controls",
            "_model_module_version": "1.5.0",
            "_model_name": "HTMLModel",
            "_view_count": null,
            "_view_module": "@jupyter-widgets/controls",
            "_view_module_version": "1.5.0",
            "_view_name": "HTMLView",
            "description": "",
            "description_tooltip": null,
            "layout": "IPY_MODEL_c4b9ea5a783242b197888079960befcd",
            "placeholder": "​",
            "style": "IPY_MODEL_070fa78b61d54808a4b7afc6c77a6c7f",
            "value": "model.safetensors: 100%"
          }
        },
        "db169b84961b446d96cad413200ff756": {
          "model_module": "@jupyter-widgets/controls",
          "model_name": "FloatProgressModel",
          "model_module_version": "1.5.0",
          "state": {
            "_dom_classes": [],
            "_model_module": "@jupyter-widgets/controls",
            "_model_module_version": "1.5.0",
            "_model_name": "FloatProgressModel",
            "_view_count": null,
            "_view_module": "@jupyter-widgets/controls",
            "_view_module_version": "1.5.0",
            "_view_name": "ProgressView",
            "bar_style": "success",
            "description": "",
            "description_tooltip": null,
            "layout": "IPY_MODEL_8408e24b0f2e4a6fabc30b3ac302526a",
            "max": 714290682,
            "min": 0,
            "orientation": "horizontal",
            "style": "IPY_MODEL_9af6b66e4ba8428fb3c7cb673548c1e6",
            "value": 714290682
          }
        },
        "4b058231c4c546bdb8c1698abdbc2883": {
          "model_module": "@jupyter-widgets/controls",
          "model_name": "HTMLModel",
          "model_module_version": "1.5.0",
          "state": {
            "_dom_classes": [],
            "_model_module": "@jupyter-widgets/controls",
            "_model_module_version": "1.5.0",
            "_model_name": "HTMLModel",
            "_view_count": null,
            "_view_module": "@jupyter-widgets/controls",
            "_view_module_version": "1.5.0",
            "_view_name": "HTMLView",
            "description": "",
            "description_tooltip": null,
            "layout": "IPY_MODEL_bb9afdbb70f64e5b9b2241d97631043a",
            "placeholder": "​",
            "style": "IPY_MODEL_5dbcc3aefe994f15b0abebbc2f5aad20",
            "value": " 714M/714M [00:02&lt;00:00, 267MB/s]"
          }
        },
        "a7f41a89750a4acf866542bdd4b360ee": {
          "model_module": "@jupyter-widgets/base",
          "model_name": "LayoutModel",
          "model_module_version": "1.2.0",
          "state": {
            "_model_module": "@jupyter-widgets/base",
            "_model_module_version": "1.2.0",
            "_model_name": "LayoutModel",
            "_view_count": null,
            "_view_module": "@jupyter-widgets/base",
            "_view_module_version": "1.2.0",
            "_view_name": "LayoutView",
            "align_content": null,
            "align_items": null,
            "align_self": null,
            "border": null,
            "bottom": null,
            "display": null,
            "flex": null,
            "flex_flow": null,
            "grid_area": null,
            "grid_auto_columns": null,
            "grid_auto_flow": null,
            "grid_auto_rows": null,
            "grid_column": null,
            "grid_gap": null,
            "grid_row": null,
            "grid_template_areas": null,
            "grid_template_columns": null,
            "grid_template_rows": null,
            "height": null,
            "justify_content": null,
            "justify_items": null,
            "left": null,
            "margin": null,
            "max_height": null,
            "max_width": null,
            "min_height": null,
            "min_width": null,
            "object_fit": null,
            "object_position": null,
            "order": null,
            "overflow": null,
            "overflow_x": null,
            "overflow_y": null,
            "padding": null,
            "right": null,
            "top": null,
            "visibility": null,
            "width": null
          }
        },
        "c4b9ea5a783242b197888079960befcd": {
          "model_module": "@jupyter-widgets/base",
          "model_name": "LayoutModel",
          "model_module_version": "1.2.0",
          "state": {
            "_model_module": "@jupyter-widgets/base",
            "_model_module_version": "1.2.0",
            "_model_name": "LayoutModel",
            "_view_count": null,
            "_view_module": "@jupyter-widgets/base",
            "_view_module_version": "1.2.0",
            "_view_name": "LayoutView",
            "align_content": null,
            "align_items": null,
            "align_self": null,
            "border": null,
            "bottom": null,
            "display": null,
            "flex": null,
            "flex_flow": null,
            "grid_area": null,
            "grid_auto_columns": null,
            "grid_auto_flow": null,
            "grid_auto_rows": null,
            "grid_column": null,
            "grid_gap": null,
            "grid_row": null,
            "grid_template_areas": null,
            "grid_template_columns": null,
            "grid_template_rows": null,
            "height": null,
            "justify_content": null,
            "justify_items": null,
            "left": null,
            "margin": null,
            "max_height": null,
            "max_width": null,
            "min_height": null,
            "min_width": null,
            "object_fit": null,
            "object_position": null,
            "order": null,
            "overflow": null,
            "overflow_x": null,
            "overflow_y": null,
            "padding": null,
            "right": null,
            "top": null,
            "visibility": null,
            "width": null
          }
        },
        "070fa78b61d54808a4b7afc6c77a6c7f": {
          "model_module": "@jupyter-widgets/controls",
          "model_name": "DescriptionStyleModel",
          "model_module_version": "1.5.0",
          "state": {
            "_model_module": "@jupyter-widgets/controls",
            "_model_module_version": "1.5.0",
            "_model_name": "DescriptionStyleModel",
            "_view_count": null,
            "_view_module": "@jupyter-widgets/base",
            "_view_module_version": "1.2.0",
            "_view_name": "StyleView",
            "description_width": ""
          }
        },
        "8408e24b0f2e4a6fabc30b3ac302526a": {
          "model_module": "@jupyter-widgets/base",
          "model_name": "LayoutModel",
          "model_module_version": "1.2.0",
          "state": {
            "_model_module": "@jupyter-widgets/base",
            "_model_module_version": "1.2.0",
            "_model_name": "LayoutModel",
            "_view_count": null,
            "_view_module": "@jupyter-widgets/base",
            "_view_module_version": "1.2.0",
            "_view_name": "LayoutView",
            "align_content": null,
            "align_items": null,
            "align_self": null,
            "border": null,
            "bottom": null,
            "display": null,
            "flex": null,
            "flex_flow": null,
            "grid_area": null,
            "grid_auto_columns": null,
            "grid_auto_flow": null,
            "grid_auto_rows": null,
            "grid_column": null,
            "grid_gap": null,
            "grid_row": null,
            "grid_template_areas": null,
            "grid_template_columns": null,
            "grid_template_rows": null,
            "height": null,
            "justify_content": null,
            "justify_items": null,
            "left": null,
            "margin": null,
            "max_height": null,
            "max_width": null,
            "min_height": null,
            "min_width": null,
            "object_fit": null,
            "object_position": null,
            "order": null,
            "overflow": null,
            "overflow_x": null,
            "overflow_y": null,
            "padding": null,
            "right": null,
            "top": null,
            "visibility": null,
            "width": null
          }
        },
        "9af6b66e4ba8428fb3c7cb673548c1e6": {
          "model_module": "@jupyter-widgets/controls",
          "model_name": "ProgressStyleModel",
          "model_module_version": "1.5.0",
          "state": {
            "_model_module": "@jupyter-widgets/controls",
            "_model_module_version": "1.5.0",
            "_model_name": "ProgressStyleModel",
            "_view_count": null,
            "_view_module": "@jupyter-widgets/base",
            "_view_module_version": "1.2.0",
            "_view_name": "StyleView",
            "bar_color": null,
            "description_width": ""
          }
        },
        "bb9afdbb70f64e5b9b2241d97631043a": {
          "model_module": "@jupyter-widgets/base",
          "model_name": "LayoutModel",
          "model_module_version": "1.2.0",
          "state": {
            "_model_module": "@jupyter-widgets/base",
            "_model_module_version": "1.2.0",
            "_model_name": "LayoutModel",
            "_view_count": null,
            "_view_module": "@jupyter-widgets/base",
            "_view_module_version": "1.2.0",
            "_view_name": "LayoutView",
            "align_content": null,
            "align_items": null,
            "align_self": null,
            "border": null,
            "bottom": null,
            "display": null,
            "flex": null,
            "flex_flow": null,
            "grid_area": null,
            "grid_auto_columns": null,
            "grid_auto_flow": null,
            "grid_auto_rows": null,
            "grid_column": null,
            "grid_gap": null,
            "grid_row": null,
            "grid_template_areas": null,
            "grid_template_columns": null,
            "grid_template_rows": null,
            "height": null,
            "justify_content": null,
            "justify_items": null,
            "left": null,
            "margin": null,
            "max_height": null,
            "max_width": null,
            "min_height": null,
            "min_width": null,
            "object_fit": null,
            "object_position": null,
            "order": null,
            "overflow": null,
            "overflow_x": null,
            "overflow_y": null,
            "padding": null,
            "right": null,
            "top": null,
            "visibility": null,
            "width": null
          }
        },
        "5dbcc3aefe994f15b0abebbc2f5aad20": {
          "model_module": "@jupyter-widgets/controls",
          "model_name": "DescriptionStyleModel",
          "model_module_version": "1.5.0",
          "state": {
            "_model_module": "@jupyter-widgets/controls",
            "_model_module_version": "1.5.0",
            "_model_name": "DescriptionStyleModel",
            "_view_count": null,
            "_view_module": "@jupyter-widgets/base",
            "_view_module_version": "1.2.0",
            "_view_name": "StyleView",
            "description_width": ""
          }
        }
      }
    }
  },
  "cells": [
    {
      "cell_type": "markdown",
      "source": [
        "# Hindi dataset"
      ],
      "metadata": {
        "id": "Ihg0tKPJTieD"
      }
    },
    {
      "cell_type": "code",
      "source": [
        "import numpy as np\n",
        "import tensorflow as tf\n",
        "import pandas as pd\n",
        "from sklearn.model_selection import train_test_split\n",
        "from sklearn.preprocessing import LabelEncoder\n",
        "from tensorflow.keras.preprocessing.text import Tokenizer\n",
        "from tensorflow.keras.preprocessing.sequence import pad_sequences\n",
        "from tensorflow.keras.models import Sequential\n",
        "from tensorflow.keras.layers import Embedding, Conv1D, GlobalMaxPooling1D, Dense, Dropout\n",
        "from tensorflow.keras.callbacks import EarlyStopping\n",
        "from sklearn.metrics import classification_report"
      ],
      "metadata": {
        "id": "7aQ50uVcCXm4"
      },
      "execution_count": 32,
      "outputs": []
    },
    {
      "cell_type": "code",
      "source": [
        "emotion_hindi_df = pd.read_csv('/content/Emotion_attached_final_hindi.csv')\n",
        "emotion_hindi_df.head()"
      ],
      "metadata": {
        "colab": {
          "base_uri": "https://localhost:8080/",
          "height": 204
        },
        "id": "fnxCUxtACf0X",
        "outputId": "57bf96a1-9167-4c66-c26b-0099ac7d67e2"
      },
      "execution_count": 33,
      "outputs": [
        {
          "output_type": "execute_result",
          "data": {
            "text/plain": [
              "                                    Text_description emotion_label\n",
              "0  परधनमतर नरदर मद अमरक रषटरपत ज बइडन क बच पछल दन...      positive\n",
              "1  मर पत चहत थ क म हमश तयर सज सवर रह म मथ बड बद ल...      positive\n",
              "2  गजरत म लगतर ह रह भर बरश क करण जल म बढ क सथत बन...      positive\n",
              "3  अवन लखर परस परलपक म महलओ क मटर एयर रइफल सटडग स...         anger\n",
              "4  परस परलपक खल क शरआत अगसत स ह चक ह ओपनग सरमन म ...      negative"
            ],
            "text/html": [
              "\n",
              "  <div id=\"df-0329f195-d0e1-4e16-a2f2-4da7a23bbfb7\" class=\"colab-df-container\">\n",
              "    <div>\n",
              "<style scoped>\n",
              "    .dataframe tbody tr th:only-of-type {\n",
              "        vertical-align: middle;\n",
              "    }\n",
              "\n",
              "    .dataframe tbody tr th {\n",
              "        vertical-align: top;\n",
              "    }\n",
              "\n",
              "    .dataframe thead th {\n",
              "        text-align: right;\n",
              "    }\n",
              "</style>\n",
              "<table border=\"1\" class=\"dataframe\">\n",
              "  <thead>\n",
              "    <tr style=\"text-align: right;\">\n",
              "      <th></th>\n",
              "      <th>Text_description</th>\n",
              "      <th>emotion_label</th>\n",
              "    </tr>\n",
              "  </thead>\n",
              "  <tbody>\n",
              "    <tr>\n",
              "      <th>0</th>\n",
              "      <td>परधनमतर नरदर मद अमरक रषटरपत ज बइडन क बच पछल दन...</td>\n",
              "      <td>positive</td>\n",
              "    </tr>\n",
              "    <tr>\n",
              "      <th>1</th>\n",
              "      <td>मर पत चहत थ क म हमश तयर सज सवर रह म मथ बड बद ल...</td>\n",
              "      <td>positive</td>\n",
              "    </tr>\n",
              "    <tr>\n",
              "      <th>2</th>\n",
              "      <td>गजरत म लगतर ह रह भर बरश क करण जल म बढ क सथत बन...</td>\n",
              "      <td>positive</td>\n",
              "    </tr>\n",
              "    <tr>\n",
              "      <th>3</th>\n",
              "      <td>अवन लखर परस परलपक म महलओ क मटर एयर रइफल सटडग स...</td>\n",
              "      <td>anger</td>\n",
              "    </tr>\n",
              "    <tr>\n",
              "      <th>4</th>\n",
              "      <td>परस परलपक खल क शरआत अगसत स ह चक ह ओपनग सरमन म ...</td>\n",
              "      <td>negative</td>\n",
              "    </tr>\n",
              "  </tbody>\n",
              "</table>\n",
              "</div>\n",
              "    <div class=\"colab-df-buttons\">\n",
              "\n",
              "  <div class=\"colab-df-container\">\n",
              "    <button class=\"colab-df-convert\" onclick=\"convertToInteractive('df-0329f195-d0e1-4e16-a2f2-4da7a23bbfb7')\"\n",
              "            title=\"Convert this dataframe to an interactive table.\"\n",
              "            style=\"display:none;\">\n",
              "\n",
              "  <svg xmlns=\"http://www.w3.org/2000/svg\" height=\"24px\" viewBox=\"0 -960 960 960\">\n",
              "    <path d=\"M120-120v-720h720v720H120Zm60-500h600v-160H180v160Zm220 220h160v-160H400v160Zm0 220h160v-160H400v160ZM180-400h160v-160H180v160Zm440 0h160v-160H620v160ZM180-180h160v-160H180v160Zm440 0h160v-160H620v160Z\"/>\n",
              "  </svg>\n",
              "    </button>\n",
              "\n",
              "  <style>\n",
              "    .colab-df-container {\n",
              "      display:flex;\n",
              "      gap: 12px;\n",
              "    }\n",
              "\n",
              "    .colab-df-convert {\n",
              "      background-color: #E8F0FE;\n",
              "      border: none;\n",
              "      border-radius: 50%;\n",
              "      cursor: pointer;\n",
              "      display: none;\n",
              "      fill: #1967D2;\n",
              "      height: 32px;\n",
              "      padding: 0 0 0 0;\n",
              "      width: 32px;\n",
              "    }\n",
              "\n",
              "    .colab-df-convert:hover {\n",
              "      background-color: #E2EBFA;\n",
              "      box-shadow: 0px 1px 2px rgba(60, 64, 67, 0.3), 0px 1px 3px 1px rgba(60, 64, 67, 0.15);\n",
              "      fill: #174EA6;\n",
              "    }\n",
              "\n",
              "    .colab-df-buttons div {\n",
              "      margin-bottom: 4px;\n",
              "    }\n",
              "\n",
              "    [theme=dark] .colab-df-convert {\n",
              "      background-color: #3B4455;\n",
              "      fill: #D2E3FC;\n",
              "    }\n",
              "\n",
              "    [theme=dark] .colab-df-convert:hover {\n",
              "      background-color: #434B5C;\n",
              "      box-shadow: 0px 1px 3px 1px rgba(0, 0, 0, 0.15);\n",
              "      filter: drop-shadow(0px 1px 2px rgba(0, 0, 0, 0.3));\n",
              "      fill: #FFFFFF;\n",
              "    }\n",
              "  </style>\n",
              "\n",
              "    <script>\n",
              "      const buttonEl =\n",
              "        document.querySelector('#df-0329f195-d0e1-4e16-a2f2-4da7a23bbfb7 button.colab-df-convert');\n",
              "      buttonEl.style.display =\n",
              "        google.colab.kernel.accessAllowed ? 'block' : 'none';\n",
              "\n",
              "      async function convertToInteractive(key) {\n",
              "        const element = document.querySelector('#df-0329f195-d0e1-4e16-a2f2-4da7a23bbfb7');\n",
              "        const dataTable =\n",
              "          await google.colab.kernel.invokeFunction('convertToInteractive',\n",
              "                                                    [key], {});\n",
              "        if (!dataTable) return;\n",
              "\n",
              "        const docLinkHtml = 'Like what you see? Visit the ' +\n",
              "          '<a target=\"_blank\" href=https://colab.research.google.com/notebooks/data_table.ipynb>data table notebook</a>'\n",
              "          + ' to learn more about interactive tables.';\n",
              "        element.innerHTML = '';\n",
              "        dataTable['output_type'] = 'display_data';\n",
              "        await google.colab.output.renderOutput(dataTable, element);\n",
              "        const docLink = document.createElement('div');\n",
              "        docLink.innerHTML = docLinkHtml;\n",
              "        element.appendChild(docLink);\n",
              "      }\n",
              "    </script>\n",
              "  </div>\n",
              "\n",
              "\n",
              "    <div id=\"df-4a909dac-e4fd-46fd-9a61-33563ccf0ea5\">\n",
              "      <button class=\"colab-df-quickchart\" onclick=\"quickchart('df-4a909dac-e4fd-46fd-9a61-33563ccf0ea5')\"\n",
              "                title=\"Suggest charts\"\n",
              "                style=\"display:none;\">\n",
              "\n",
              "<svg xmlns=\"http://www.w3.org/2000/svg\" height=\"24px\"viewBox=\"0 0 24 24\"\n",
              "     width=\"24px\">\n",
              "    <g>\n",
              "        <path d=\"M19 3H5c-1.1 0-2 .9-2 2v14c0 1.1.9 2 2 2h14c1.1 0 2-.9 2-2V5c0-1.1-.9-2-2-2zM9 17H7v-7h2v7zm4 0h-2V7h2v10zm4 0h-2v-4h2v4z\"/>\n",
              "    </g>\n",
              "</svg>\n",
              "      </button>\n",
              "\n",
              "<style>\n",
              "  .colab-df-quickchart {\n",
              "      --bg-color: #E8F0FE;\n",
              "      --fill-color: #1967D2;\n",
              "      --hover-bg-color: #E2EBFA;\n",
              "      --hover-fill-color: #174EA6;\n",
              "      --disabled-fill-color: #AAA;\n",
              "      --disabled-bg-color: #DDD;\n",
              "  }\n",
              "\n",
              "  [theme=dark] .colab-df-quickchart {\n",
              "      --bg-color: #3B4455;\n",
              "      --fill-color: #D2E3FC;\n",
              "      --hover-bg-color: #434B5C;\n",
              "      --hover-fill-color: #FFFFFF;\n",
              "      --disabled-bg-color: #3B4455;\n",
              "      --disabled-fill-color: #666;\n",
              "  }\n",
              "\n",
              "  .colab-df-quickchart {\n",
              "    background-color: var(--bg-color);\n",
              "    border: none;\n",
              "    border-radius: 50%;\n",
              "    cursor: pointer;\n",
              "    display: none;\n",
              "    fill: var(--fill-color);\n",
              "    height: 32px;\n",
              "    padding: 0;\n",
              "    width: 32px;\n",
              "  }\n",
              "\n",
              "  .colab-df-quickchart:hover {\n",
              "    background-color: var(--hover-bg-color);\n",
              "    box-shadow: 0 1px 2px rgba(60, 64, 67, 0.3), 0 1px 3px 1px rgba(60, 64, 67, 0.15);\n",
              "    fill: var(--button-hover-fill-color);\n",
              "  }\n",
              "\n",
              "  .colab-df-quickchart-complete:disabled,\n",
              "  .colab-df-quickchart-complete:disabled:hover {\n",
              "    background-color: var(--disabled-bg-color);\n",
              "    fill: var(--disabled-fill-color);\n",
              "    box-shadow: none;\n",
              "  }\n",
              "\n",
              "  .colab-df-spinner {\n",
              "    border: 2px solid var(--fill-color);\n",
              "    border-color: transparent;\n",
              "    border-bottom-color: var(--fill-color);\n",
              "    animation:\n",
              "      spin 1s steps(1) infinite;\n",
              "  }\n",
              "\n",
              "  @keyframes spin {\n",
              "    0% {\n",
              "      border-color: transparent;\n",
              "      border-bottom-color: var(--fill-color);\n",
              "      border-left-color: var(--fill-color);\n",
              "    }\n",
              "    20% {\n",
              "      border-color: transparent;\n",
              "      border-left-color: var(--fill-color);\n",
              "      border-top-color: var(--fill-color);\n",
              "    }\n",
              "    30% {\n",
              "      border-color: transparent;\n",
              "      border-left-color: var(--fill-color);\n",
              "      border-top-color: var(--fill-color);\n",
              "      border-right-color: var(--fill-color);\n",
              "    }\n",
              "    40% {\n",
              "      border-color: transparent;\n",
              "      border-right-color: var(--fill-color);\n",
              "      border-top-color: var(--fill-color);\n",
              "    }\n",
              "    60% {\n",
              "      border-color: transparent;\n",
              "      border-right-color: var(--fill-color);\n",
              "    }\n",
              "    80% {\n",
              "      border-color: transparent;\n",
              "      border-right-color: var(--fill-color);\n",
              "      border-bottom-color: var(--fill-color);\n",
              "    }\n",
              "    90% {\n",
              "      border-color: transparent;\n",
              "      border-bottom-color: var(--fill-color);\n",
              "    }\n",
              "  }\n",
              "</style>\n",
              "\n",
              "      <script>\n",
              "        async function quickchart(key) {\n",
              "          const quickchartButtonEl =\n",
              "            document.querySelector('#' + key + ' button');\n",
              "          quickchartButtonEl.disabled = true;  // To prevent multiple clicks.\n",
              "          quickchartButtonEl.classList.add('colab-df-spinner');\n",
              "          try {\n",
              "            const charts = await google.colab.kernel.invokeFunction(\n",
              "                'suggestCharts', [key], {});\n",
              "          } catch (error) {\n",
              "            console.error('Error during call to suggestCharts:', error);\n",
              "          }\n",
              "          quickchartButtonEl.classList.remove('colab-df-spinner');\n",
              "          quickchartButtonEl.classList.add('colab-df-quickchart-complete');\n",
              "        }\n",
              "        (() => {\n",
              "          let quickchartButtonEl =\n",
              "            document.querySelector('#df-4a909dac-e4fd-46fd-9a61-33563ccf0ea5 button');\n",
              "          quickchartButtonEl.style.display =\n",
              "            google.colab.kernel.accessAllowed ? 'block' : 'none';\n",
              "        })();\n",
              "      </script>\n",
              "    </div>\n",
              "\n",
              "    </div>\n",
              "  </div>\n"
            ],
            "application/vnd.google.colaboratory.intrinsic+json": {
              "type": "dataframe",
              "variable_name": "emotion_hindi_df",
              "summary": "{\n  \"name\": \"emotion_hindi_df\",\n  \"rows\": 12037,\n  \"fields\": [\n    {\n      \"column\": \"Text_description\",\n      \"properties\": {\n        \"dtype\": \"string\",\n        \"num_unique_values\": 12037,\n        \"samples\": [\n          \"\\u0939\\u0925\\u0915\\u0930\\u0918\\u093e \\u092c\\u0941\\u0928\\u0915\\u0930\\u094b\\u0902 \\u0915\\u094b \\u0914\\u0930 \\u0905\\u0927\\u093f\\u0915 \\u0938\\u0939\\u093e\\u092f\\u0924\\u093e \\u092a\\u094d\\u0930\\u0926\\u093e\\u0928 \\u0915\\u0930\\u0928\\u0947 \\u0915\\u0940 \\u0926\\u0943\\u0937\\u094d\\u091f\\u093f \\u0938\\u0947 \\u092e\\u0947\\u0930\\u0940 \\u0938\\u0930\\u0915\\u093e\\u0930 \\u0939\\u0925\\u0915\\u0930\\u0918\\u093e \\u0915\\u094d\\u0937\\u0947\\u0924\\u094d\\u0930 \\u0915\\u0947 \\u0932\\u093f\\u090f \\u0930\\u093f\\u092f\\u093e\\u092f\\u0924\\u0940 \\u0926\\u0930 \\u092a\\u0930 \\u090b\\u0923 \\u092a\\u094d\\u0930\\u0926\\u093e\\u0928 \\u0915\\u0930\\u0928\\u0947 \\u0915\\u0940 \\u092f\\u094b\\u091c\\u0928\\u093e \\u092a\\u0930 \\u0935\\u093f\\u091a\\u093e\\u0930 \\u0915\\u0930 \\u0930\\u0939\\u0940 \\u0939\\u0948 \\u0924\\u093e\\u0915\\u093f \\u0932\\u0917\\u092d\\u0917 10 \\u0932\\u093e\\u0916 \\u0939\\u0925\\u0915\\u0930\\u0918\\u093e \\u092c\\u0941\\u0928\\u0915\\u0930\\u094b\\u0902 \\u0915\\u094b \\u0932\\u093e\\u092d \\u0926\\u093f\\u092f\\u093e \\u091c\\u093e \\u0938\\u0915\\u0947\\u0964\",\n          \"\\u092c\\u095d\\u0924\\u0940 \\u092a\\u094d\\u0930\\u0924\\u093f\\u0938\\u094d\\u092a\\u0930\\u094d\\u0927\\u093e (\\u0939\\u0930 \\u0938\\u0930\\u094d\\u0915\\u093f\\u0932 \\u0915\\u0947 \\u0932\\u093f\\u090f 13 \\u0932\\u093e\\u0907\\u0938\\u0947\\u0902\\u0938), \\u0918\\u091f\\u0924\\u093e \\u091f\\u0948\\u0930\\u093f\\u092b (\\u0926\\u0941\\u0928\\u093f\\u092f\\u093e \\u092e\\u0947\\u0902 \\u0938\\u092c\\u0938\\u0947 \\u0915\\u092e, \\u092a\\u094d\\u0930\\u0924\\u093f \\u0938\\u0947\\u0915\\u0902\\u0921 \\u092c\\u093f\\u0932\\u093f\\u0902\\u0917 \\u0915\\u0947 \\u0915\\u093e\\u0930\\u0923 \\u0906\\u0917\\u0947 \\u0914\\u0930 \\u0917\\u093f\\u0930\\u093e\\u0935\\u091f), \\u092a\\u094d\\u0930\\u0924\\u093f \\u0917\\u094d\\u0930\\u093e\\u0939\\u0915 \\u0914\\u0938\\u0924 \\u0915\\u092e\\u093e\\u0908 \\u092e\\u0947\\u0902 \\u0924\\u0947\\u091c\\u0940 \\u0938\\u0947 \\u0917\\u093f\\u0930\\u093e\\u0935\\u091f, \\u0915\\u094d\\u092f\\u094b\\u0902\\u0915\\u093f \\u0928\\u090f \\u0917\\u094d\\u0930\\u093e\\u0939\\u0915 \\u092e\\u0941\\u0916\\u094d\\u092f \\u0930\\u0942\\u092a \\u0938\\u0947 \\u0909\\u092a-\\u0928\\u0917\\u0930 \\u0914\\u0930 \\u0917\\u094d\\u0930\\u093e\\u092e\\u0940\\u0923 \\u0907\\u0932\\u093e\\u0915\\u094b\\u0902 \\u0915\\u0947 \\u0939\\u0948\\u0902 \\u091c\\u094b \\u0915\\u092e \\u0916\\u0930\\u094d\\u091a \\u0915\\u0930\\u0924\\u0947 \\u0939\\u0948\\u0902 \\u0914\\u0930 \\u0905\\u0927\\u093f\\u0915 \\u0915\\u0930 (\\u0915\\u0941\\u0932 \\u092e\\u093f\\u0932\\u093e\\u0915\\u0930 \\u0932\\u0917\\u092d\\u0917 30 \\u092b\\u0940\\u0938\\u0926\\u0940) \\u0928\\u0947 \\u0928 \\u0938\\u093f\\u0930\\u094d\\u092b \\u0907\\u0938 \\u092e\\u0948\\u0926\\u093e\\u0928 \\u092e\\u0947\\u0902 \\u0928\\u090f \\u0909\\u0924\\u0930\\u0928\\u0947 \\u0935\\u093e\\u0932\\u094b\\u0902, \\u092c\\u0932\\u094d\\u0915\\u093f \\u092a\\u0941\\u0930\\u093e\\u0928\\u0940 \\u0915\\u0902\\u092a\\u0928\\u093f\\u092f\\u094b\\u0902 \\u0915\\u0940 \\u0906\\u0915\\u093e\\u0902\\u0915\\u094d\\u0937\\u093e\\u0913\\u0902 \\u0915\\u094b \\u092c\\u093f\\u0916\\u0947\\u0930 \\u0915\\u0930 \\u0930\\u0916 \\u0926\\u093f\\u092f\\u093e \\u0939\\u0948 \\u0914\\u0930 \\u0909\\u0938 \\u0938\\u092a\\u0928\\u0947 \\u0915\\u094b \\u092d\\u0940 \\u0924\\u094b\\u095c \\u0926\\u093f\\u092f\\u093e \\u0939\\u0948, \\u091c\\u093f\\u0938\\u092e\\u0947\\u0902 \\u0938\\u092d\\u0940 \\u0915\\u094b \\u0932\\u0917\\u0924\\u093e \\u0925\\u093e \\u0915\\u093f \\u0932\\u093e\\u0907\\u0938\\u0947\\u0902\\u0938 \\u090f\\u0915 \\u0914\\u0930 \\u0938\\u0941\\u0928\\u0940\\u0932 \\u092e\\u093f\\u0924\\u094d\\u0924\\u0932 \\u092c\\u0928\\u0928\\u0947 \\u0915\\u093e \\u091c\\u0930\\u093f\\u092f\\u093e \\u0939\\u0948\\u0964\",\n          \"\\u0926\\u0932\\u0932 \\u0915 \\u0909\\u092a\\u0930\\u091c\\u092f\\u092a\\u0932 \\u0935\\u0915 \\u0938\\u0915\\u0938\\u0928 \\u0932\\u0916\\u0915 \\u0905\\u0930\\u0927\\u0924 \\u0930\\u092f \\u0915 \\u0916\\u0932\\u092b \\u0917\\u0930\\u0915\\u0928\\u0928 \\u0917\\u0924\\u0935\\u0927\\u092f \\u0930\\u0915\\u0925\\u092e \\u0905\\u0927\\u0928\\u092f\\u092e \\u092f\\u0928 \\u092f\\u090f\\u092a\\u090f \\u0915 \\u0924\\u0939\\u0924 \\u092e\\u0915\\u0926\\u092e \\u091a\\u0932\\u090f \\u091c\\u0928 \\u0915 \\u0905\\u0928\\u092e\\u0924 \\u0926 \\u0926 \\u0939 \\u0909\\u0928\\u0915 \\u0938\\u0925 \\u0939 \\u0915\\u0936\\u092e\\u0930 \\u0915 \\u0921\\u0915\\u091f\\u0930 \\u0936\\u0916 \\u0936\\u0915\\u0924 \\u0939\\u0938\\u0928 \\u0915 \\u0916\\u0932\\u092b \\u092d \\u0915\\u0921 \\u0915\\u0928\\u0928 \\u0915 \\u0924\\u0939\\u0924 \\u0915\\u0938 \\u091a\\u0932\\u0917 \\u092f \\u092e\\u092e\\u0932 \\u0938\\u0932 \\u092a\\u0930\\u0928 \\u0939 \\u0905\\u0930\\u0927\\u0924 \\u0930\\u092f \\u092d\\u0930\\u0924 \\u0915 \\u090f\\u0915\\u0924 \\u0905\\u0916\\u0921\\u0924 \\u0915 \\u0916\\u0932\\u092b \\u091f\\u092a\\u092a\\u0923 \\u0915\\u0930\\u0928 \\u0915 \\u0906\\u0930\\u092a \\u0939 \\u092a\\u0930\\u0927\\u0928\\u092e\\u0924\\u0930 \\u0928\\u0930\\u0926\\u0930 \\u092e\\u0926 \\u0915 \\u0928\\u0924\\u092f \\u0915 \\u092e\\u0916\\u0930 \\u0906\\u0932\\u091a\\u0915 \\u0930\\u0939 \\u0905\\u0930\\u0927\\u0924 \\u0930\\u092f \\u0938\\u0932 \\u092e \\u0926\\u0932\\u0932 \\u092e \\u0926\\u0930\\u091c \\u0915\\u0930\\u0908 \\u0917\\u0908 \\u090f\\u092b\\u0906\\u0908\\u0906\\u0930 \\u0915 \\u0924\\u0939\\u0924 \\u092f \\u092e\\u0915\\u0926\\u092e \\u091a\\u0932\\u092f \\u091c\\u090f\\u0917 \\u092a\\u091b\\u0932 \\u0938\\u0932 \\u0905\\u0915\\u091f\\u092c\\u0930 \\u092e \\u091f\\u0932\\u0935\\u091c\\u0928 \\u091a\\u0928\\u0932 \\u0905\\u0932\\u091c\\u091c\\u0930 \\u0915 \\u0926\\u090f \\u0917\\u090f \\u0907\\u091f\\u0930\\u0935\\u092f \\u092e \\u0915\\u0936\\u092e\\u0930 \\u0915 \\u092a\\u0932\\u0935\\u092e \\u0939\\u092e\\u0932 \\u0915 \\u0938\\u092c\\u0927 \\u092e \\u092a\\u090f\\u092e \\u0928\\u0930\\u0926\\u0930 \\u092e\\u0926 \\u0938 \\u091c\\u0921 \\u0938\\u0935\\u0932 \\u0930\\u092f \\u0915\\u0939 \\u0925 \\u0915 \\u092e \\u0939\\u092e\\u0936 \\u092a\\u0930\\u0927\\u0928\\u092e\\u0924\\u0930 \\u0928\\u0930\\u0926\\u0930 \\u092e\\u0926 \\u0915 \\u0916\\u0932\\u092b \\u0930\\u0939 \\u0939 \\u0938\\u0932 \\u092e \\u0917\\u091c\\u0930\\u0924 \\u0915 \\u092e\\u0916\\u092f\\u092e\\u0924\\u0930 \\u0925 \\u092d \\u0935\\u0930\\u0937\\u0920 \\u092a\\u0924\\u0930\\u0915\\u0930 \\u0915\\u0930\\u0923 \\u0925\\u092a\\u0930 \\u0915 \\u0926\\u090f \\u0907\\u091f\\u0930\\u0935\\u092f \\u092e \\u0909\\u0928\\u0939\\u0928 \\u0915\\u0939 \\u0925 \\u0915 \\u0938\\u0924\\u0924\\u0927\\u0930 \\u092c\\u091c\\u092a \\u092b\\u0938\\u0935\\u0926 \\u0939 \\u0926\\u0928 \\u092f \\u0926\\u0936 \\u0909\\u0938\\u0915 \\u0916\\u0932\\u092b \\u0916\\u0921 \\u0939\\u0917 \\u092c\\u092c\\u0938 \\u0939\\u0926 \\u0915 \\u0935\\u0939\\u091f\\u0938\\u0910\\u092a \\u091a\\u0928\\u0932 \\u0938 \\u091c\\u0921\\u0928 \\u0915 \\u0932\\u090f \\u0915\\u0932\\u0915 \\u0905\\u092a\\u0928 \\u0915\\u0924\\u092c \\u0926 \\u0917\\u0921 \\u0911\\u092b \\u0938\\u092e\\u0932 \\u0925\\u0917\\u0938 \\u0915 \\u0932\\u090f \\u0938\\u0932 \\u092e \\u092c\\u0915\\u0930 \\u092a\\u0930\\u0938\\u0915\\u0930 \\u091c\\u0924\\u0928 \\u0935\\u0932 \\u0905\\u0930\\u0927\\u0924 \\u0930\\u092f \\u0915\\u0932 \\u0938 \\u0905\\u0927\\u0915 \\u0915\\u0924\\u092c \\u0932\\u0916 \\u0939 \\u0909\\u0928\\u0915 \\u0939\\u0932\\u092f \\u0915\\u0924\\u092c \\u0926 \\u092e\\u0928\\u0938\\u091f\\u0930 \\u0911\\u092b \\u0905\\u091f\\u092e\\u0938\\u091f \\u0939\\u092a\\u092a\\u0928\\u0938 \\u0928\\u0936\\u0928\\u0932 \\u092c\\u0915 \\u0915\\u0930\\u091f\\u0915\\u0938 \\u0938\\u0930\\u0915\\u0932 \\u0905\\u0935\\u0930\\u0921 \\u0915 \\u092b\\u0907\\u0932\\u0938\\u091f \\u092e \\u0938 \\u0925 \\u0926\\u0928\\u092d\\u0930 \\u0926\\u0928\\u092a\\u0930 \\u0916\\u092c\\u0930 \\u0932\\u0917\\u092d\\u0917 \\u0938\\u0932 \\u0915 \\u0939 \\u0909\\u0928\\u0939\\u0928 \\u0926\\u0932\\u0932 \\u0938\\u0915\\u0932 \\u0911\\u092b \\u0906\\u0930\\u0915\\u091f\\u0915\\u091a\\u0930 \\u0938 \\u092a\\u0922\\u0908 \\u0915 \\u0939 \\u0930\\u092f \\u0907\\u0938\\u0915 \\u092c\\u0926 \\u092a\\u0930\\u0921\\u0915\\u0936\\u0928 \\u0921\\u091c\\u0907\\u0928\\u0930 \\u0915 \\u0924\\u0930 \\u0915\\u092e \\u0915\\u092f \\u0905\\u0930\\u0927\\u0924 \\u0930\\u092f \\u0915 \\u091c\\u0926\\u0917 \\u0939\\u092e\\u0936 \\u0938 \\u0939 \\u0925\\u0921 \\u0905\\u0932\\u0917 \\u0930\\u0939 \\u0909\\u0928\\u0939\\u0928 \\u0938\\u0932 \\u0915 \\u0909\\u092e\\u0930 \\u092e \\u091b\\u0921 \\u0926\\u092f \\u0926\\u0932\\u0932 \\u0915 \\u0906\\u0930\\u0915\\u091f\\u0915\\u091a\\u0930 \\u0938\\u0915\\u0932 \\u092e \\u0917\\u0908 \\u0917\\u0935 \\u0915 \\u0938\\u092e\\u0926\\u0930\\u0924\\u091f \\u0909\\u0928\\u0939\\u0928 \\u0915\\u0915 \\u092c\\u091a \\u090f\\u0930\\u092c\\u0915\\u0938 \\u0938\\u0916\\u092f \\u0907\\u0921 \\u092b\\u0932\\u092e \\u092e \\u092d \\u0915\\u092e \\u0915\\u092f \\u0909\\u0928\\u0939\\u0928 \\u0905\\u092a\\u0928 \\u092a\\u0939\\u0932 \\u0909\\u092a\\u0928\\u092f\\u0938 \\u0932\\u0916\\u0928 \\u0938 \\u092a\\u0939\\u0932 \\u0915\\u0930\\u092c \\u092a\\u091a \\u0938\\u0932 \\u0938\\u0915\\u0930\\u0928\\u092a\\u0932 \\u092a\\u091f\\u0915\\u0925\\u090f \\u0932\\u0916 \\u0930\\u092f \\u0915 \\u0938\\u0932 \\u092e \\u0932\\u0928\\u0928\\u0928 \\u092b\\u0909\\u0921\\u0936\\u0928 \\u092a\\u0930\\u0907\\u091c \\u092b\\u0930 \\u0915\\u0932\\u091a\\u0930\\u0932 \\u092b\\u0930\\u0921\\u092e \\u092e \\u0938\\u0921\\u0928 \\u092a\\u0938 \\u092a\\u0930\\u0907\\u091c \\u092e \\u0928\\u0936\\u0928\\u0932 \\u0915\\u0909\\u0938\\u0932 \\u0911\\u092b \\u091f\\u091a\\u0930\\u0938 \\u0911\\u092b \\u0907\\u0917\\u0932\\u0936 \\u0915 \\u0938 \\u0926\\u092f \\u091c\\u0928 \\u0935\\u0932 \\u091c\\u0930\\u091c \\u0911\\u0930\\u0935\\u0932 \\u0905\\u0935\\u0930\\u0921 \\u0935\\u0936\\u0937\\u091f \\u0932\\u0916\\u0928 \\u0915 \\u0932\\u090f \\u0938\\u0932 \\u092e \\u0928\\u0930\\u092e\\u0928 \\u092e\\u0932\\u0930 \\u092a\\u0930\\u0907\\u091c \\u0938 \\u0938\\u092e\\u092e\\u0928\\u0924 \\u0915\\u092f \\u091c \\u091a\\u0915 \\u0939 \\u0905\\u0930\\u0927\\u0924 \\u0930\\u092f \\u0938\\u0924 \\u0928\\u0928\\u092b\\u0915\\u0936\\u0928\\u0932 \\u0915\\u0924\\u092c \\u092d \\u0932\\u0916 \\u0939 \\u0907\\u0928\\u092e \\u0938\\u0932 \\u092e \\u0906\\u0908 \\u0915\\u0938\\u091f \\u0911\\u092b \\u0932\\u0935\\u0917 \\u092d \\u0936\\u092e\\u0932 \\u0939 \\u091c\\u0938\\u092e \\u0935\\u0935\\u0926\\u0938\\u092a\\u0926 \\u0928\\u0930\\u092e\\u0926 \\u092c\\u0927 \\u092a\\u0930\\u092f\\u091c\\u0928 \\u092a\\u0930\\u092e\\u0923 \\u092a\\u0930\\u0915\\u0937\\u0923 \\u0915\\u0930\\u092f\\u0915\\u0930\\u092e \\u0915 \\u0932\\u090f \\u0938\\u0930\\u0915\\u0930 \\u0915 \\u0915\\u0921 \\u0906\\u0932\\u091a\\u0928 \\u0915 \\u0917\\u0908 \\u0939 \\u0907\\u0938\\u0915 \\u0905\\u0932\\u0935 \\u0909\\u0928\\u0939\\u0928 \\u0938\\u0932 \\u092e \\u092a\\u0935\\u0930 \\u092a\\u0932\\u091f\\u0915\\u0938 \\u0928\\u092e \\u0915 \\u0915\\u0924\\u092c \\u0932\\u0916 \\u091c \\u0928\\u092c\\u0927 \\u0915 \\u0938\\u0915\\u0932\\u0928 \\u0939 \\u0938\\u0932 \\u0909\\u0928\\u0915 \\u0926 \\u0905\\u0932\\u091c\\u092c\\u0930 \\u0911\\u092b \\u0907\\u0928\\u092b\\u0928\\u0907\\u091f \\u091c\\u0938\\u091f\\u0938 \\u092d \\u0906\\u0908 \\u0907\\u0938\\u0915 \\u092c\\u0926 \\u0938\\u0932 \\u092e \\u0926 \\u0911\\u0930\\u0921\\u0928\\u0930 \\u092a\\u0930\\u0938\\u0928\\u0938 \\u0917\\u0907\\u0921 \\u091f \\u090f\\u092e\\u092a\\u092f\\u0930 \\u0906\\u0908 \\u092b\\u0930 \\u0938\\u0932 \\u092e \\u0930\\u092f \\u0907\\u0921\\u092f \\u0932\\u0938\\u0928\\u0917 \\u091f \\u0917\\u0930\\u0938\\u0939\\u092a\\u0930\\u0938 \\u092b\\u0932\\u0921 \\u0928\\u091f\\u0938 \\u0911\\u0928 \\u0921\\u092e\\u0915\\u0930\\u0938 \\u0928\\u092e \\u0915 \\u0915\\u0924\\u092c \\u0932\\u0915\\u0930 \\u0906\\u0908 \\u092f \\u0915\\u0924\\u092c \\u0910\\u0938 \\u0928\\u092c\\u0927 \\u0932\\u0916 \\u0915 \\u0938\\u0917\\u0930\\u0939 \\u0925 \\u091c \\u0938\\u092e\\u0915\\u0932\\u0928 \\u092d\\u0930\\u0924 \\u092e \\u0932\\u0915\\u0924\\u0924\\u0930 \\u0915 \\u0905\\u0927\\u0930 \\u0939\\u0938\\u0938 \\u0915 \\u092a\\u0921\\u0924\\u0932 \\u0915\\u0930\\u0924 \\u0939 \\u0905\\u0930\\u0927\\u0924 \\u0928\\u0930\\u092e\\u0926 \\u092c\\u091a\\u0913 \\u0906\\u0926\\u0932\\u0928 \\u0938\\u0939\\u0924 \\u0926\\u0936 \\u0915 \\u0915\\u091b \\u0905\\u0928\\u092f \\u0906\\u0926\\u0932\\u0928 \\u092e \\u0938\\u0915\\u0930\\u092f \\u0930\\u092a \\u0938 \\u091c\\u0921 \\u0925 \\u0928\\u0930\\u092e\\u0926 \\u092c\\u091a\\u0913 \\u0906\\u0926\\u0932\\u0928 \\u092e\\u0927 \\u092a\\u091f\\u0915\\u0930 \\u0915 \\u0905\\u0917\\u0935\\u0908 \\u092e \\u092e\\u0928\\u0935\\u0927\\u0915\\u0930 \\u0915\\u0930\\u092f\\u0915\\u0930\\u0924\\u0913 \\u0915 \\u0917\\u091f \\u0915\\u092f \\u0925 \\u091c \\u0917\\u091c\\u0930\\u0924 \\u092e \\u0938\\u0930\\u0926\\u0930 \\u0938\\u0930\\u0935\\u0930 \\u092c\\u0927 \\u092a\\u0930\\u092f\\u091c\\u0928 \\u0915 \\u0935\\u091c\\u0939 \\u0938 \\u0935\\u0938\\u0925\\u092a\\u0924 \\u0906\\u0926\\u0935\\u0938\\u092f \\u0915 \\u0905\\u0927\\u0915\\u0930 \\u0915 \\u0932\\u090f \\u0906\\u0935\\u091c \\u0909\\u0920 \\u0930\\u0939 \\u0925 \\u0906\\u0926\\u0932\\u0928 \\u092e \\u0930\\u092f \\u0915 \\u092d\\u0917\\u0926\\u0930 \\u0915 \\u0917\\u091c\\u0930\\u0924 \\u0915 \\u0930\\u091c\\u0928\\u0924\\u0913 \\u0917\\u091c\\u0930\\u0924 \\u0935\\u0930\\u0927 \\u0930\\u0916 \\u0915 \\u0924\\u0930 \\u0926\\u0916 \\u0905\\u0930\\u0927\\u0924 \\u0930\\u092f \\u0915 \\u0932\\u0916 \\u0926 \\u090f\\u0921 \\u0911\\u092b \\u0907\\u092e\\u091c\\u0928\\u0936\\u0928 \\u0930\\u091c\\u0928\\u0924\\u0915 \\u0932\\u0916\\u0915 \\u0915 \\u0924\\u0930 \\u0909\\u0928\\u0915 \\u0936\\u0930\\u0906\\u0924 \\u0915 \\u0938\\u0915\\u0924 \\u0926\\u092f \\u0926 \\u0928\\u092f\\u092f\\u0930\\u0915 \\u091f\\u0907\\u092e\\u0938 \\u092e \\u0905\\u092a\\u0928 \\u0906\\u0932\\u0916 \\u092e \\u0938\\u0926\\u0927\\u0930\\u0925 \\u0926\\u092c \\u0930\\u092f \\u0915 \\u0906\\u0932\\u0916 \\u0915 \\u091c\\u0915\\u0930 \\u0915\\u0930\\u0924 \\u0939\\u090f \\u0932\\u0916 \\u0930\\u092f \\u092a\\u0930\\u092e\\u0923 \\u092a\\u0930\\u0915\\u0937\\u0923 \\u0915 \\u0938\\u092e\\u0930\\u0925\\u0915 \\u0938\\u0928\\u092f \\u0924\\u0915\\u0924 \\u0915 \\u092a\\u0930\\u0926\\u0930\\u0936\\u0928 \\u092e \\u0906\\u0928\\u0926 \\u0932\\u0928 \\u0915 \\u0906\\u0930\\u092a \\u0932\\u0917\\u092f \\u0909\\u0928\\u0939\\u0928 \\u0938\\u092e\\u0930\\u0925\\u0915 \\u0905\\u0927\\u0930\\u0937\\u091f\\u0930\\u0935\\u0926 \\u0915 \\u0917\\u0932 \\u0932\\u0917\\u092f \\u091c\\u0938\\u0915 \\u092c\\u0932 \\u0906\\u091c\\u0926 \\u0915 \\u092c\\u0926 \\u0926\\u0938\\u0930 \\u092c\\u0930 \\u092c\\u091c\\u092a \\u0938\\u0924\\u0924 \\u092e \\u0906\\u0908 \\u0930\\u092f \\u0915 \\u092f \\u0906\\u0932\\u0916 \\u0906\\u0909\\u091f\\u0932\\u0915 \\u092b\\u0930\\u091f\\u0932\\u0907\\u0928 \\u091c\\u0938 \\u092a\\u0930\\u0924\\u0937\\u0920\\u0924 \\u092a\\u0924\\u0930\\u0915\\u0913 \\u092e \\u090f\\u0915\\u0938\\u0925 \\u091b\\u092a \\u0909\\u0928\\u0939\\u0928 \\u0930\\u091c\\u0928\\u0924\\u0915 \\u0932\\u0916\\u0915 \\u0915 \\u0930\\u092a \\u092e \\u0906\\u0917\\u091c \\u0915\\u092f \\u0917\\u091c\\u0930\\u0924 \\u092e \\u0938\\u0932 \\u092e \\u0939\\u090f \\u0938\\u092a\\u0930\\u0926\\u092f\\u0915 \\u0926\\u0917 \\u0915 \\u0938\\u092e\\u092f \\u0938 \\u0939 \\u0928\\u0930\\u0926\\u0930 \\u092e\\u0926 \\u0915 \\u0938\\u0930\\u0915\\u0930 \\u0915 \\u0916\\u0932\\u092b \\u092e\\u0916\\u0930 \\u0930\\u0939 \\u0939 \\u092c\\u0926 \\u092e \\u0909\\u0928\\u0939\\u0928 \\u0913\\u0921\\u0936 \\u092e \\u092c\\u0915\\u0938\\u0907\\u091f \\u0916\\u0928\\u0928 \\u0915 \\u092f\\u091c\\u0928\\u0913 \\u092d \\u0905\\u092a\\u0928 \\u0930\\u092f \\u0930\\u0916 \\u0930\\u092f \\u092d\\u0930\\u0924 \\u092e \\u0928\\u0915\\u0938\\u0932 \\u0906\\u0926\\u0932\\u0928 \\u092d \\u0915\\u092b \\u0915\\u091b \\u0932\\u0916 \\u0939 \\u0905\\u0915\\u0938\\u0930 \\u0915\\u0939\\u0924 \\u0930\\u0939 \\u0939 \\u0915 \\u0906\\u0926\\u0935\\u0938 \\u091c\\u0938 \\u0915\\u091b \\u092d \\u0928\\u0939 \\u092e\\u0932\\u0924 \\u0938\\u0936\\u0938\\u0924\\u0930 \\u0938\\u0918\\u0930\\u0937 \\u092e \\u0936\\u092e\\u0932 \\u0939\\u0928 \\u0915 \\u0905\\u0932\\u0935 \\u0915\\u092f \\u0915\\u0930\\u0917 \\u0926\\u0932\\u0932 \\u0915 \\u0909\\u092a\\u0930\\u091c\\u092f\\u092a\\u0932 \\u0915 \\u0938 \\u0905\\u0930\\u0927\\u0924 \\u092f\\u090f\\u092a\\u090f \\u0915 \\u0924\\u0939\\u0924 \\u092e\\u0915\\u0926\\u092e \\u091a\\u0932\\u090f \\u091c\\u0928 \\u0915 \\u092e\\u091c\\u0930 \\u0915 \\u092c\\u0926 \\u092c\\u091c\\u092a \\u092a\\u0930\\u0935\\u0915\\u0924 \\u0924\\u0939\\u0928 \\u0938\\u0928\\u0939 \\u0930\\u092f \\u0915 \\u0938\\u0932 \\u092a\\u0930\\u0928 \\u092c\\u092f\\u0928 \\u0915 \\u0906\\u0932\\u091a\\u0928 \\u0915 \\u0909\\u0928\\u0939\\u0928 \\u0938\\u092e\\u091a\\u0930 \\u091a\\u0928\\u0932 \\u0938 \\u0915\\u0939 \\u0915 \\u0930\\u092f \\u0915 \\u0910\\u0938 \\u0917\\u0930\\u091c\\u092e\\u092e\\u0926\\u0930\\u0928 \\u092c\\u092f\\u0928 \\u0926\\u0928 \\u0915 \\u0906\\u0926\\u0924 \\u0939 \\u0905\\u0917\\u0930 \\u0905\\u0915\\u0932 \\u092e\\u092e\\u0932 \\u0915 \\u0926\\u0916\\u092f \\u0938\\u0932 \\u0915 \\u092e\\u092e\\u0932 \\u0939 \\u091c\\u0938\\u092e \\u0930\\u092f \\u0915\\u0925\\u0924 \\u0924\\u0930 \\u0915\\u0939 \\u0925 \\u0915 \\u0915\\u0936\\u092e\\u0930 \\u092d\\u0930\\u0924 \\u0915 \\u0905\\u092d\\u0928\\u0928 \\u0939\\u0938\\u0938 \\u0928\\u0939 \\u0939 \\u092e\\u092e\\u0932 \\u0915 \\u0924\\u0930\\u0915\\u0938\\u0917\\u0924 \\u0932\\u0928 \\u0915 \\u0932\\u090f \\u0924 \\u0909\\u092a\\u0930\\u091c\\u092f\\u092a\\u0932 \\u0915 \\u0924\\u0930\\u092b \\u0939\\u0928 \\u091a\\u0939\\u090f \\u0932\\u0915\\u0928 \\u0905\\u0930\\u0927\\u0924 \\u0930\\u092f \\u0915 \\u0938\\u0925 \\u0915\\u092e \\u091a\\u0915 \\u0932\\u0917 \\u0915 \\u0930\\u092f \\u0915\\u091b \\u0905\\u0932\\u0917 \\u0939 \\u0909\\u0926\\u0939\\u0930\\u0923 \\u0915 \\u0932\\u090f \\u0928\\u0930\\u092e\\u0926 \\u092c\\u091a\\u0913 \\u0906\\u0926\\u0932\\u0928 \\u092e \\u092e\\u0939\\u0924\\u0935\\u092a\\u0930\\u0923 \\u092d\\u092e\\u0915 \\u0928\\u092d\\u0928 \\u0935\\u0932 \\u0917\\u091c\\u0930\\u0924 \\u0915 \\u092a\\u0930\\u092f\\u0935\\u0930\\u0923 \\u0915\\u0930\\u092f\\u0915\\u0930\\u0924 \\u0930\\u0939\\u0924 \\u092a\\u0930\\u091c\\u092a\\u0924 \\u0915\\u0939\\u0924 \\u0939 \\u0915 \\u0909\\u0928\\u0939\\u0928 \\u0906\\u0926\\u0932\\u0928 \\u0915 \\u0926\\u0928 \\u092e \\u0926\\u0916 \\u0915 \\u0905\\u0930\\u0927\\u0924 \\u0915 \\u092e\\u0928 \\u092e \\u0906\\u0926\\u0935\\u0938\\u092f \\u0915 \\u0938\\u092e\\u0938\\u092f\\u0913 \\u0915 \\u0926\\u0928\\u092f \\u0915 \\u0938\\u092e\\u0928 \\u0930\\u0916\\u0928 \\u0915 \\u0905\\u0932\\u0917 \\u0939 \\u091c\\u0928\\u0928 \\u0925 \\u0930\\u0939\\u0924 \\u092a\\u0930\\u091c\\u092a\\u0924 \\u0915\\u0939\\u0924 \\u0939 \\u0906\\u0938\\u0928 \\u0938 \\u0906\\u092e \\u0932\\u0917 \\u0938 \\u091c\\u0921 \\u091c\\u0924 \\u0925 \\u092d\\u0930\\u0924 \\u092e \\u0926\\u0932\\u0924 \\u0906\\u0926\\u0935\\u0938\\u092f \\u092e\\u0938\\u0932\\u092e\\u0928 \\u091c\\u0938 \\u092c\\u091c\\u092c\\u0928 \\u0932\\u0917 \\u0915 \\u0906\\u0935\\u091c \\u0939 \\u0939\\u092e \\u0924 \\u0915\\u0930\\u092f\\u0915\\u0930\\u0924 \\u0915 \\u0924\\u0930 \\u0909\\u0928\\u0915 \\u092c\\u091c\\u092c\\u0928 \\u0932\\u0917 \\u0932\\u090f \\u0915\\u092e \\u0915\\u0930\\u0924 \\u0939 \\u0932\\u0915\\u0928 \\u0909\\u0928\\u0915 \\u0905\\u0930\\u0927\\u0924 \\u091c\\u0938 \\u0932\\u0917 \\u0939 \\u0939 \\u091c \\u0905\\u0924\\u0930\\u0930\\u0937\\u091f\\u0930\\u092f \\u0938\\u0924\\u0930 \\u0909\\u0928\\u0915 \\u0906\\u0935\\u091c \\u0915 \\u0938\\u092e\\u0928 \\u0932\\u0924 \\u0939 \\u0915\\u0939\\u0924 \\u0939 \\u092e\\u0928 \\u0906\\u0926\\u0932\\u0928 \\u092e \\u0909\\u0928\\u0915 \\u0938\\u0925 \\u092e\\u0932\\u0915\\u0930 \\u0915\\u092e \\u0915\\u092f \\u0939 \\u0938 \\u0939\\u092e \\u0905\\u091a\\u091b \\u0926\\u0938\\u0924 \\u0939 \\u092e \\u0915\\u0939 \\u0938\\u0915\\u0924 \\u0939 \\u0915 \\u091c \\u092d \\u0938\\u091a\\u0924 \\u0915\\u0930\\u0924 \\u0939 \\u0926\\u0922\\u0924 \\u0938 \\u0915\\u0930\\u0924 \\u0939 \\u0905\\u0927\\u0915\\u0936 \\u091c\\u0928\\u092e\\u0928 \\u0932\\u0916 \\u0915 \\u0909\\u0932\\u091f \\u0909\\u0928\\u0915 \\u091c\\u092e\\u0928 \\u0938\\u0924\\u0930 \\u0932\\u0917 \\u0938 \\u0917\\u0939\\u0930 \\u091c\\u0921\\u0935 \\u0939 \\u0905\\u092a\\u0928 \\u0906\\u0938\\u092a\\u0938 \\u0915 \\u0938\\u092d \\u0932\\u0917 \\u0915 \\u0909\\u0928\\u0915 \\u0928\\u092e \\u0938 \\u092a\\u0939\\u091a\\u0928 \\u0938\\u0915\\u0924 \\u0939 \\u092e\\u091c\\u0926\\u0930 \\u0915\\u0938\\u0928 \\u0936\\u0915\\u0924 \\u0938\\u0917\\u0920\\u0928 \\u0915 \\u0928\\u0916\\u0932 \\u0921 \\u092d \\u0928\\u0930\\u092e\\u0926 \\u092c\\u091a\\u0913 \\u0906\\u0926\\u0932\\u0928 \\u0915 \\u0926\\u0930\\u0928 \\u0905\\u0930\\u0927\\u0924 \\u0930\\u092f \\u0915 \\u0938\\u0925 \\u0915\\u092e \\u091a\\u0915 \\u0939 \\u0932\\u0916\\u0928 \\u0915 \\u092a\\u0930\\u0924 \\u0909\\u0928\\u0915 \\u091c\\u0928\\u0928 \\u0915 \\u092c\\u0930 \\u092e \\u092c\\u0924 \\u0915\\u0930\\u0924 \\u0939\\u090f \\u0915\\u0939\\u0924 \\u0939 \\u0909\\u0928\\u092e \\u0932\\u0916\\u0928 \\u0915 \\u0915\\u0936\\u0932 \\u0924 \\u0939 \\u0939 \\u0932\\u0915\\u0928 \\u0907\\u0938\\u0915 \\u0938\\u0925 \\u0939 \\u0939\\u092e\\u0936 \\u0908\\u092e\\u0928\\u0926\\u0930 \\u0938 \\u0932\\u0916\\u0915 \\u0915 \\u0927\\u0930\\u092e \\u0915 \\u092a\\u0932\\u0928 \\u0915\\u0930\\u0924 \\u0930\\u0939 \\u0939 \\u092c\\u0928 \\u0915\\u0938 \\u090f\\u091c\\u0921 \\u0915 \\u0909\\u0928\\u0939\\u0928 \\u0939\\u092e\\u0936 \\u0905\\u092a\\u0928 \\u092c\\u0924 \\u0915\\u0939 \\u0939 \\u091c\\u0928\\u092e\\u0928 \\u0932\\u0916\\u0915 \\u092e\\u0928\\u0935\\u0927\\u0915\\u0930 \\u0915\\u0930\\u092f\\u0915\\u0930\\u0924 \\u0915\\u0935\\u0924 \\u0915\\u0937\\u0923\\u0928 \\u0915 \\u092d \\u0915\\u091b \\u0915\\u0939\\u0928 \\u0939 \\u092e\\u0928\\u0924 \\u0939 \\u0915 \\u0935\\u0936\\u0935\\u0915 \\u0938\\u0924\\u0930 \\u092a\\u0930\\u0927\\u0928\\u092e\\u0924\\u0930 \\u0928\\u0930\\u0926\\u0930 \\u092e\\u0926 \\u0928\\u0939 \\u092c\\u0932\\u0915 \\u0905\\u0930\\u0927\\u0924 \\u0930\\u092f \\u092d\\u0930\\u0924 \\u0915 \\u092a\\u0930\\u0924\\u0928\\u0927\\u0924\\u0935 \\u0915\\u0930\\u0924 \\u0939 \\u0909\\u0928\\u0939\\u0928 \\u0915\\u0939 \\u0930\\u092f \\u0939\\u092e\\u092e\\u0924 \\u0932\\u0916\\u0915 \\u0939 \\u092e\\u091d \\u092f\\u0915\\u0928 \\u0939 \\u0915 \\u0938\\u0932 \\u092e \\u0915\\u0936\\u092e\\u0930 \\u092c\\u0932 \\u0930\\u0939 \\u0925 \\u0924 \\u0909\\u0928\\u0939 \\u092a\\u0924 \\u0925 \\u0915 \\u0909\\u0928\\u0939\\u0928 \\u0915\\u0924\\u0928 \\u092c\\u0921 \\u091c\\u0916\\u092e \\u0932\\u092f \\u0939 \\u0907\\u0938\\u0932\\u090f \\u092e\\u091d \\u0909\\u0928\\u0915 \\u091a\\u0924 \\u092d \\u0928\\u0939 \\u0939 \\u0932\\u0915\\u0928 \\u092f \\u092f\\u090f\\u092a\\u090f \\u0915 \\u0924\\u0939\\u0924 \\u092e\\u0915\\u0926\\u092e \\u0926\\u0928\\u092f \\u0915 \\u092f \\u092c\\u0924\\u0928 \\u0915 \\u0905\\u091a\\u091b \\u0924\\u0930\\u0915 \\u0939 \\u0915 \\u092d\\u0930\\u0924 \\u092e \\u0915\\u092f \\u0939 \\u0930\\u0939 \\u0939 \\u092a\\u0930\\u0927\\u0928\\u092e\\u0924\\u0930 \\u0915 \\u0906\\u0932\\u091a\\u0928 \\u0915\\u0930\\u0924 \\u0939\\u090f \\u0915\\u0935\\u0924 \\u0915\\u0937\\u0923\\u0928 \\u0915\\u0939 \\u092e\\u0926 \\u0916\\u0926 \\u0915 \\u0935\\u0936\\u0935\\u0915 \\u0938\\u0924\\u0930 \\u0909\\u091c\\u0917\\u0930 \\u0928\\u0939 \\u0930\\u0939 \\u092c\\u0932\\u0915 \\u0910\\u0938 \\u0915 \\u0916\\u0926 \\u0915 \\u0936\\u0930\\u092e\\u0926 \\u0930\\u0939 \\u0939 \\u092d\\u0930\\u0924\\u092f \\u0938\\u092e\\u091c \\u0915 \\u0938\\u092e\\u091d\\u0928 \\u0915 \\u0905\\u0930\\u0927\\u0924 \\u0930\\u092f \\u0915 \\u0915\\u0937\\u092e\\u0924 \\u0915 \\u092c\\u0930 \\u092e \\u0909\\u0928\\u0939\\u0928 \\u0915\\u0939 \\u0915 \\u0932\\u0917 \\u092e \\u0938 \\u0939 \\u091c\\u0928\\u092e \\u0915\\u091f\\u0915\\u091f \\u0908\\u092e\\u0928\\u0926\\u0930 \\u092d\\u0930 \\u0939 \\u0939\\u092e \\u0909\\u0928\\u0915 \\u0932\\u0916\\u0928 \\u092e \\u092f \\u0926\\u0916 \\u0938\\u0915\\u0924 \\u0939 \\u091c\\u092e\\u0928 \\u0939\\u0915\\u0915\\u0924 \\u0938 \\u091c\\u0921\\u0924 \\u0939 \\u0916\\u0926 \\u0915 \\u0938\\u092e\\u091c \\u0915 \\u0939\\u0938\\u0938 \\u092e\\u0928\\u0924 \\u0939 \\u0909\\u0928\\u092e \\u0905\\u092a\\u0928\\u092a\\u0928 \\u0915 \\u092d\\u0935\\u0928 \\u0939 \\u0915\\u0935\\u0924 \\u0915\\u0937\\u0923\\u0928 \\u0915\\u0939 \\u0930\\u092f \\u0915 \\u0915\\u092e \\u092e \\u0908\\u092e\\u0928\\u0926\\u0930 \\u0928\\u0937\\u0920 \\u0939 \\u0928\\u092f\\u092f\\u0930\\u0915 \\u092e \\u0930\\u0939\\u0928 \\u0935\\u0932 \\u092d\\u0930\\u0924\\u092f \\u0932\\u0916\\u0915 \\u0938\\u092a\\u0926\\u0915 \\u0938\\u0932\\u0932 \\u0924\\u0930\\u092a\\u0920 \\u0905\\u0930\\u0927\\u0924 \\u0930\\u092f \\u0915 \\u0939\\u092e\\u092e\\u0924 \\u0938\\u091a \\u092e \\u0938\\u092a\\u0937\\u091f\\u0924 \\u0915 \\u0938\\u0925\\u0938\\u0925 \\u0909\\u0928\\u0915 \\u091c\\u0928\\u0928 \\u0915 \\u092d \\u0924\\u0930\\u092b \\u0915\\u0930\\u0924 \\u0939 \\u0915\\u0939\\u0924 \\u0939 \\u092d\\u0932 \\u0939 \\u092e \\u0909\\u0928\\u0915 \\u0938\\u092d \\u0935\\u091a\\u0930 \\u0938 \\u0938\\u0939\\u092e\\u0924 \\u0939 \\u0938\\u0915 \\u0932\\u0915\\u0928 \\u092e \\u0909\\u0928\\u0915 \\u0916\\u0926 \\u0915 \\u0935\\u091a\\u0930 \\u0915 \\u0935\\u092f\\u0915\\u0924 \\u0915\\u0930\\u0928 \\u0915 \\u0905\\u0927\\u0915\\u0930 \\u0915 \\u0938\\u092e\\u092e\\u0928 \\u0915\\u0930\\u0924 \\u0939 \\u0939\\u092e\\u0936 \\u0939\\u0915 \\u0915 \\u092c\\u091a\\u0935 \\u0915\\u0930\\u0917 \\u0930\\u092f \\u0915 \\u0915\\u092e \\u0915 \\u092c\\u0930 \\u092e \\u092c\\u0924 \\u0915\\u0930\\u0924 \\u0939\\u090f \\u0915\\u0939\\u0924 \\u0939 \\u0909\\u0928\\u0915 \\u0935\\u091c\\u0939 \\u0938 \\u0939 \\u0924\\u0916 \\u092a\\u0930\\u0924\\u0915\\u0930\\u092f\\u090f \\u0906\\u0924 \\u0939 \\u091c \\u0932\\u0917 \\u0909\\u0928\\u0938 \\u0938\\u0939\\u092e\\u0924 \\u0939 \\u0909\\u0928\\u0915 \\u092c\\u0921 \\u091c\\u0936 \\u0915 \\u0938\\u0925 \\u092c\\u091a\\u0935 \\u0915\\u0930\\u0924 \\u0939 \\u0932\\u0915\\u0928 \\u091c \\u0909\\u0928\\u0938 \\u0905\\u0938\\u0939\\u092e\\u0924 \\u0939 \\u0909\\u0924\\u0928 \\u0939 \\u0936\\u0926\\u0926\\u0924 \\u0938 \\u0909\\u0928\\u0939 \\u0928\\u092a\\u0938\\u0926 \\u0915\\u0930\\u0924 \\u0939 \\u0926\\u0928 \\u092a\\u0915\\u0937 \\u0915 \\u092f \\u0935\\u091a\\u0930 \\u092e\\u091c\\u092c\\u0924 \\u0939\\u0924 \\u091c\\u090f\\u0917 \\u0932\\u0915\\u0928 \\u0909\\u0928\\u0915 \\u0905\\u0930\\u0927\\u0924 \\u0935\\u091a\\u0930 \\u0928\\u0939 \\u092c\\u0926\\u0932\\u0917 \\u0909\\u0928\\u0915 \\u0905\\u092c \\u0915\\u092f \\u0915\\u092e \\u0907\\u0938\\u0938 \\u092a\\u0930\\u092d\\u0935\\u0924 \\u0928\\u0939 \\u0939\\u0917 \\u091c\\u0935\\u0939\\u0930\\u0932\\u0932 \\u0928\\u0939\\u0930 \\u0935\\u0936\\u0935\\u0935\\u0926\\u092f\\u0932\\u092f \\u0915 \\u092a\\u0930\\u0935 \\u092a\\u0930\\u092b\\u0938\\u0930 \\u0918\\u0928\\u0936\\u092f\\u092e \\u0936\\u0939 \\u0905\\u0930\\u0927\\u0924 \\u0930\\u092f \\u0938 \\u092c\\u0930 \\u092e\\u0932 \\u091a\\u0915 \\u0939 \\u0936\\u0939 \\u0926\\u0930\\u0928 \\u092f \\u092a\\u092f \\u0915 \\u0905\\u0930\\u0927\\u0924 \\u0930\\u092f \\u092d\\u0930\\u0924\\u092f \\u0938\\u092e\\u091c \\u092e \\u0917\\u0939\\u0930 \\u092a\\u0920 \\u0930\\u0916\\u0924 \\u0939 \\u0905\\u092a\\u0928 \\u0932\\u0916\\u0928 \\u0915 \\u092a\\u0930\\u0924 \\u0938\\u092e\\u0930\\u092a\\u0924 \\u0939 \\u0915\\u0939\\u0924 \\u0939 \\u092e\\u0928 \\u092a\\u092f \\u0915 \\u0905\\u092a\\u0928 \\u0935\\u091a\\u0930 \\u0915 \\u0932\\u0915\\u0930 \\u092c\\u0939\\u0924 \\u0926\\u0922 \\u0939 \\u0905\\u0930\\u0927\\u0924 \\u0930\\u092f \\u0915 \\u0938\\u0925 \\u0915\\u092e \\u0915\\u0930\\u0928 \\u0935\\u0932 \\u092f \\u0909\\u0928\\u0915 \\u092a\\u0920\\u0915 \\u0930\\u0939 \\u0932\\u0917 \\u0915 \\u0909\\u0928\\u0915 \\u0916\\u0932\\u092b \\u092e\\u0915\\u0926\\u092e \\u091a\\u0932\\u0928 \\u0915 \\u092c\\u0930 \\u092e \\u0905\\u0932\\u0917\\u0905\\u0932\\u0917 \\u0930\\u092f \\u0939 \\u0938\\u0932\\u0932 \\u0924\\u0930\\u092a\\u0920 \\u0915\\u0939\\u0924 \\u0939 \\u0916\\u0926 \\u0915 \\u0915\\u092e\\u091c\\u0930 \\u0905\\u0938\\u0930\\u0915\\u0937\\u0924 \\u092e\\u0928\\u0928 \\u0935\\u0932 \\u0938\\u0930\\u0915\\u0930 \\u092f \\u0938\\u092e\\u091c \\u0939 \\u0905\\u0938\\u0939\\u092e\\u0924 \\u0915 \\u0938\\u0935\\u0930 \\u0915 \\u0926\\u092c \\u0938\\u0915\\u0924 \\u0939 \\u0928\\u0916\\u0932 \\u0921 \\u0938\\u0935\\u0932\\u092f \\u0932\\u0939\\u091c \\u092e \\u0915\\u0939\\u0924 \\u0939 \\u092e \\u0938\\u092e\\u091d \\u0928\\u0939 \\u092a \\u0930\\u0939 \\u0939 \\u0915 \\u0909\\u0928\\u092a\\u0930 \\u092e\\u0915\\u0926\\u092e \\u091a\\u0932\\u0915\\u0930 \\u092d\\u0930\\u0924 \\u0915\\u092f \\u0909\\u0926\\u0939\\u0930\\u0923 \\u092a\\u0936 \\u0930\\u0939 \\u0939 \\u0905\\u0917\\u0930 \\u0916\\u0926 \\u0915 \\u0905\\u092d\\u0935\\u092f\\u0915\\u0924 \\u0930\\u0939 \\u0939 \\u0924 \\u0909\\u0928\\u0915 \\u0905\\u092d\\u0935\\u092f\\u0915\\u0924 \\u0915 \\u092a\\u0938\\u0926 \\u092f \\u0928\\u092a\\u0938\\u0926 \\u0938\\u0915\\u0924 \\u0939 \\u0932\\u0915\\u0928 \\u092f\\u090f\\u092a\\u090f \\u0915 \\u0917\\u092d\\u0930 \\u0927\\u0930\\u0913 \\u0915 \\u0924\\u0939\\u0924 \\u092e\\u0915\\u0926\\u092e \\u0915\\u0938 \\u091a\\u0932 \\u0938\\u0915\\u0924 \\u0939 \\u092f \\u0910\\u0938 \\u0915\\u0928\\u0928 \\u0939 \\u091c \\u0906\\u0924\\u0915 \\u0917\\u0924\\u0935\\u0927\\u092f \\u0938 \\u091c\\u0921 \\u0939 \\u0926\\u0928\\u092f\\u092d\\u0930 \\u092e \\u0932\\u0917 \\u0939\\u0938\\u0917 \\u0909\\u0928\\u0939\\u0928 \\u0915\\u0939 \\u0915 \\u092f\\u090f\\u092a\\u090f \\u091c\\u0938 \\u0915\\u0928\\u0928 \\u0915 \\u0924\\u0939\\u0924 \\u0905\\u0930\\u0927\\u0924 \\u0930\\u092f \\u0915\\u0938 \\u091a\\u0932\\u0928 \\u0938 \\u0928\\u0936\\u091a\\u0924 \\u0924\\u0930 \\u0932\\u0915\\u0924\\u0924\\u0930\\u0915 \\u0930\\u0937\\u091f\\u0930 \\u0915 \\u0930\\u092a \\u092e \\u092d\\u0930\\u0924 \\u0915 \\u091b\\u0935 \\u0916\\u0930\\u092c \\u0939\\u0917 \\u0915\\u0939\\u0924 \\u0939 \\u0915 \\u092f \\u092a\\u0939\\u0932 \\u092c\\u0930 \\u0928\\u0939 \\u0930\\u092f \\u0938\\u0924\\u0924\\u0927\\u0930 \\u092a\\u0930\\u091f \\u0915 \\u0916\\u0932\\u092b \\u0916\\u0921 \\u0939 \\u0909\\u0928\\u0939\\u0928 \\u092a\\u0939\\u0932 \\u092d \\u0910\\u0938 \\u0915\\u092f \\u0939 \\u0924\\u092e\\u092e \\u092e\\u0936\\u0915\\u0932 \\u0915 \\u092c\\u0935\\u091c\\u0926 \\u0909\\u0928\\u0939\\u0928 \\u0926\\u0932\\u0924 \\u0906\\u0926\\u0935\\u0938\\u092f \\u092e\\u0938\\u0932\\u092e\\u0928 \\u0935\\u091a\\u0924 \\u0915 \\u092c\\u0930 \\u092e \\u0932\\u0916 \\u0939 \\u0909\\u0928\\u0939\\u0928 \\u0915\\u0939 \\u092e\\u0928 \\u0926\\u0916 \\u0939 \\u0915 \\u0939\\u0930 \\u092e\\u092e\\u0932 \\u0915 \\u092c\\u0926 \\u092a\\u0939\\u0932 \\u0938 \\u0915\\u0939 \\u0905\\u0927\\u0915 \\u092e\\u091c\\u092c\\u0924 \\u0938 \\u0938\\u092e\\u0928 \\u0906\\u0924 \\u0939 \\u0915\\u091b \\u0932\\u0916\\u0915 \\u0938\\u0932 \\u092a\\u0930\\u0928 \\u092e\\u092e\\u0932 \\u092e \\u0930\\u092f \\u0915 \\u0916\\u0932\\u092b \\u092e\\u0915\\u0926\\u092e \\u091a\\u0932\\u0928 \\u0915 \\u092e\\u091c\\u0930 \\u0926\\u0928 \\u0915 \\u0932\\u090f \\u0909\\u092a\\u0930\\u091c\\u092f\\u092a\\u0932 \\u0915 \\u0906\\u0932\\u091a\\u0928 \\u092d \\u0915 \\u0915\\u0935\\u0924 \\u0915\\u0937\\u0923\\u0928 \\u0915\\u0939 \\u0915 \\u092e\\u0926 \\u0938\\u0930\\u0915\\u0930 \\u0915 \\u0938 \\u0932\\u0916\\u0915 \\u092a\\u0924\\u0930\\u0915\\u0930 \\u0915\\u0930\\u092f\\u0915\\u0930\\u0924\\u0913 \\u092f\\u090f\\u092a\\u090f \\u0915 \\u0924\\u0939\\u0924 \\u0906\\u0930\\u092a \\u0932\\u0917\\u0928 \\u0905\\u092c \\u0909\\u092c\\u090a \\u0939 \\u0930\\u0939 \\u0939 \\u0915\\u0939\\u0924 \\u0939 \\u092e\\u0930 \\u092e\\u0928\\u0928 \\u0939 \\u0915 \\u092f \\u0938 \\u0909\\u0928\\u0915 \\u0932\\u090f \\u0909\\u0932\\u091f \\u092a\\u0921 \\u0938\\u0915\\u0924 \\u0939 \\u0915\\u092f\\u0915 \\u0926\\u0928\\u092f \\u0915 \\u092a\\u0924 \\u091a\\u0932 \\u091c\\u090f\\u0917 \\u0915 \\u0924\\u0928\\u0936\\u0939 \\u0939 \\u091c \\u0939\\u092e\\u0930 \\u0938\\u092e\\u092f \\u0915 \\u0938\\u092c\\u0938 \\u092e\\u0939\\u0928 \\u0932\\u0916\\u0915 \\u092e \\u0938 \\u0930\\u0937\\u091f\\u0930\\u0935\\u0930\\u0927 \\u0917\\u0924\\u0935\\u0927\\u092f \\u0915 \\u0906\\u0930\\u092a \\u0932\\u0917 \\u0930\\u0939 \\u0939 \\u092e\\u091d \\u0932\\u0917\\u0924 \\u0939 \\u0915 \\u0938 \\u092f \\u0918\\u091f\\u0928\\u0915\\u0930\\u092e \\u092d\\u0930\\u0924 \\u0915 \\u0932\\u0915\\u0924\\u0924\\u0930\\u0915 \\u0906\\u0926\\u0932\\u0928 \\u0915 \\u0932\\u090f \\u092c\\u0939\\u0924 \\u0905\\u091a\\u091b \\u0939 \\u0915\\u092f\\u0915 \\u092f \\u0926\\u0928\\u092f \\u0915 \\u0938\\u092e\\u0928 \\u0909\\u0928\\u0939 \\u092c\\u0928\\u0915\\u092c \\u0915\\u0930\\u0917 \\u092e\\u091d \\u0907\\u0938\\u092e \\u091c\\u0930 \\u092d \\u0938\\u0926\\u0939 \\u0928\\u0939 \\u0915 \\u0909\\u092a\\u0930\\u091c\\u092f\\u092a\\u0932 \\u0938\\u0930\\u092b \\u0938\\u0930\\u0915\\u0930 \\u0915 \\u0928\\u0930\\u0926\\u0936 \\u0915\\u092e \\u0930\\u0939 \\u0939 \\u0918\\u0928\\u0936\\u092f\\u092e \\u0936\\u0939 \\u0915 \\u092e\\u0928\\u0928 \\u0939 \\u0915 \\u0905\\u0930\\u0927\\u0924 \\u0930\\u092f \\u0915 \\u0916\\u0932\\u092b \\u092e\\u0915\\u0926\\u092e \\u091a\\u0932\\u0928 \\u0938 \\u0928\\u0936\\u091a\\u0924 \\u0924\\u0930 \\u0905\\u092d\\u0935\\u092f\\u0915\\u0924 \\u0915 \\u0906\\u091c\\u0926 \\u091c\\u0938 \\u0932\\u0915\\u0924\\u0924\\u0930\\u0915 \\u092e\\u092a\\u0926\\u0921 \\u092e \\u092d\\u0930\\u0924 \\u0915 \\u0930\\u0915\\u0917 \\u0916\\u0930\\u092c \\u0939\\u0917 \\u0936\\u0939 \\u0915 \\u0939 \\u091c\\u0928\\u092e\\u0928 \\u0932\\u0916\\u0915 \\u0906\\u0915\\u0930 \\u092a\\u091f\\u0932 \\u0915\\u0939 \\u092b\\u0930\\u0921\\u092e \\u0939\\u0909\\u0938 \\u0935\\u0930\\u092f\\u091f \\u0911\\u092b \\u0921\\u092e\\u0915\\u0930\\u0938\\u091c \\u0926 \\u0907\\u0915\\u0928\\u092e\\u0938\\u091f \\u0907\\u091f\\u0932\\u091c\\u0938 \\u092f\\u0928\\u091f \\u0938\\u0939\\u0924 \\u0935\\u0936\\u0935\\u0915 \\u0938\\u0924\\u0930 \\u0905\\u0928\\u092f \\u0921\\u092e\\u0915\\u0930\\u0938 \\u0907\\u0921\\u0915\\u091f\\u0930\\u0938 \\u092d\\u0930\\u0924 \\u0915 \\u0930\\u0915\\u0917 \\u0917\\u0930 \\u0939 \\u092e\\u091d \\u0932\\u0917\\u0924 \\u0939 \\u0915 \\u092f \\u0915\\u0938 \\u0935\\u0921\\u092c\\u0928 \\u0939 \\u0907\\u0938\\u0938 \\u0926\\u0928\\u092f \\u0915 \\u0938\\u0926\\u0936 \\u091c\\u090f\\u0917 \\u0915 \\u092e\\u0926 \\u0938\\u0930\\u0915\\u0930 \\u0915 \\u0932\\u090f \\u0905\\u0938\\u0939\\u092e\\u0924 \\u0905\\u0938\\u0939\\u0928\\u092f \\u0939 \\u0938\\u0932\\u0932 \\u0924\\u0930\\u092a\\u0920 \\u0915\\u0939\\u0924 \\u0939 \\u0905\\u0917\\u0930 \\u0909\\u0928\\u092a\\u0930 \\u092e\\u0915\\u0926\\u092e \\u091a\\u0932\\u092f \\u091c\\u0924 \\u0939 \\u0924 \\u0907\\u0938\\u0938 \\u092d\\u0930\\u0924 \\u0915 \\u0935\\u0936\\u0935\\u0915 \\u091b\\u0935 \\u0915 \\u0928\\u0915\\u0938\\u0928 \\u0939 \\u0939\\u0917 \\u0938\\u092d\\u092f \\u0932\\u0915\\u0924\\u0924\\u0930\\u0915 \\u0926\\u0936 \\u092e \\u0938\\u092e\\u091c \\u0905\\u092a\\u0928 \\u092a\\u0930\\u0924\\u0937\\u0920\\u0924 \\u0932\\u0916\\u0915 \\u0915\\u0932\\u0915\\u0930 \\u0915 \\u0938\\u092e\\u092e\\u0928 \\u0915\\u0930\\u0924 \\u0939 \\u092d\\u0932 \\u0939 \\u0936\\u0915\\u0924\\u0936\\u0932 \\u092a\\u0930\\u092d\\u0935\\u0936\\u0932 \\u0905\\u092d\\u091c\\u0924 \\u0909\\u0928\\u0915 \\u0935\\u091a\\u0930 \\u0915 \\u0928\\u092a\\u0938\\u0926 \\u0915\\u0930\\u0924 \\u0939 \\u0915\\u0935\\u0932 \\u0924\\u0928\\u0936\\u0939 \\u0936\\u0938\\u0928 \\u092e \\u0939 \\u0932\\u0916\\u0915 \\u0915 \\u0938\\u0924\\u092f \\u091c\\u0924 \\u0939 \\u0915\\u091b \\u0939 \\u0924 \\u092d \\u092f \\u0915\\u0938 \\u0926\\u0937\\u091f\\u0915\\u0923 \\u0915 \\u092e\\u091c\\u092c\\u0924 \\u0915\\u0930\\u0917 \\u0915 \\u0938\\u0938\\u0926\\u092f \\u092c\\u0939\\u092e\\u0924 \\u0916\\u0928 \\u0915 \\u092c\\u0935\\u091c\\u0926 \\u0928\\u0930\\u0926\\u0930 \\u092e\\u0926 \\u0915 \\u0938\\u0930\\u0915\\u0930 \\u0928\\u0939 \\u092c\\u0926\\u0932 \\u091a\\u0928\\u0935 \\u0928\\u0924\\u091c \\u0938 \\u0917\\u0932\\u0924 \\u0938\\u092c\\u0915 \\u0932 \\u0930\\u0939 \\u0939 \\u0905\\u0939\\u092e\\u0926\\u092c\\u0926 \\u0915 \\u0935\\u0930\\u0937\\u0920 \\u0905\\u0927\\u0915\\u0935\\u0915\\u0924 \\u0906\\u0908\\u090f\\u091a \\u0938\\u092f\\u0926 \\u0915\\u0939\\u0924 \\u0939 \\u092e\\u092e\\u0932 \\u092e \\u092f\\u090f\\u092a\\u090f \\u0915 \\u0927\\u0930\\u0913 \\u0915 \\u092e\\u091c\\u0930 \\u0926\\u0928 \\u092e \\u0905\\u0928\\u091a\\u0924 \\u0924\\u0930 \\u0926\\u0930 \\u0939\\u0908 \\u0939 \\u0926\\u0930 \\u0915 \\u0932\\u090f \\u0915\\u091b \\u0938\\u091f\\u0915 \\u0938\\u092a\\u0937\\u091f\\u0915\\u0930\\u0923 \\u0928\\u0939 \\u092e\\u0932\\u0924 \\u0905\\u0926\\u0932\\u0924 \\u0928\\u0936\\u091a\\u0924 \\u0930\\u092a \\u0938 \\u0905\\u0930\\u0927\\u0924 \\u0930\\u092f \\u0915 \\u0938\\u0928\\u0917 \\u0909\\u0928\\u0939\\u0928 \\u0915\\u0939 \\u0905\\u0930\\u0927\\u0924 \\u0930\\u092f \\u092d \\u0924\\u0930\\u0915 \\u092e\\u091c\\u0930 \\u092e \\u0926\\u0930 \\u0915 \\u0906\\u0927\\u0930 \\u092e\\u0915\\u0926\\u092e \\u0915 \\u0915\\u0930\\u091f \\u092e \\u091a\\u0928\\u0924 \\u0926 \\u0938\\u0915\\u0924 \\u0939 \\u092b\\u0930\\u091f\\u0932\\u0907\\u0928 \\u092e \\u091b\\u092a \\u0930\\u092a\\u0930\\u091f \\u0915 \\u0905\\u0928\\u0938\\u0930 \\u092f\\u090f\\u092a\\u090f \\u0915 \\u0924\\u0939\\u0924 \\u0930\\u092f \\u092e\\u0915\\u0926\\u092e \\u091a\\u0932\\u0928 \\u0915\\u0928\\u0928 \\u0930\\u092a \\u0938 \\u0915\\u092e\\u091c\\u0930 \\u0939 \\u0938\\u0915\\u0924 \\u0939 \\u0915\\u092f\\u0915 \\u0907\\u0938\\u092e \\u0938\\u092a\\u0937\\u091f\\u0924 \\u0915 \\u0915\\u092e \\u0939 \\u0930\\u092f \\u0915\\u0936\\u092e\\u0930 \\u0915 \\u092a\\u0930\\u0935 \\u092a\\u0930\\u092b\\u0938\\u0930 \\u0936\\u0916 \\u0936\\u0915\\u0924 \\u0939\\u0938\\u0928 \\u0915 \\u0916\\u0932\\u092b \\u0906\\u0908\\u092a\\u0938 \\u0915 \\u0927\\u0930 \\u090f \\u092c \\u092f\\u090f\\u092a\\u090f \\u0915 \\u0927\\u0930 \\u0915 \\u0924\\u0939\\u0924 \\u090f\\u092b\\u0906\\u0908\\u0906\\u0930 \\u0926\\u0930\\u091c \\u0915 \\u0917\\u0908 \\u0939 \\u0927\\u0930 \\u0927\\u0930\\u092e \\u091c\\u0924 \\u091c\\u0928\\u092e \\u0938\\u0925\\u0928 \\u0928\\u0935\\u0938 \\u092d\\u0937 \\u0906\\u0926 \\u0915 \\u0906\\u0927\\u0930 \\u0935\\u092d\\u0928\\u0928 \\u0938\\u092e\\u0939 \\u0915 \\u092c\\u091a \\u0935\\u092e\\u0928\\u0938\\u092f \\u0915 \\u092c\\u0922\\u0935 \\u0926\\u0928 \\u0938 \\u091c\\u0921 \\u0939 \\u0927\\u0930 \\u092c \\u0930\\u0937\\u091f\\u0930\\u092f \\u090f\\u0915\\u0924 \\u0915 \\u0932\\u090f \\u0939\\u0928\\u0915\\u0930\\u0915 \\u0906\\u0930\\u092a \\u092c\\u092f\\u0928 \\u0915 \\u0932\\u090f \\u0926\\u0921 \\u0915 \\u092a\\u0930\\u0935\\u0927\\u0928 \\u0915\\u0930\\u0924 \\u0939 \\u0927\\u0930 \\u091c\\u0928\\u092c\\u091d\\u0915\\u0930 \\u0936\\u0924 \\u092d\\u0917 \\u0915\\u0930\\u0928 \\u0915 \\u0907\\u0930\\u0926 \\u0938 \\u0938\\u092c\\u0927\\u0924 \\u0939 \\u092c\\u092c\\u0938 \\u0939\\u0928\\u0926 \\u0915 \\u090f\\u0921\\u0930\\u090f\\u0921 \\u0910\\u092a \\u0915 \\u0932\\u090f \\u0915\\u0932\\u0915 \\u0938\\u0915\\u0924 \\u0939 \\u0939\\u092e \\u092b\\u0938\\u092c\\u0915 \\u091f\\u0935\\u091f\\u0930 \\u0907\\u0938\\u091f\\u0917\\u0930\\u092e \\u092f\\u091f\\u092f\\u092c \\u092b\\u0932 \\u092d \\u0938\\u0915\\u0924 \\u0939\"\n        ],\n        \"semantic_type\": \"\",\n        \"description\": \"\"\n      }\n    },\n    {\n      \"column\": \"emotion_label\",\n      \"properties\": {\n        \"dtype\": \"category\",\n        \"num_unique_values\": 11,\n        \"samples\": [\n          \"neutral\",\n          \"positive\",\n          \"joy\"\n        ],\n        \"semantic_type\": \"\",\n        \"description\": \"\"\n      }\n    }\n  ]\n}"
            }
          },
          "metadata": {},
          "execution_count": 33
        }
      ]
    },
    {
      "cell_type": "code",
      "source": [
        "emotion_hindi_df.shape"
      ],
      "metadata": {
        "colab": {
          "base_uri": "https://localhost:8080/"
        },
        "id": "3QQfZ2W4C0IH",
        "outputId": "b56eebc7-e637-4995-b0c3-88c5bb417349"
      },
      "execution_count": 34,
      "outputs": [
        {
          "output_type": "execute_result",
          "data": {
            "text/plain": [
              "(12037, 2)"
            ]
          },
          "metadata": {},
          "execution_count": 34
        }
      ]
    },
    {
      "cell_type": "code",
      "source": [
        "emotion_hindi_df.isnull().sum()"
      ],
      "metadata": {
        "colab": {
          "base_uri": "https://localhost:8080/",
          "height": 145
        },
        "id": "kdSCgnAqC2CU",
        "outputId": "991f571b-2621-41c8-fb69-e90090397985"
      },
      "execution_count": 35,
      "outputs": [
        {
          "output_type": "execute_result",
          "data": {
            "text/plain": [
              "Text_description    0\n",
              "emotion_label       0\n",
              "dtype: int64"
            ],
            "text/html": [
              "<div>\n",
              "<style scoped>\n",
              "    .dataframe tbody tr th:only-of-type {\n",
              "        vertical-align: middle;\n",
              "    }\n",
              "\n",
              "    .dataframe tbody tr th {\n",
              "        vertical-align: top;\n",
              "    }\n",
              "\n",
              "    .dataframe thead th {\n",
              "        text-align: right;\n",
              "    }\n",
              "</style>\n",
              "<table border=\"1\" class=\"dataframe\">\n",
              "  <thead>\n",
              "    <tr style=\"text-align: right;\">\n",
              "      <th></th>\n",
              "      <th>0</th>\n",
              "    </tr>\n",
              "  </thead>\n",
              "  <tbody>\n",
              "    <tr>\n",
              "      <th>Text_description</th>\n",
              "      <td>0</td>\n",
              "    </tr>\n",
              "    <tr>\n",
              "      <th>emotion_label</th>\n",
              "      <td>0</td>\n",
              "    </tr>\n",
              "  </tbody>\n",
              "</table>\n",
              "</div><br><label><b>dtype:</b> int64</label>"
            ]
          },
          "metadata": {},
          "execution_count": 35
        }
      ]
    },
    {
      "cell_type": "code",
      "source": [
        "texts = emotion_hindi_df['Text_description'].astype(str)\n",
        "labels = emotion_hindi_df['emotion_label']"
      ],
      "metadata": {
        "id": "YPtbF-nnC_9w"
      },
      "execution_count": 36,
      "outputs": []
    },
    {
      "cell_type": "code",
      "source": [
        "le = LabelEncoder()\n",
        "labels_enc = le.fit_transform(labels)\n",
        "num_classes = len(le.classes_)\n",
        "print(\"Classes:\", le.classes_, \"| Num classes:\", num_classes)"
      ],
      "metadata": {
        "colab": {
          "base_uri": "https://localhost:8080/"
        },
        "id": "S4nzxlVjDRw0",
        "outputId": "b6dc082f-f58a-4475-86b8-8697372f874c"
      },
      "execution_count": 37,
      "outputs": [
        {
          "output_type": "stream",
          "name": "stdout",
          "text": [
            "Classes: ['anger' 'anticipation' 'disgust' 'fear' 'joy' 'negative' 'neutral'\n",
            " 'positive' 'sadness' 'surprise' 'trust'] | Num classes: 11\n"
          ]
        }
      ]
    },
    {
      "cell_type": "code",
      "source": [
        "# 3. Split into train/test\n",
        "X_train, X_test, y_train, y_test = train_test_split(\n",
        "    texts, labels_enc,\n",
        "    test_size=0.2,\n",
        "    random_state=42,\n",
        "    stratify=labels_enc\n",
        ")"
      ],
      "metadata": {
        "id": "nk42Wb39DVxc"
      },
      "execution_count": 38,
      "outputs": []
    },
    {
      "cell_type": "code",
      "source": [
        "# 4. Tokenize & pad\n",
        "max_words = 10000\n",
        "max_len   = 100\n",
        "\n",
        "tokenizer = Tokenizer(num_words=max_words, oov_token='<OOV>')\n",
        "tokenizer.fit_on_texts(X_train)\n",
        "\n",
        "X_train_seq = tokenizer.texts_to_sequences(X_train)\n",
        "X_test_seq  = tokenizer.texts_to_sequences(X_test)\n",
        "\n",
        "X_train_pad = pad_sequences(X_train_seq, maxlen=max_len, padding='post', truncating='post')\n",
        "X_test_pad  = pad_sequences(X_test_seq,  maxlen=max_len, padding='post', truncating='post')"
      ],
      "metadata": {
        "id": "pdYsE4MfDaL1"
      },
      "execution_count": 39,
      "outputs": []
    },
    {
      "cell_type": "code",
      "source": [
        "# 5. Prepare labels for sparse loss\n",
        "y_train = y_train.reshape(-1).astype('int32')\n",
        "y_test  = y_test.reshape(-1).astype('int32')"
      ],
      "metadata": {
        "id": "EMGPTMRMDhKR"
      },
      "execution_count": 40,
      "outputs": []
    },
    {
      "cell_type": "code",
      "source": [
        "# 6. Build the CNN model (with explicit input shape)\n",
        "embedding_dim = 100\n",
        "\n",
        "model = Sequential([\n",
        "    Embedding(input_dim=max_words,\n",
        "              output_dim=embedding_dim,\n",
        "              input_shape=(max_len,)),      # ← triggers shape inference\n",
        "    Conv1D(filters=128, kernel_size=5, activation='relu'),\n",
        "    GlobalMaxPooling1D(),\n",
        "    Dropout(0.5),\n",
        "    Dense(64, activation='relu'),\n",
        "    Dropout(0.5),\n",
        "    Dense(num_classes, activation='softmax'),\n",
        "])"
      ],
      "metadata": {
        "colab": {
          "base_uri": "https://localhost:8080/"
        },
        "id": "L-aqREWMECb6",
        "outputId": "22104152-1fb8-4013-8db4-330d78d3ef2e"
      },
      "execution_count": 41,
      "outputs": [
        {
          "output_type": "stream",
          "name": "stderr",
          "text": [
            "/usr/local/lib/python3.11/dist-packages/keras/src/layers/core/embedding.py:93: UserWarning: Do not pass an `input_shape`/`input_dim` argument to a layer. When using Sequential models, prefer using an `Input(shape)` object as the first layer in the model instead.\n",
            "  super().__init__(**kwargs)\n"
          ]
        }
      ]
    },
    {
      "cell_type": "code",
      "source": [
        "# 7. Compile\n",
        "model.compile(\n",
        "    loss='sparse_categorical_crossentropy',\n",
        "    optimizer='adam',\n",
        "    metrics=['accuracy']\n",
        ")"
      ],
      "metadata": {
        "id": "a6ExDmpNGDeN"
      },
      "execution_count": 42,
      "outputs": []
    },
    {
      "cell_type": "code",
      "source": [
        "# 8. Inspect summary\n",
        "model.summary()"
      ],
      "metadata": {
        "colab": {
          "base_uri": "https://localhost:8080/",
          "height": 369
        },
        "id": "06z_MFnSGIrl",
        "outputId": "651a4417-7628-43a2-eed4-4fa9f7835aa5"
      },
      "execution_count": 43,
      "outputs": [
        {
          "output_type": "display_data",
          "data": {
            "text/plain": [
              "\u001b[1mModel: \"sequential_2\"\u001b[0m\n"
            ],
            "text/html": [
              "<pre style=\"white-space:pre;overflow-x:auto;line-height:normal;font-family:Menlo,'DejaVu Sans Mono',consolas,'Courier New',monospace\"><span style=\"font-weight: bold\">Model: \"sequential_2\"</span>\n",
              "</pre>\n"
            ]
          },
          "metadata": {}
        },
        {
          "output_type": "display_data",
          "data": {
            "text/plain": [
              "┏━━━━━━━━━━━━━━━━━━━━━━━━━━━━━━━━━┳━━━━━━━━━━━━━━━━━━━━━━━━┳━━━━━━━━━━━━━━━┓\n",
              "┃\u001b[1m \u001b[0m\u001b[1mLayer (type)                   \u001b[0m\u001b[1m \u001b[0m┃\u001b[1m \u001b[0m\u001b[1mOutput Shape          \u001b[0m\u001b[1m \u001b[0m┃\u001b[1m \u001b[0m\u001b[1m      Param #\u001b[0m\u001b[1m \u001b[0m┃\n",
              "┡━━━━━━━━━━━━━━━━━━━━━━━━━━━━━━━━━╇━━━━━━━━━━━━━━━━━━━━━━━━╇━━━━━━━━━━━━━━━┩\n",
              "│ embedding_2 (\u001b[38;5;33mEmbedding\u001b[0m)         │ (\u001b[38;5;45mNone\u001b[0m, \u001b[38;5;34m100\u001b[0m, \u001b[38;5;34m100\u001b[0m)       │     \u001b[38;5;34m1,000,000\u001b[0m │\n",
              "├─────────────────────────────────┼────────────────────────┼───────────────┤\n",
              "│ conv1d_2 (\u001b[38;5;33mConv1D\u001b[0m)               │ (\u001b[38;5;45mNone\u001b[0m, \u001b[38;5;34m96\u001b[0m, \u001b[38;5;34m128\u001b[0m)        │        \u001b[38;5;34m64,128\u001b[0m │\n",
              "├─────────────────────────────────┼────────────────────────┼───────────────┤\n",
              "│ global_max_pooling1d_2          │ (\u001b[38;5;45mNone\u001b[0m, \u001b[38;5;34m128\u001b[0m)            │             \u001b[38;5;34m0\u001b[0m │\n",
              "│ (\u001b[38;5;33mGlobalMaxPooling1D\u001b[0m)            │                        │               │\n",
              "├─────────────────────────────────┼────────────────────────┼───────────────┤\n",
              "│ dropout_4 (\u001b[38;5;33mDropout\u001b[0m)             │ (\u001b[38;5;45mNone\u001b[0m, \u001b[38;5;34m128\u001b[0m)            │             \u001b[38;5;34m0\u001b[0m │\n",
              "├─────────────────────────────────┼────────────────────────┼───────────────┤\n",
              "│ dense_4 (\u001b[38;5;33mDense\u001b[0m)                 │ (\u001b[38;5;45mNone\u001b[0m, \u001b[38;5;34m64\u001b[0m)             │         \u001b[38;5;34m8,256\u001b[0m │\n",
              "├─────────────────────────────────┼────────────────────────┼───────────────┤\n",
              "│ dropout_5 (\u001b[38;5;33mDropout\u001b[0m)             │ (\u001b[38;5;45mNone\u001b[0m, \u001b[38;5;34m64\u001b[0m)             │             \u001b[38;5;34m0\u001b[0m │\n",
              "├─────────────────────────────────┼────────────────────────┼───────────────┤\n",
              "│ dense_5 (\u001b[38;5;33mDense\u001b[0m)                 │ (\u001b[38;5;45mNone\u001b[0m, \u001b[38;5;34m11\u001b[0m)             │           \u001b[38;5;34m715\u001b[0m │\n",
              "└─────────────────────────────────┴────────────────────────┴───────────────┘\n"
            ],
            "text/html": [
              "<pre style=\"white-space:pre;overflow-x:auto;line-height:normal;font-family:Menlo,'DejaVu Sans Mono',consolas,'Courier New',monospace\">┏━━━━━━━━━━━━━━━━━━━━━━━━━━━━━━━━━┳━━━━━━━━━━━━━━━━━━━━━━━━┳━━━━━━━━━━━━━━━┓\n",
              "┃<span style=\"font-weight: bold\"> Layer (type)                    </span>┃<span style=\"font-weight: bold\"> Output Shape           </span>┃<span style=\"font-weight: bold\">       Param # </span>┃\n",
              "┡━━━━━━━━━━━━━━━━━━━━━━━━━━━━━━━━━╇━━━━━━━━━━━━━━━━━━━━━━━━╇━━━━━━━━━━━━━━━┩\n",
              "│ embedding_2 (<span style=\"color: #0087ff; text-decoration-color: #0087ff\">Embedding</span>)         │ (<span style=\"color: #00d7ff; text-decoration-color: #00d7ff\">None</span>, <span style=\"color: #00af00; text-decoration-color: #00af00\">100</span>, <span style=\"color: #00af00; text-decoration-color: #00af00\">100</span>)       │     <span style=\"color: #00af00; text-decoration-color: #00af00\">1,000,000</span> │\n",
              "├─────────────────────────────────┼────────────────────────┼───────────────┤\n",
              "│ conv1d_2 (<span style=\"color: #0087ff; text-decoration-color: #0087ff\">Conv1D</span>)               │ (<span style=\"color: #00d7ff; text-decoration-color: #00d7ff\">None</span>, <span style=\"color: #00af00; text-decoration-color: #00af00\">96</span>, <span style=\"color: #00af00; text-decoration-color: #00af00\">128</span>)        │        <span style=\"color: #00af00; text-decoration-color: #00af00\">64,128</span> │\n",
              "├─────────────────────────────────┼────────────────────────┼───────────────┤\n",
              "│ global_max_pooling1d_2          │ (<span style=\"color: #00d7ff; text-decoration-color: #00d7ff\">None</span>, <span style=\"color: #00af00; text-decoration-color: #00af00\">128</span>)            │             <span style=\"color: #00af00; text-decoration-color: #00af00\">0</span> │\n",
              "│ (<span style=\"color: #0087ff; text-decoration-color: #0087ff\">GlobalMaxPooling1D</span>)            │                        │               │\n",
              "├─────────────────────────────────┼────────────────────────┼───────────────┤\n",
              "│ dropout_4 (<span style=\"color: #0087ff; text-decoration-color: #0087ff\">Dropout</span>)             │ (<span style=\"color: #00d7ff; text-decoration-color: #00d7ff\">None</span>, <span style=\"color: #00af00; text-decoration-color: #00af00\">128</span>)            │             <span style=\"color: #00af00; text-decoration-color: #00af00\">0</span> │\n",
              "├─────────────────────────────────┼────────────────────────┼───────────────┤\n",
              "│ dense_4 (<span style=\"color: #0087ff; text-decoration-color: #0087ff\">Dense</span>)                 │ (<span style=\"color: #00d7ff; text-decoration-color: #00d7ff\">None</span>, <span style=\"color: #00af00; text-decoration-color: #00af00\">64</span>)             │         <span style=\"color: #00af00; text-decoration-color: #00af00\">8,256</span> │\n",
              "├─────────────────────────────────┼────────────────────────┼───────────────┤\n",
              "│ dropout_5 (<span style=\"color: #0087ff; text-decoration-color: #0087ff\">Dropout</span>)             │ (<span style=\"color: #00d7ff; text-decoration-color: #00d7ff\">None</span>, <span style=\"color: #00af00; text-decoration-color: #00af00\">64</span>)             │             <span style=\"color: #00af00; text-decoration-color: #00af00\">0</span> │\n",
              "├─────────────────────────────────┼────────────────────────┼───────────────┤\n",
              "│ dense_5 (<span style=\"color: #0087ff; text-decoration-color: #0087ff\">Dense</span>)                 │ (<span style=\"color: #00d7ff; text-decoration-color: #00d7ff\">None</span>, <span style=\"color: #00af00; text-decoration-color: #00af00\">11</span>)             │           <span style=\"color: #00af00; text-decoration-color: #00af00\">715</span> │\n",
              "└─────────────────────────────────┴────────────────────────┴───────────────┘\n",
              "</pre>\n"
            ]
          },
          "metadata": {}
        },
        {
          "output_type": "display_data",
          "data": {
            "text/plain": [
              "\u001b[1m Total params: \u001b[0m\u001b[38;5;34m1,073,099\u001b[0m (4.09 MB)\n"
            ],
            "text/html": [
              "<pre style=\"white-space:pre;overflow-x:auto;line-height:normal;font-family:Menlo,'DejaVu Sans Mono',consolas,'Courier New',monospace\"><span style=\"font-weight: bold\"> Total params: </span><span style=\"color: #00af00; text-decoration-color: #00af00\">1,073,099</span> (4.09 MB)\n",
              "</pre>\n"
            ]
          },
          "metadata": {}
        },
        {
          "output_type": "display_data",
          "data": {
            "text/plain": [
              "\u001b[1m Trainable params: \u001b[0m\u001b[38;5;34m1,073,099\u001b[0m (4.09 MB)\n"
            ],
            "text/html": [
              "<pre style=\"white-space:pre;overflow-x:auto;line-height:normal;font-family:Menlo,'DejaVu Sans Mono',consolas,'Courier New',monospace\"><span style=\"font-weight: bold\"> Trainable params: </span><span style=\"color: #00af00; text-decoration-color: #00af00\">1,073,099</span> (4.09 MB)\n",
              "</pre>\n"
            ]
          },
          "metadata": {}
        },
        {
          "output_type": "display_data",
          "data": {
            "text/plain": [
              "\u001b[1m Non-trainable params: \u001b[0m\u001b[38;5;34m0\u001b[0m (0.00 B)\n"
            ],
            "text/html": [
              "<pre style=\"white-space:pre;overflow-x:auto;line-height:normal;font-family:Menlo,'DejaVu Sans Mono',consolas,'Courier New',monospace\"><span style=\"font-weight: bold\"> Non-trainable params: </span><span style=\"color: #00af00; text-decoration-color: #00af00\">0</span> (0.00 B)\n",
              "</pre>\n"
            ]
          },
          "metadata": {}
        }
      ]
    },
    {
      "cell_type": "code",
      "source": [
        "# 9. Train with EarlyStopping\n",
        "es = EarlyStopping(monitor='val_loss', patience=3, restore_best_weights=True)\n",
        "history = model.fit(\n",
        "    X_train_pad, y_train,\n",
        "    validation_split=0.1,\n",
        "    epochs=30,\n",
        "    batch_size=64,\n",
        "    callbacks=[es]\n",
        ")"
      ],
      "metadata": {
        "colab": {
          "base_uri": "https://localhost:8080/"
        },
        "id": "IKQAUdsiGTb2",
        "outputId": "1134ff0a-bc18-4687-fba7-134fdffaf9d4"
      },
      "execution_count": 44,
      "outputs": [
        {
          "output_type": "stream",
          "name": "stdout",
          "text": [
            "Epoch 1/30\n",
            "\u001b[1m136/136\u001b[0m \u001b[32m━━━━━━━━━━━━━━━━━━━━\u001b[0m\u001b[37m\u001b[0m \u001b[1m11s\u001b[0m 71ms/step - accuracy: 0.2864 - loss: 2.0307 - val_accuracy: 0.5286 - val_loss: 1.4382\n",
            "Epoch 2/30\n",
            "\u001b[1m136/136\u001b[0m \u001b[32m━━━━━━━━━━━━━━━━━━━━\u001b[0m\u001b[37m\u001b[0m \u001b[1m10s\u001b[0m 68ms/step - accuracy: 0.5482 - loss: 1.4689 - val_accuracy: 0.6272 - val_loss: 1.1728\n",
            "Epoch 3/30\n",
            "\u001b[1m136/136\u001b[0m \u001b[32m━━━━━━━━━━━━━━━━━━━━\u001b[0m\u001b[37m\u001b[0m \u001b[1m8s\u001b[0m 61ms/step - accuracy: 0.6160 - loss: 1.2564 - val_accuracy: 0.6469 - val_loss: 1.0686\n",
            "Epoch 4/30\n",
            "\u001b[1m136/136\u001b[0m \u001b[32m━━━━━━━━━━━━━━━━━━━━\u001b[0m\u001b[37m\u001b[0m \u001b[1m9s\u001b[0m 69ms/step - accuracy: 0.6707 - loss: 1.0635 - val_accuracy: 0.6874 - val_loss: 0.9998\n",
            "Epoch 5/30\n",
            "\u001b[1m136/136\u001b[0m \u001b[32m━━━━━━━━━━━━━━━━━━━━\u001b[0m\u001b[37m\u001b[0m \u001b[1m9s\u001b[0m 68ms/step - accuracy: 0.7299 - loss: 0.9269 - val_accuracy: 0.6999 - val_loss: 0.9658\n",
            "Epoch 6/30\n",
            "\u001b[1m136/136\u001b[0m \u001b[32m━━━━━━━━━━━━━━━━━━━━\u001b[0m\u001b[37m\u001b[0m \u001b[1m9s\u001b[0m 60ms/step - accuracy: 0.7698 - loss: 0.7852 - val_accuracy: 0.7061 - val_loss: 0.9605\n",
            "Epoch 7/30\n",
            "\u001b[1m136/136\u001b[0m \u001b[32m━━━━━━━━━━━━━━━━━━━━\u001b[0m\u001b[37m\u001b[0m \u001b[1m10s\u001b[0m 61ms/step - accuracy: 0.8081 - loss: 0.6691 - val_accuracy: 0.7165 - val_loss: 0.9865\n",
            "Epoch 8/30\n",
            "\u001b[1m136/136\u001b[0m \u001b[32m━━━━━━━━━━━━━━━━━━━━\u001b[0m\u001b[37m\u001b[0m \u001b[1m10s\u001b[0m 62ms/step - accuracy: 0.8412 - loss: 0.5490 - val_accuracy: 0.7238 - val_loss: 1.0280\n",
            "Epoch 9/30\n",
            "\u001b[1m136/136\u001b[0m \u001b[32m━━━━━━━━━━━━━━━━━━━━\u001b[0m\u001b[37m\u001b[0m \u001b[1m9s\u001b[0m 68ms/step - accuracy: 0.8703 - loss: 0.4644 - val_accuracy: 0.7207 - val_loss: 1.1663\n"
          ]
        }
      ]
    },
    {
      "cell_type": "code",
      "source": [
        "loss, accuracy = model.evaluate(X_test_pad, y_test)\n",
        "print(f\"Test Accuracy: {accuracy:.4f}\")"
      ],
      "metadata": {
        "colab": {
          "base_uri": "https://localhost:8080/"
        },
        "id": "wgHTR7IPGZoC",
        "outputId": "b10e5f73-1d48-462f-afc4-f4ff7b719962"
      },
      "execution_count": 45,
      "outputs": [
        {
          "output_type": "stream",
          "name": "stdout",
          "text": [
            "\u001b[1m76/76\u001b[0m \u001b[32m━━━━━━━━━━━━━━━━━━━━\u001b[0m\u001b[37m\u001b[0m \u001b[1m1s\u001b[0m 10ms/step - accuracy: 0.7057 - loss: 1.0271\n",
            "Test Accuracy: 0.7093\n"
          ]
        }
      ]
    },
    {
      "cell_type": "code",
      "source": [
        "import numpy as np\n",
        "import matplotlib.pyplot as plt\n",
        "from sklearn.metrics import confusion_matrix\n",
        "\n",
        "# 1. Get model predictions (assuming model, X_test_pad, and y_test exist)\n",
        "y_pred_prob = model.predict(X_test_pad)\n",
        "y_pred_labels = np.argmax(y_pred_prob, axis=1)\n",
        "\n",
        "# 2. Compute confusion matrix\n",
        "cm = confusion_matrix(y_test, y_pred_labels)\n",
        "\n",
        "# 3. Plot confusion matrix\n",
        "plt.figure()\n",
        "plt.imshow(cm, interpolation='nearest')\n",
        "plt.title('Confusion Matrix')\n",
        "plt.xlabel('Predicted label')\n",
        "plt.ylabel('True label')\n",
        "plt.xticks(np.arange(len(le.classes_)), le.classes_, rotation=45)\n",
        "plt.yticks(np.arange(len(le.classes_)), le.classes_)\n",
        "plt.colorbar()\n",
        "plt.tight_layout()\n",
        "plt.show()\n"
      ],
      "metadata": {
        "colab": {
          "base_uri": "https://localhost:8080/",
          "height": 504
        },
        "id": "ghtWhuFQUBX4",
        "outputId": "2ff712e7-921e-4a41-a1b2-dcb2d9d61a74"
      },
      "execution_count": 46,
      "outputs": [
        {
          "output_type": "stream",
          "name": "stdout",
          "text": [
            "\u001b[1m76/76\u001b[0m \u001b[32m━━━━━━━━━━━━━━━━━━━━\u001b[0m\u001b[37m\u001b[0m \u001b[1m1s\u001b[0m 9ms/step\n"
          ]
        },
        {
          "output_type": "display_data",
          "data": {
            "text/plain": [
              "<Figure size 640x480 with 2 Axes>"
            ],
            "image/png": "[encoded data removed]"
          },
          "metadata": {}
        }
      ]
    },
    {
      "cell_type": "markdown",
      "source": [
        "# Telugu Dataset\n"
      ],
      "metadata": {
        "id": "VSAXyA5UaANS"
      }
    },
    {
      "cell_type": "code",
      "source": [
        "emotion_telugu_df = pd.read_csv('/content/Emotion_attached_final_telugu.csv')\n",
        "emotion_telugu_df.head()"
      ],
      "metadata": {
        "id": "SEWJH15TaZk9",
        "colab": {
          "base_uri": "https://localhost:8080/",
          "height": 204
        },
        "outputId": "e1c21bef-14af-483f-ca70-9332dddc1d74"
      },
      "execution_count": 47,
      "outputs": [
        {
          "output_type": "execute_result",
          "data": {
            "text/plain": [
              "                                        cleaned_text emotion_label\n",
              "0  ట్రంప్‌ సుంకాల నేపథ్యంలో ఆర్థికమంత్రి నిర్మలా ...       neutral\n",
              "1  భారత మార్కెట్లు ట్రంప్‌ సుంకాల విరామం, వాణిజ్య...       neutral\n",
              "2  ఎన్‌ఎస్ఈ ఐపీఓ అనుమతిలో వాణిజ్య ప్రయోజనాల కంటే ...       neutral\n",
              "3  ఐటీసీ గ్రూప్‌ 24 మంత్ర ఆర్గానిక్‌ బ్రాండ్‌ను ర...       neutral\n",
              "4  టాటా మోటార్స్‌ 2024-25 ఆర్థిక సంవత్సరంలో 250 ప...       neutral"
            ],
            "text/html": [
              "\n",
              "  <div id=\"df-8564e9c3-60a9-4142-9d90-29471d033482\" class=\"colab-df-container\">\n",
              "    <div>\n",
              "<style scoped>\n",
              "    .dataframe tbody tr th:only-of-type {\n",
              "        vertical-align: middle;\n",
              "    }\n",
              "\n",
              "    .dataframe tbody tr th {\n",
              "        vertical-align: top;\n",
              "    }\n",
              "\n",
              "    .dataframe thead th {\n",
              "        text-align: right;\n",
              "    }\n",
              "</style>\n",
              "<table border=\"1\" class=\"dataframe\">\n",
              "  <thead>\n",
              "    <tr style=\"text-align: right;\">\n",
              "      <th></th>\n",
              "      <th>cleaned_text</th>\n",
              "      <th>emotion_label</th>\n",
              "    </tr>\n",
              "  </thead>\n",
              "  <tbody>\n",
              "    <tr>\n",
              "      <th>0</th>\n",
              "      <td>ట్రంప్‌ సుంకాల నేపథ్యంలో ఆర్థికమంత్రి నిర్మలా ...</td>\n",
              "      <td>neutral</td>\n",
              "    </tr>\n",
              "    <tr>\n",
              "      <th>1</th>\n",
              "      <td>భారత మార్కెట్లు ట్రంప్‌ సుంకాల విరామం, వాణిజ్య...</td>\n",
              "      <td>neutral</td>\n",
              "    </tr>\n",
              "    <tr>\n",
              "      <th>2</th>\n",
              "      <td>ఎన్‌ఎస్ఈ ఐపీఓ అనుమతిలో వాణిజ్య ప్రయోజనాల కంటే ...</td>\n",
              "      <td>neutral</td>\n",
              "    </tr>\n",
              "    <tr>\n",
              "      <th>3</th>\n",
              "      <td>ఐటీసీ గ్రూప్‌ 24 మంత్ర ఆర్గానిక్‌ బ్రాండ్‌ను ర...</td>\n",
              "      <td>neutral</td>\n",
              "    </tr>\n",
              "    <tr>\n",
              "      <th>4</th>\n",
              "      <td>టాటా మోటార్స్‌ 2024-25 ఆర్థిక సంవత్సరంలో 250 ప...</td>\n",
              "      <td>neutral</td>\n",
              "    </tr>\n",
              "  </tbody>\n",
              "</table>\n",
              "</div>\n",
              "    <div class=\"colab-df-buttons\">\n",
              "\n",
              "  <div class=\"colab-df-container\">\n",
              "    <button class=\"colab-df-convert\" onclick=\"convertToInteractive('df-8564e9c3-60a9-4142-9d90-29471d033482')\"\n",
              "            title=\"Convert this dataframe to an interactive table.\"\n",
              "            style=\"display:none;\">\n",
              "\n",
              "  <svg xmlns=\"http://www.w3.org/2000/svg\" height=\"24px\" viewBox=\"0 -960 960 960\">\n",
              "    <path d=\"M120-120v-720h720v720H120Zm60-500h600v-160H180v160Zm220 220h160v-160H400v160Zm0 220h160v-160H400v160ZM180-400h160v-160H180v160Zm440 0h160v-160H620v160ZM180-180h160v-160H180v160Zm440 0h160v-160H620v160Z\"/>\n",
              "  </svg>\n",
              "    </button>\n",
              "\n",
              "  <style>\n",
              "    .colab-df-container {\n",
              "      display:flex;\n",
              "      gap: 12px;\n",
              "    }\n",
              "\n",
              "    .colab-df-convert {\n",
              "      background-color: #E8F0FE;\n",
              "      border: none;\n",
              "      border-radius: 50%;\n",
              "      cursor: pointer;\n",
              "      display: none;\n",
              "      fill: #1967D2;\n",
              "      height: 32px;\n",
              "      padding: 0 0 0 0;\n",
              "      width: 32px;\n",
              "    }\n",
              "\n",
              "    .colab-df-convert:hover {\n",
              "      background-color: #E2EBFA;\n",
              "      box-shadow: 0px 1px 2px rgba(60, 64, 67, 0.3), 0px 1px 3px 1px rgba(60, 64, 67, 0.15);\n",
              "      fill: #174EA6;\n",
              "    }\n",
              "\n",
              "    .colab-df-buttons div {\n",
              "      margin-bottom: 4px;\n",
              "    }\n",
              "\n",
              "    [theme=dark] .colab-df-convert {\n",
              "      background-color: #3B4455;\n",
              "      fill: #D2E3FC;\n",
              "    }\n",
              "\n",
              "    [theme=dark] .colab-df-convert:hover {\n",
              "      background-color: #434B5C;\n",
              "      box-shadow: 0px 1px 3px 1px rgba(0, 0, 0, 0.15);\n",
              "      filter: drop-shadow(0px 1px 2px rgba(0, 0, 0, 0.3));\n",
              "      fill: #FFFFFF;\n",
              "    }\n",
              "  </style>\n",
              "\n",
              "    <script>\n",
              "      const buttonEl =\n",
              "        document.querySelector('#df-8564e9c3-60a9-4142-9d90-29471d033482 button.colab-df-convert');\n",
              "      buttonEl.style.display =\n",
              "        google.colab.kernel.accessAllowed ? 'block' : 'none';\n",
              "\n",
              "      async function convertToInteractive(key) {\n",
              "        const element = document.querySelector('#df-8564e9c3-60a9-4142-9d90-29471d033482');\n",
              "        const dataTable =\n",
              "          await google.colab.kernel.invokeFunction('convertToInteractive',\n",
              "                                                    [key], {});\n",
              "        if (!dataTable) return;\n",
              "\n",
              "        const docLinkHtml = 'Like what you see? Visit the ' +\n",
              "          '<a target=\"_blank\" href=https://colab.research.google.com/notebooks/data_table.ipynb>data table notebook</a>'\n",
              "          + ' to learn more about interactive tables.';\n",
              "        element.innerHTML = '';\n",
              "        dataTable['output_type'] = 'display_data';\n",
              "        await google.colab.output.renderOutput(dataTable, element);\n",
              "        const docLink = document.createElement('div');\n",
              "        docLink.innerHTML = docLinkHtml;\n",
              "        element.appendChild(docLink);\n",
              "      }\n",
              "    </script>\n",
              "  </div>\n",
              "\n",
              "\n",
              "    <div id=\"df-d31be570-b40b-4aaf-9f84-f5774e7115f5\">\n",
              "      <button class=\"colab-df-quickchart\" onclick=\"quickchart('df-d31be570-b40b-4aaf-9f84-f5774e7115f5')\"\n",
              "                title=\"Suggest charts\"\n",
              "                style=\"display:none;\">\n",
              "\n",
              "<svg xmlns=\"http://www.w3.org/2000/svg\" height=\"24px\"viewBox=\"0 0 24 24\"\n",
              "     width=\"24px\">\n",
              "    <g>\n",
              "        <path d=\"M19 3H5c-1.1 0-2 .9-2 2v14c0 1.1.9 2 2 2h14c1.1 0 2-.9 2-2V5c0-1.1-.9-2-2-2zM9 17H7v-7h2v7zm4 0h-2V7h2v10zm4 0h-2v-4h2v4z\"/>\n",
              "    </g>\n",
              "</svg>\n",
              "      </button>\n",
              "\n",
              "<style>\n",
              "  .colab-df-quickchart {\n",
              "      --bg-color: #E8F0FE;\n",
              "      --fill-color: #1967D2;\n",
              "      --hover-bg-color: #E2EBFA;\n",
              "      --hover-fill-color: #174EA6;\n",
              "      --disabled-fill-color: #AAA;\n",
              "      --disabled-bg-color: #DDD;\n",
              "  }\n",
              "\n",
              "  [theme=dark] .colab-df-quickchart {\n",
              "      --bg-color: #3B4455;\n",
              "      --fill-color: #D2E3FC;\n",
              "      --hover-bg-color: #434B5C;\n",
              "      --hover-fill-color: #FFFFFF;\n",
              "      --disabled-bg-color: #3B4455;\n",
              "      --disabled-fill-color: #666;\n",
              "  }\n",
              "\n",
              "  .colab-df-quickchart {\n",
              "    background-color: var(--bg-color);\n",
              "    border: none;\n",
              "    border-radius: 50%;\n",
              "    cursor: pointer;\n",
              "    display: none;\n",
              "    fill: var(--fill-color);\n",
              "    height: 32px;\n",
              "    padding: 0;\n",
              "    width: 32px;\n",
              "  }\n",
              "\n",
              "  .colab-df-quickchart:hover {\n",
              "    background-color: var(--hover-bg-color);\n",
              "    box-shadow: 0 1px 2px rgba(60, 64, 67, 0.3), 0 1px 3px 1px rgba(60, 64, 67, 0.15);\n",
              "    fill: var(--button-hover-fill-color);\n",
              "  }\n",
              "\n",
              "  .colab-df-quickchart-complete:disabled,\n",
              "  .colab-df-quickchart-complete:disabled:hover {\n",
              "    background-color: var(--disabled-bg-color);\n",
              "    fill: var(--disabled-fill-color);\n",
              "    box-shadow: none;\n",
              "  }\n",
              "\n",
              "  .colab-df-spinner {\n",
              "    border: 2px solid var(--fill-color);\n",
              "    border-color: transparent;\n",
              "    border-bottom-color: var(--fill-color);\n",
              "    animation:\n",
              "      spin 1s steps(1) infinite;\n",
              "  }\n",
              "\n",
              "  @keyframes spin {\n",
              "    0% {\n",
              "      border-color: transparent;\n",
              "      border-bottom-color: var(--fill-color);\n",
              "      border-left-color: var(--fill-color);\n",
              "    }\n",
              "    20% {\n",
              "      border-color: transparent;\n",
              "      border-left-color: var(--fill-color);\n",
              "      border-top-color: var(--fill-color);\n",
              "    }\n",
              "    30% {\n",
              "      border-color: transparent;\n",
              "      border-left-color: var(--fill-color);\n",
              "      border-top-color: var(--fill-color);\n",
              "      border-right-color: var(--fill-color);\n",
              "    }\n",
              "    40% {\n",
              "      border-color: transparent;\n",
              "      border-right-color: var(--fill-color);\n",
              "      border-top-color: var(--fill-color);\n",
              "    }\n",
              "    60% {\n",
              "      border-color: transparent;\n",
              "      border-right-color: var(--fill-color);\n",
              "    }\n",
              "    80% {\n",
              "      border-color: transparent;\n",
              "      border-right-color: var(--fill-color);\n",
              "      border-bottom-color: var(--fill-color);\n",
              "    }\n",
              "    90% {\n",
              "      border-color: transparent;\n",
              "      border-bottom-color: var(--fill-color);\n",
              "    }\n",
              "  }\n",
              "</style>\n",
              "\n",
              "      <script>\n",
              "        async function quickchart(key) {\n",
              "          const quickchartButtonEl =\n",
              "            document.querySelector('#' + key + ' button');\n",
              "          quickchartButtonEl.disabled = true;  // To prevent multiple clicks.\n",
              "          quickchartButtonEl.classList.add('colab-df-spinner');\n",
              "          try {\n",
              "            const charts = await google.colab.kernel.invokeFunction(\n",
              "                'suggestCharts', [key], {});\n",
              "          } catch (error) {\n",
              "            console.error('Error during call to suggestCharts:', error);\n",
              "          }\n",
              "          quickchartButtonEl.classList.remove('colab-df-spinner');\n",
              "          quickchartButtonEl.classList.add('colab-df-quickchart-complete');\n",
              "        }\n",
              "        (() => {\n",
              "          let quickchartButtonEl =\n",
              "            document.querySelector('#df-d31be570-b40b-4aaf-9f84-f5774e7115f5 button');\n",
              "          quickchartButtonEl.style.display =\n",
              "            google.colab.kernel.accessAllowed ? 'block' : 'none';\n",
              "        })();\n",
              "      </script>\n",
              "    </div>\n",
              "\n",
              "    </div>\n",
              "  </div>\n"
            ],
            "application/vnd.google.colaboratory.intrinsic+json": {
              "type": "dataframe",
              "variable_name": "emotion_telugu_df",
              "summary": "{\n  \"name\": \"emotion_telugu_df\",\n  \"rows\": 10628,\n  \"fields\": [\n    {\n      \"column\": \"cleaned_text\",\n      \"properties\": {\n        \"dtype\": \"string\",\n        \"num_unique_values\": 10628,\n        \"samples\": [\n          \"\\u0c15\\u0c3e\\u0c30\\u0c41 \\u0c2c\\u0c40\\u0c2e\\u0c3e\\u0c32\\u0c4b, \\u0c28\\u0c3e\\u0c1f\\u0c3f\\u0c15\\u0c4d\\u0c38\\u0c3f\\u0c38\\u0c4d \\u0c05\\u0c37\\u0c4d\\u0c2f\\u0c42\\u0c30\\u0c46\\u0c28\\u0c4d\\u0c38\\u0c4d \\u0c38\\u0c02\\u0c35\\u0c24\\u0c4d\\u0c38\\u0c30\\u0c3e\\u0c28\\u0c3f\\u0c15\\u0c3f 8,000 \\u0c15\\u0c3f\\u0c32\\u0c4b\\u0c2e\\u0c40\\u0c1f\\u0c30\\u0c4d\\u0c32 \\u0c15\\u0c02\\u0c1f\\u0c47 \\u0c24\\u0c15\\u0c4d\\u0c15\\u0c41\\u0c35 \\u0c21\\u0c4d\\u0c30\\u0c48\\u0c35\\u0c3f\\u0c02\\u0c17\\u0c4d \\u0c1a\\u0c47\\u0c38\\u0c47 \\u0c21\\u0c4d\\u0c30\\u0c48\\u0c35\\u0c30\\u0c4d\\u0c32\\u0c15\\u0c41 \\u0c2e\\u0c30\\u0c3f\\u0c2f\\u0c41 \\u0c0e\\u0c32\\u0c15\\u0c4d\\u0c1f\\u0c4d\\u0c30\\u0c3f\\u0c15\\u0c4d \\u0c35\\u0c3e\\u0c39\\u0c28\\u0c3e\\u0c32 \\u0c2f\\u0c1c\\u0c2e\\u0c3e\\u0c28\\u0c41\\u0c32\\u0c15\\u0c41 \\u0c21\\u0c3f\\u0c38\\u0c4d\\u0c15\\u0c4c\\u0c02\\u0c1f\\u0c4d\\u0c32\\u0c28\\u0c41 \\u0c05\\u0c02\\u0c26\\u0c3f\\u0c38\\u0c4d\\u0c24\\u0c41\\u0c02\\u0c26\\u0c3f.\",\n          \"\\u0c32\\u0c46\\u0c15\\u0c4d\\u0c15\\u0c32\\u0c41 \\u0c2a\\u0c4d\\u0c30\\u0c24\\u0c3f 100 \\u0c15\\u0c3f\\u0c32\\u0c4b\\u0c2e\\u0c40\\u0c1f\\u0c30\\u0c4d\\u0c32\\u0c15\\u0c41 \\u0c05\\u0c24\\u0c4d\\u0c2f\\u0c27\\u0c3f\\u0c15 \\u0c35\\u0c3f\\u0c26\\u0c4d\\u0c2f\\u0c41\\u0c24\\u0c4d \\u0c35\\u0c3f\\u0c28\\u0c3f\\u0c2f\\u0c4b\\u0c17\\u0c02 \\u0c06\\u0c27\\u0c3e\\u0c30\\u0c02\\u0c17\\u0c3e \\u0c09\\u0c28\\u0c4d\\u0c28\\u0c3e\\u0c2f\\u0c3f, \\u0c07\\u0c26\\u0c3f \\u0c2c\\u0c46\\u0c32\\u0c4d\\u0c1c\\u0c3f\\u0c2f\\u0c02 \\u0c2e\\u0c3e\\u0c30\\u0c4d\\u0c15\\u0c46\\u0c1f\\u0c4d\\u0c32\\u0c4b \\u0c28\\u0c2e\\u0c42\\u0c28\\u0c3e\\u0c32 \\u0c15\\u0c4b\\u0c38\\u0c02 \\u0c2e\\u0c30\\u0c3f\\u0c2f\\u0c41 \\u0c2c\\u0c46\\u0c32\\u0c4d\\u0c1c\\u0c3f\\u0c2f\\u0c02\\u0c32\\u0c4b \\u0c38\\u0c17\\u0c1f\\u0c41 \\u0c35\\u0c3f\\u0c26\\u0c4d\\u0c2f\\u0c41\\u0c24\\u0c4d \\u0c17\\u0c4d\\u0c30\\u0c3f\\u0c21\\u0c4d \\u0c2e\\u0c3f\\u0c36\\u0c4d\\u0c30\\u0c2e\\u0c02 \\u0c15\\u0c4b\\u0c38\\u0c02 CO2 \\u0c09\\u0c26\\u0c4d\\u0c17\\u0c3e\\u0c30\\u0c3e\\u0c32\\u0c28\\u0c41 \\u0c15\\u0c28\\u0c41\\u0c17\\u0c4a\\u0c28\\u0c35\\u0c1a\\u0c4d\\u0c1a\\u0c41.\",\n          \"\\n                * \\u0c15\\u0c4b \\u0c32\\u0c4a\\u0c15\\u0c47\\u0c37\\u0c28\\u0c4d\\u200c \\u0c15\\u0c47\\u0c38\\u0c41\\u0c15\\u0c41 \\u0c38\\u0c02\\u0c2c\\u0c02\\u0c27\\u0c3f\\u0c02\\u0c1a\\u0c3f, 6 \\u0c28\\u0c46\\u0c32\\u0c32 \\u0c2a\\u0c3e\\u0c1f\\u0c41 \\u0c15\\u0c4a\\u0c24\\u0c4d\\u0c24 \\u0c21\\u0c46\\u0c30\\u0c3f\\u0c35\\u0c47\\u0c1f\\u0c3f\\u0c35\\u0c4d\\u200c \\u0c2a\\u0c25\\u0c15\\u0c3e\\u0c32\\u0c41 \\u0c2a\\u0c4d\\u0c30\\u0c3e\\u0c30\\u0c02\\u0c2d\\u0c3f\\u0c02\\u0c1a\\u0c15\\u0c41\\u0c02\\u0c21\\u0c3e \\u0c28\\u0c3f\\u0c30\\u0c4b\\u0c27\\u0c3f\\u0c02\\u0c1a\\u0c21\\u0c02\\u0c24\\u0c4b \\u0c2a\\u0c3e\\u0c1f\\u0c41 \\u0c30\\u0c42.1,000 \\u0c15\\u0c4b\\u0c1f\\u0c4d\\u0c32 \\u0c2e\\u0c4a\\u0c24\\u0c4d\\u0c24\\u0c3e\\u0c28\\u0c4d\\u0c28\\u0c3f \\u0c24\\u0c3f\\u0c30\\u0c3f\\u0c17\\u0c3f \\u0c1a\\u0c46\\u0c32\\u0c4d\\u0c32\\u0c3f\\u0c02\\u0c1a\\u0c3e\\u0c32\\u0c02\\u0c1f\\u0c42 \\u0c38\\u0c46\\u0c2c\\u0c40 \\u0c07\\u0c1a\\u0c4d\\u0c1a\\u0c3f\\u0c28 \\u0c06\\u0c26\\u0c47\\u0c36\\u0c3e\\u0c32\\u0c28\\u0c41 \\u0c38\\u0c46\\u0c15\\u0c4d\\u0c2f\\u0c42\\u0c30\\u0c3f\\u0c1f\\u0c40\\u0c38\\u0c4d\\u200c \\u0c05\\u0c2a\\u0c4d\\u0c2a\\u0c3f\\u0c32\\u0c47\\u0c1f\\u0c4d\\u200c \\u0c1f\\u0c4d\\u0c30\\u0c48\\u0c2c\\u0c4d\\u0c2f\\u0c41\\u0c28\\u0c32\\u0c4d\\u200c\\u0c32\\u0c4b \\u0c38\\u0c35\\u0c3e\\u0c32\\u0c41 \\u0c1a\\u0c47\\u0c2f\\u0c28\\u0c41\\u0c28\\u0c4d\\u0c28\\u0c1f\\u0c4d\\u0c32\\u0c41 \\u0c0e\\u0c28\\u0c4d\\u200c\\u0c0e\\u0c38\\u0c4d\\u200c\\u0c08 \\u0c24\\u0c46\\u0c32\\u0c3f\\u0c2a\\u0c3f\\u0c02\\u0c26\\u0c3f.\\n* \\u0c2e\\u0c3e\\u0c1c\\u0c40 \\u0c0e\\u0c02\\u0c21\\u0c40 \\u0c30\\u0c3e\\u0c23\\u0c3e \\u0c15\\u0c2a\\u0c42\\u0c30\\u0c4d\\u200c\\u0c15\\u0c41 \\u0c1a\\u0c46\\u0c32\\u0c4d\\u0c32\\u0c3f\\u0c02\\u0c1a\\u0c3f\\u0c28\\u00a0 \\u0c30\\u0c42.1.44 \\u0c15\\u0c4b\\u0c1f\\u0c4d\\u0c32 \\u0c2c\\u0c4b\\u0c28\\u0c38\\u0c4d\\u200c\\u0c28\\u0c41 \\u0c35\\u0c3e\\u0c2a\\u0c38\\u0c41 \\u0c24\\u0c40\\u0c38\\u0c41\\u0c15\\u0c4b\\u0c28\\u0c41\\u0c28\\u0c4d\\u0c28\\u0c1f\\u0c4d\\u0c32\\u0c41 \\u0c2f\\u0c46\\u0c38\\u0c4d\\u200c \\u0c2c\\u0c4d\\u0c2f\\u0c3e\\u0c02\\u0c15\\u0c4d\\u200c \\u0c24\\u0c46\\u0c32\\u0c3f\\u0c2a\\u0c3f\\u0c02\\u0c26\\u0c3f. \\u0c06\\u0c30\\u0c4d\\u200c\\u0c2c\\u0c40\\u0c10 \\u0c06\\u0c26\\u0c47\\u0c36\\u0c3e\\u0c32\\u0c28\\u0c41 \\u0c05\\u0c28\\u0c41\\u0c38\\u0c30\\u0c3f\\u0c02\\u0c1a\\u0c3f, \\u0c08 \\u0c1a\\u0c30\\u0c4d\\u0c2f \\u0c24\\u0c40\\u0c38\\u0c41\\u0c15\\u0c41\\u0c02\\u0c1f\\u0c41\\u0c28\\u0c4d\\u0c28\\u0c3e\\u0c30\\u0c41.\\n* \\u0c30\\u0c42.25,000 \\u0c15\\u0c4b\\u0c1f\\u0c4d\\u0c32 \\u0c38\\u0c2e\\u0c40\\u0c15\\u0c30\\u0c23\\u0c15\\u0c41 \\u0c1c\\u0c3e\\u0c30\\u0c40\\u0c1a\\u0c47\\u0c38\\u0c3f\\u0c28 \\u0c30\\u0c48\\u0c1f\\u0c4d\\u0c38\\u0c4d\\u200c \\u0c07\\u0c37\\u0c4d\\u0c2f\\u0c42\\u0c15\\u0c41, \\u0c2a\\u0c30\\u0c3f\\u0c2e\\u0c3f\\u0c24\\u0c3f\\u0c15\\u0c3f \\u0c2e\\u0c3f\\u0c02\\u0c1a\\u0c3f \\u0c06\\u0c26\\u0c30\\u0c23 \\u0c32\\u0c2d\\u0c3f\\u0c02\\u0c1a\\u0c3f\\u0c02\\u0c26\\u0c28\\u0c3f \\u0c2d\\u0c3e\\u0c30\\u0c24\\u0c40 \\u0c0e\\u0c2f\\u0c3f\\u0c30\\u0c4d\\u200c\\u0c1f\\u0c46\\u0c32\\u0c4d\\u200c \\u0c24\\u0c46\\u0c32\\u0c3f\\u0c2a\\u0c3f\\u0c02\\u0c26\\u0c3f.\\n* \\u0c17\\u0c4b\\u0c26\\u0c4d\\u0c30\\u0c47\\u0c1c\\u0c4d\\u200c \\u0c07\\u0c02\\u0c21\\u0c38\\u0c4d\\u0c1f\\u0c4d\\u0c30\\u0c40\\u0c38\\u0c4d\\u200c\\u0c15\\u0c41 \\u0c1a\\u0c46\\u0c02\\u0c26\\u0c3f\\u0c28 \\u0c28\\u0c3f\\u0c24\\u0c4d\\u0c2f\\u0c3e\\u0c35\\u0c38\\u0c30\\u0c3e\\u0c32 \\u0c17\\u0c4a\\u0c32\\u0c41\\u0c38\\u0c41\\u0c15\\u0c1f\\u0c4d\\u0c1f\\u0c41 \\u0c35\\u0c3f\\u0c15\\u0c4d\\u0c30\\u0c2f\\u0c36\\u0c3e\\u0c32\\u0c32 \\u0c38\\u0c02\\u0c38\\u0c4d\\u0c25 \\u0c28\\u0c47\\u0c1a\\u0c30\\u0c4d\\u200c \\u0c2c\\u0c3e\\u0c38\\u0c4d\\u0c15\\u0c46\\u0c1f\\u0c4d\\u200c\\u0c28\\u0c41 \\u0c30\\u0c42.300 \\u0c15\\u0c4b\\u0c1f\\u0c4d\\u0c32\\u0c15\\u0c41 \\u0c15\\u0c4a\\u0c28\\u0c41\\u0c17\\u0c4b\\u0c32\\u0c41 \\u0c1a\\u0c47\\u0c2f\\u0c28\\u0c41\\u0c28\\u0c4d\\u0c28\\u0c1f\\u0c4d\\u0c32\\u0c41 \\u0c06\\u0c30\\u0c4d\\u200c\\u0c2a\\u0c40 \\u0c38\\u0c02\\u0c1c\\u0c40\\u0c35\\u0c4d\\u200c \\u0c17\\u0c4b\\u0c2f\\u0c46\\u0c02\\u0c15\\u0c3e \\u0c17\\u0c4d\\u0c30\\u0c42\\u0c2a\\u0c4d\\u200c \\u0c38\\u0c02\\u0c38\\u0c4d\\u0c25 \\u0c38\\u0c4d\\u0c2a\\u0c46\\u0c28\\u0c4d\\u0c38\\u0c30\\u0c4d\\u0c38\\u0c4d\\u200c \\u0c30\\u0c3f\\u0c1f\\u0c48\\u0c32\\u0c4d\\u200c \\u0c2a\\u0c4d\\u0c30\\u0c15\\u0c1f\\u0c3f\\u0c02\\u0c1a\\u0c3f\\u0c02\\u0c26\\u0c3f.\\n* \\u0c38\\u0c3f\\u0c02\\u0c17\\u0c2a\\u0c42\\u0c30\\u0c4d\\u200c\\u0c15\\u0c41 \\u0c1a\\u0c46\\u0c02\\u0c26\\u0c3f\\u0c28 \\u0c2a\\u0c4d\\u0c30\\u0c2d\\u0c41\\u0c24\\u0c4d\\u0c35\\u0c30\\u0c02\\u0c17 \\u0c35\\u0c46\\u0c32\\u0c4d\\u0c24\\u0c4d\\u200c\\u0c2b\\u0c02\\u0c21\\u0c4d\\u200c \\u0c1c\\u0c40\\u0c10\\u0c38\\u0c40 \\u0c24\\u0c2e \\u0c38\\u0c02\\u0c38\\u0c4d\\u0c25\\u0c32\\u0c4b \\u0c30\\u0c42.4,000 \\u0c15\\u0c4b\\u0c1f\\u0c4d\\u0c32 \\u0c2a\\u0c46\\u0c1f\\u0c4d\\u0c1f\\u0c41\\u0c2c\\u0c21\\u0c3f \\u0c2a\\u0c46\\u0c1f\\u0c4d\\u0c1f\\u0c28\\u0c41\\u0c28\\u0c4d\\u0c28\\u0c1f\\u0c4d\\u0c32\\u0c41 \\u0c1f\\u0c3e\\u0c1f\\u0c3e \\u0c17\\u0c4d\\u0c30\\u0c42\\u0c2a\\u0c4d\\u200c \\u0c06\\u0c24\\u0c3f\\u0c25\\u0c4d\\u0c2f \\u0c35\\u0c3f\\u0c2d\\u0c3e\\u0c17\\u0c2e\\u0c48\\u0c28 \\u0c10\\u0c39\\u0c46\\u0c1a\\u0c4d\\u200c\\u0c38\\u0c40\\u0c0e\\u0c32\\u0c4d\\u200c \\u0c24\\u0c46\\u0c32\\u0c3f\\u0c2a\\u0c3f\\u0c02\\u0c26\\u0c3f. \\u0c39\\u0c4b\\u0c1f\\u0c33\\u0c4d\\u0c32 \\u0c38\\u0c4d\\u0c35\\u0c3e\\u0c27\\u0c40\\u0c28\\u0c24\\u0c15\\u0c41 \\u0c08 \\u0c28\\u0c3f\\u0c27\\u0c41\\u0c32\\u0c41 \\u0c35\\u0c3f\\u0c28\\u0c3f\\u0c2f\\u0c4b\\u0c17\\u0c3f\\u0c38\\u0c4d\\u0c24\\u0c3e\\u0c2e\\u0c28\\u0c3f \\u0c2a\\u0c4d\\u0c30\\u0c15\\u0c1f\\u0c3f\\u0c02\\u0c1a\\u0c3f\\u0c02\\u0c26\\u0c3f.\\n* \\u0c2d\\u0c3f\\u0c28\\u0c4d\\u0c28 \\u0c30\\u0c15\\u0c3e\\u0c32 \\u0c15\\u0c4d\\u0c2f\\u0c3e\\u0c28\\u0c4d\\u0c38\\u0c30\\u0c4d\\u200c \\u0c1a\\u0c3f\\u0c15\\u0c3f\\u0c24\\u0c4d\\u0c38\\u0c15\\u0c41 \\u0c35\\u0c3f\\u0c28\\u0c3f\\u0c2f\\u0c4b\\u0c17\\u0c3f\\u0c02\\u0c1a\\u0c47 \\u0c21\\u0c4b\\u0c38\\u0c46\\u0c1f\\u0c3e\\u0c15\\u0c4d\\u0c38\\u0c46\\u0c32\\u0c4d\\u200c \\u0c07\\u0c02\\u0c1c\\u0c46\\u0c15\\u0c4d\\u0c37\\u0c28\\u0c4d\\u200c\\u0c15\\u0c41 \\u0c2f\\u0c42\\u0c0e\\u0c38\\u0c4d\\u200c\\u0c0e\\u0c2b\\u0c4d\\u200c\\u0c21\\u0c40\\u0c0f \\u0c24\\u0c41\\u0c26\\u0c3f\\u0c06\\u0c2e\\u0c4b\\u0c26\\u0c02 \\u0c32\\u0c2d\\u0c3f\\u0c02\\u0c1a\\u0c3f\\u0c28\\u0c1f\\u0c4d\\u0c32\\u0c41 \\u0c36\\u0c3f\\u0c32\\u0c4d\\u0c2a\\u0c3e \\u0c2e\\u0c46\\u0c21\\u0c3f\\u0c15\\u0c47\\u0c30\\u0c4d\\u200c \\u0c35\\u0c46\\u0c32\\u0c4d\\u0c32\\u0c21\\u0c3f\\u0c02\\u0c1a\\u0c3f\\u0c02\\u0c26\\u0c3f.\\n* \\u0c30\\u0c41\\u0c23 \\u0c38\\u0c02\\u0c15\\u0c4d\\u0c37\\u0c4b\\u0c2d\\u0c02\\u0c32\\u0c4b \\u0c1a\\u0c3f\\u0c15\\u0c4d\\u0c15\\u0c41\\u0c15\\u0c41\\u0c28\\u0c4d\\u0c28 \\u0c1c\\u0c47\\u0c2a\\u0c40 \\u0c07\\u0c28\\u0c4d\\u200c\\u0c2b\\u0c4d\\u0c30\\u0c3e\\u0c1f\\u0c46\\u0c15\\u0c4d\\u200c\\u0c28\\u0c41 \\u0c38\\u0c4d\\u0c35\\u0c3e\\u0c27\\u0c40\\u0c28\\u0c02 \\u0c1a\\u0c47\\u0c38\\u0c41\\u0c15\\u0c41\\u0c28\\u0c47\\u0c02\\u0c26\\u0c41\\u0c15\\u0c41 \\u0c0e\\u0c28\\u0c4d\\u200c\\u0c2c\\u0c40\\u0c38\\u0c40\\u0c38\\u0c40 \\u0c35\\u0c47\\u0c38\\u0c3f\\u0c28 \\u0c2c\\u0c3f\\u0c21\\u0c4d\\u200c\\u0c2a\\u0c48 \\u0c07\\u0c33\\u0c4d\\u0c32 \\u0c15\\u0c4a\\u0c28\\u0c41\\u0c17\\u0c4b\\u0c32\\u0c41\\u0c26\\u0c3e\\u0c30\\u0c4d\\u0c32\\u0c41, \\u0c30\\u0c41\\u0c23\\u0c26\\u0c3e\\u0c24\\u0c32 \\u0c13\\u0c1f\\u0c3f\\u0c02\\u0c17\\u0c4d\\u200c\\u0c28\\u0c41 \\u0c1c\\u0c3e\\u0c24\\u0c40\\u0c2f \\u0c15\\u0c02\\u0c2a\\u0c46\\u0c28\\u0c40 \\u0c32\\u0c3e \\u0c05\\u0c2a\\u0c4d\\u0c2a\\u0c3f\\u0c32\\u0c47\\u0c1f\\u0c4d\\u200c \\u0c1f\\u0c4d\\u0c30\\u0c48\\u0c2c\\u0c4d\\u0c2f\\u0c41\\u0c28\\u0c32\\u0c4d\\u200c (\\u0c0e\\u0c28\\u0c4d\\u200c\\u0c38\\u0c40\\u0c0e\\u0c32\\u0c4d\\u200c\\u0c0f\\u0c1f\\u0c40) \\u0c30\\u0c26\\u0c4d\\u0c26\\u0c41 \\u0c1a\\u0c47\\u0c38\\u0c3f\\u0c02\\u0c26\\u0c3f. \\u0c08\\u0c28\\u0c46\\u0c32 30\\u0c28 \\u0c2e\\u0c33\\u0c4d\\u0c32\\u0c40 \\u0c38\\u0c02\\u0c2a\\u0c4d\\u0c30\\u0c26\\u0c3f\\u0c02\\u0c2a\\u0c41\\u0c32\\u0c15\\u0c41 \\u0c05\\u0c28\\u0c41\\u0c2e\\u0c24\\u0c3f\\u0c02\\u0c1a\\u0c3f\\u0c02\\u0c26\\u0c3f.\\n            \"\n        ],\n        \"semantic_type\": \"\",\n        \"description\": \"\"\n      }\n    },\n    {\n      \"column\": \"emotion_label\",\n      \"properties\": {\n        \"dtype\": \"category\",\n        \"num_unique_values\": 8,\n        \"samples\": [\n          \"fear\",\n          \"trust\",\n          \"neutral\"\n        ],\n        \"semantic_type\": \"\",\n        \"description\": \"\"\n      }\n    }\n  ]\n}"
            }
          },
          "metadata": {},
          "execution_count": 47
        }
      ]
    },
    {
      "cell_type": "code",
      "source": [
        "emotion_telugu_df.shape"
      ],
      "metadata": {
        "colab": {
          "base_uri": "https://localhost:8080/"
        },
        "id": "3URwBokwSCyD",
        "outputId": "7a7d603f-b6e6-40bd-9d2e-27d47b4d2205"
      },
      "execution_count": 48,
      "outputs": [
        {
          "output_type": "execute_result",
          "data": {
            "text/plain": [
              "(10628, 2)"
            ]
          },
          "metadata": {},
          "execution_count": 48
        }
      ]
    },
    {
      "cell_type": "code",
      "source": [
        "emotion_telugu_df.isnull().sum()"
      ],
      "metadata": {
        "colab": {
          "base_uri": "https://localhost:8080/",
          "height": 145
        },
        "id": "Nx-ltyocSKlL",
        "outputId": "f8ccacf8-7281-4ca5-f0ba-bcb27ae2f503"
      },
      "execution_count": 49,
      "outputs": [
        {
          "output_type": "execute_result",
          "data": {
            "text/plain": [
              "cleaned_text     0\n",
              "emotion_label    0\n",
              "dtype: int64"
            ],
            "text/html": [
              "<div>\n",
              "<style scoped>\n",
              "    .dataframe tbody tr th:only-of-type {\n",
              "        vertical-align: middle;\n",
              "    }\n",
              "\n",
              "    .dataframe tbody tr th {\n",
              "        vertical-align: top;\n",
              "    }\n",
              "\n",
              "    .dataframe thead th {\n",
              "        text-align: right;\n",
              "    }\n",
              "</style>\n",
              "<table border=\"1\" class=\"dataframe\">\n",
              "  <thead>\n",
              "    <tr style=\"text-align: right;\">\n",
              "      <th></th>\n",
              "      <th>0</th>\n",
              "    </tr>\n",
              "  </thead>\n",
              "  <tbody>\n",
              "    <tr>\n",
              "      <th>cleaned_text</th>\n",
              "      <td>0</td>\n",
              "    </tr>\n",
              "    <tr>\n",
              "      <th>emotion_label</th>\n",
              "      <td>0</td>\n",
              "    </tr>\n",
              "  </tbody>\n",
              "</table>\n",
              "</div><br><label><b>dtype:</b> int64</label>"
            ]
          },
          "metadata": {},
          "execution_count": 49
        }
      ]
    },
    {
      "cell_type": "code",
      "source": [
        "texts = emotion_telugu_df['cleaned_text'].astype(str)\n",
        "labels = emotion_telugu_df['emotion_label']"
      ],
      "metadata": {
        "id": "xdjat7ZCSNeG"
      },
      "execution_count": 50,
      "outputs": []
    },
    {
      "cell_type": "code",
      "source": [
        "le = LabelEncoder()\n",
        "labels_enc = le.fit_transform(labels)\n",
        "num_classes = len(le.classes_)\n",
        "print(\"Classes:\", le.classes_, \"| Num classes:\", num_classes)"
      ],
      "metadata": {
        "colab": {
          "base_uri": "https://localhost:8080/"
        },
        "id": "qnKzYOa8SWnz",
        "outputId": "a98a2200-d744-4ab5-ebcc-dd75ba997323"
      },
      "execution_count": 51,
      "outputs": [
        {
          "output_type": "stream",
          "name": "stdout",
          "text": [
            "Classes: ['anger' 'anticipation' 'disgust' 'fear' 'negative' 'neutral' 'positive'\n",
            " 'trust'] | Num classes: 8\n"
          ]
        }
      ]
    },
    {
      "cell_type": "code",
      "source": [
        "# 3. Split into train/test\n",
        "X_train, X_test, y_train, y_test = train_test_split(\n",
        "    texts, labels_enc,\n",
        "    test_size=0.2,\n",
        "    random_state=42,\n",
        "    stratify=labels_enc\n",
        ")"
      ],
      "metadata": {
        "id": "scyh0vBGSgPw"
      },
      "execution_count": 52,
      "outputs": []
    },
    {
      "cell_type": "code",
      "source": [
        "# 4. Tokenize & pad\n",
        "max_words = 10000\n",
        "max_len   = 100\n",
        "\n",
        "tokenizer = Tokenizer(num_words=max_words, oov_token='<OOV>')\n",
        "tokenizer.fit_on_texts(X_train)\n",
        "\n",
        "X_train_seq = tokenizer.texts_to_sequences(X_train)\n",
        "X_test_seq  = tokenizer.texts_to_sequences(X_test)\n",
        "\n",
        "X_train_pad = pad_sequences(X_train_seq, maxlen=max_len, padding='post', truncating='post')\n",
        "X_test_pad  = pad_sequences(X_test_seq,  maxlen=max_len, padding='post', truncating='post')"
      ],
      "metadata": {
        "id": "3yqiEA-BSmwi"
      },
      "execution_count": 53,
      "outputs": []
    },
    {
      "cell_type": "code",
      "source": [
        "# 5. Prepare labels for sparse loss\n",
        "y_train = y_train.reshape(-1).astype('int32')\n",
        "y_test  = y_test.reshape(-1).astype('int32')"
      ],
      "metadata": {
        "id": "WDniSlMkSqWN"
      },
      "execution_count": 54,
      "outputs": []
    },
    {
      "cell_type": "code",
      "source": [
        "# 6. Build the CNN model (with explicit input shape)\n",
        "embedding_dim = 100\n",
        "\n",
        "model = Sequential([\n",
        "    Embedding(input_dim=max_words,\n",
        "              output_dim=embedding_dim,\n",
        "              input_shape=(max_len,)),      # ← triggers shape inference\n",
        "    Conv1D(filters=128, kernel_size=5, activation='relu'),\n",
        "    GlobalMaxPooling1D(),\n",
        "    Dropout(0.5),\n",
        "    Dense(64, activation='relu'),\n",
        "    Dropout(0.5),\n",
        "    Dense(num_classes, activation='softmax'),\n",
        "])"
      ],
      "metadata": {
        "colab": {
          "base_uri": "https://localhost:8080/"
        },
        "id": "Z_oYHWSLSvLQ",
        "outputId": "8b02e7af-247a-479e-d1a9-72fc7634a8ef"
      },
      "execution_count": 55,
      "outputs": [
        {
          "output_type": "stream",
          "name": "stderr",
          "text": [
            "/usr/local/lib/python3.11/dist-packages/keras/src/layers/core/embedding.py:93: UserWarning: Do not pass an `input_shape`/`input_dim` argument to a layer. When using Sequential models, prefer using an `Input(shape)` object as the first layer in the model instead.\n",
            "  super().__init__(**kwargs)\n"
          ]
        }
      ]
    },
    {
      "cell_type": "code",
      "source": [
        "# 7. Compile\n",
        "model.compile(\n",
        "    loss='sparse_categorical_crossentropy',\n",
        "    optimizer='adam',\n",
        "    metrics=['accuracy']\n",
        ")"
      ],
      "metadata": {
        "id": "0fKzFlTXS0I4"
      },
      "execution_count": 56,
      "outputs": []
    },
    {
      "cell_type": "code",
      "source": [
        "# 8. Inspect summary\n",
        "model.summary()"
      ],
      "metadata": {
        "colab": {
          "base_uri": "https://localhost:8080/",
          "height": 369
        },
        "id": "tVClI1OFS4Lw",
        "outputId": "dea0c5ee-7901-4733-ee86-6063c7cb424b"
      },
      "execution_count": 57,
      "outputs": [
        {
          "output_type": "display_data",
          "data": {
            "text/plain": [
              "\u001b[1mModel: \"sequential_3\"\u001b[0m\n"
            ],
            "text/html": [
              "<pre style=\"white-space:pre;overflow-x:auto;line-height:normal;font-family:Menlo,'DejaVu Sans Mono',consolas,'Courier New',monospace\"><span style=\"font-weight: bold\">Model: \"sequential_3\"</span>\n",
              "</pre>\n"
            ]
          },
          "metadata": {}
        },
        {
          "output_type": "display_data",
          "data": {
            "text/plain": [
              "┏━━━━━━━━━━━━━━━━━━━━━━━━━━━━━━━━━┳━━━━━━━━━━━━━━━━━━━━━━━━┳━━━━━━━━━━━━━━━┓\n",
              "┃\u001b[1m \u001b[0m\u001b[1mLayer (type)                   \u001b[0m\u001b[1m \u001b[0m┃\u001b[1m \u001b[0m\u001b[1mOutput Shape          \u001b[0m\u001b[1m \u001b[0m┃\u001b[1m \u001b[0m\u001b[1m      Param #\u001b[0m\u001b[1m \u001b[0m┃\n",
              "┡━━━━━━━━━━━━━━━━━━━━━━━━━━━━━━━━━╇━━━━━━━━━━━━━━━━━━━━━━━━╇━━━━━━━━━━━━━━━┩\n",
              "│ embedding_3 (\u001b[38;5;33mEmbedding\u001b[0m)         │ (\u001b[38;5;45mNone\u001b[0m, \u001b[38;5;34m100\u001b[0m, \u001b[38;5;34m100\u001b[0m)       │     \u001b[38;5;34m1,000,000\u001b[0m │\n",
              "├─────────────────────────────────┼────────────────────────┼───────────────┤\n",
              "│ conv1d_3 (\u001b[38;5;33mConv1D\u001b[0m)               │ (\u001b[38;5;45mNone\u001b[0m, \u001b[38;5;34m96\u001b[0m, \u001b[38;5;34m128\u001b[0m)        │        \u001b[38;5;34m64,128\u001b[0m │\n",
              "├─────────────────────────────────┼────────────────────────┼───────────────┤\n",
              "│ global_max_pooling1d_3          │ (\u001b[38;5;45mNone\u001b[0m, \u001b[38;5;34m128\u001b[0m)            │             \u001b[38;5;34m0\u001b[0m │\n",
              "│ (\u001b[38;5;33mGlobalMaxPooling1D\u001b[0m)            │                        │               │\n",
              "├─────────────────────────────────┼────────────────────────┼───────────────┤\n",
              "│ dropout_6 (\u001b[38;5;33mDropout\u001b[0m)             │ (\u001b[38;5;45mNone\u001b[0m, \u001b[38;5;34m128\u001b[0m)            │             \u001b[38;5;34m0\u001b[0m │\n",
              "├─────────────────────────────────┼────────────────────────┼───────────────┤\n",
              "│ dense_6 (\u001b[38;5;33mDense\u001b[0m)                 │ (\u001b[38;5;45mNone\u001b[0m, \u001b[38;5;34m64\u001b[0m)             │         \u001b[38;5;34m8,256\u001b[0m │\n",
              "├─────────────────────────────────┼────────────────────────┼───────────────┤\n",
              "│ dropout_7 (\u001b[38;5;33mDropout\u001b[0m)             │ (\u001b[38;5;45mNone\u001b[0m, \u001b[38;5;34m64\u001b[0m)             │             \u001b[38;5;34m0\u001b[0m │\n",
              "├─────────────────────────────────┼────────────────────────┼───────────────┤\n",
              "│ dense_7 (\u001b[38;5;33mDense\u001b[0m)                 │ (\u001b[38;5;45mNone\u001b[0m, \u001b[38;5;34m8\u001b[0m)              │           \u001b[38;5;34m520\u001b[0m │\n",
              "└─────────────────────────────────┴────────────────────────┴───────────────┘\n"
            ],
            "text/html": [
              "<pre style=\"white-space:pre;overflow-x:auto;line-height:normal;font-family:Menlo,'DejaVu Sans Mono',consolas,'Courier New',monospace\">┏━━━━━━━━━━━━━━━━━━━━━━━━━━━━━━━━━┳━━━━━━━━━━━━━━━━━━━━━━━━┳━━━━━━━━━━━━━━━┓\n",
              "┃<span style=\"font-weight: bold\"> Layer (type)                    </span>┃<span style=\"font-weight: bold\"> Output Shape           </span>┃<span style=\"font-weight: bold\">       Param # </span>┃\n",
              "┡━━━━━━━━━━━━━━━━━━━━━━━━━━━━━━━━━╇━━━━━━━━━━━━━━━━━━━━━━━━╇━━━━━━━━━━━━━━━┩\n",
              "│ embedding_3 (<span style=\"color: #0087ff; text-decoration-color: #0087ff\">Embedding</span>)         │ (<span style=\"color: #00d7ff; text-decoration-color: #00d7ff\">None</span>, <span style=\"color: #00af00; text-decoration-color: #00af00\">100</span>, <span style=\"color: #00af00; text-decoration-color: #00af00\">100</span>)       │     <span style=\"color: #00af00; text-decoration-color: #00af00\">1,000,000</span> │\n",
              "├─────────────────────────────────┼────────────────────────┼───────────────┤\n",
              "│ conv1d_3 (<span style=\"color: #0087ff; text-decoration-color: #0087ff\">Conv1D</span>)               │ (<span style=\"color: #00d7ff; text-decoration-color: #00d7ff\">None</span>, <span style=\"color: #00af00; text-decoration-color: #00af00\">96</span>, <span style=\"color: #00af00; text-decoration-color: #00af00\">128</span>)        │        <span style=\"color: #00af00; text-decoration-color: #00af00\">64,128</span> │\n",
              "├─────────────────────────────────┼────────────────────────┼───────────────┤\n",
              "│ global_max_pooling1d_3          │ (<span style=\"color: #00d7ff; text-decoration-color: #00d7ff\">None</span>, <span style=\"color: #00af00; text-decoration-color: #00af00\">128</span>)            │             <span style=\"color: #00af00; text-decoration-color: #00af00\">0</span> │\n",
              "│ (<span style=\"color: #0087ff; text-decoration-color: #0087ff\">GlobalMaxPooling1D</span>)            │                        │               │\n",
              "├─────────────────────────────────┼────────────────────────┼───────────────┤\n",
              "│ dropout_6 (<span style=\"color: #0087ff; text-decoration-color: #0087ff\">Dropout</span>)             │ (<span style=\"color: #00d7ff; text-decoration-color: #00d7ff\">None</span>, <span style=\"color: #00af00; text-decoration-color: #00af00\">128</span>)            │             <span style=\"color: #00af00; text-decoration-color: #00af00\">0</span> │\n",
              "├─────────────────────────────────┼────────────────────────┼───────────────┤\n",
              "│ dense_6 (<span style=\"color: #0087ff; text-decoration-color: #0087ff\">Dense</span>)                 │ (<span style=\"color: #00d7ff; text-decoration-color: #00d7ff\">None</span>, <span style=\"color: #00af00; text-decoration-color: #00af00\">64</span>)             │         <span style=\"color: #00af00; text-decoration-color: #00af00\">8,256</span> │\n",
              "├─────────────────────────────────┼────────────────────────┼───────────────┤\n",
              "│ dropout_7 (<span style=\"color: #0087ff; text-decoration-color: #0087ff\">Dropout</span>)             │ (<span style=\"color: #00d7ff; text-decoration-color: #00d7ff\">None</span>, <span style=\"color: #00af00; text-decoration-color: #00af00\">64</span>)             │             <span style=\"color: #00af00; text-decoration-color: #00af00\">0</span> │\n",
              "├─────────────────────────────────┼────────────────────────┼───────────────┤\n",
              "│ dense_7 (<span style=\"color: #0087ff; text-decoration-color: #0087ff\">Dense</span>)                 │ (<span style=\"color: #00d7ff; text-decoration-color: #00d7ff\">None</span>, <span style=\"color: #00af00; text-decoration-color: #00af00\">8</span>)              │           <span style=\"color: #00af00; text-decoration-color: #00af00\">520</span> │\n",
              "└─────────────────────────────────┴────────────────────────┴───────────────┘\n",
              "</pre>\n"
            ]
          },
          "metadata": {}
        },
        {
          "output_type": "display_data",
          "data": {
            "text/plain": [
              "\u001b[1m Total params: \u001b[0m\u001b[38;5;34m1,072,904\u001b[0m (4.09 MB)\n"
            ],
            "text/html": [
              "<pre style=\"white-space:pre;overflow-x:auto;line-height:normal;font-family:Menlo,'DejaVu Sans Mono',consolas,'Courier New',monospace\"><span style=\"font-weight: bold\"> Total params: </span><span style=\"color: #00af00; text-decoration-color: #00af00\">1,072,904</span> (4.09 MB)\n",
              "</pre>\n"
            ]
          },
          "metadata": {}
        },
        {
          "output_type": "display_data",
          "data": {
            "text/plain": [
              "\u001b[1m Trainable params: \u001b[0m\u001b[38;5;34m1,072,904\u001b[0m (4.09 MB)\n"
            ],
            "text/html": [
              "<pre style=\"white-space:pre;overflow-x:auto;line-height:normal;font-family:Menlo,'DejaVu Sans Mono',consolas,'Courier New',monospace\"><span style=\"font-weight: bold\"> Trainable params: </span><span style=\"color: #00af00; text-decoration-color: #00af00\">1,072,904</span> (4.09 MB)\n",
              "</pre>\n"
            ]
          },
          "metadata": {}
        },
        {
          "output_type": "display_data",
          "data": {
            "text/plain": [
              "\u001b[1m Non-trainable params: \u001b[0m\u001b[38;5;34m0\u001b[0m (0.00 B)\n"
            ],
            "text/html": [
              "<pre style=\"white-space:pre;overflow-x:auto;line-height:normal;font-family:Menlo,'DejaVu Sans Mono',consolas,'Courier New',monospace\"><span style=\"font-weight: bold\"> Non-trainable params: </span><span style=\"color: #00af00; text-decoration-color: #00af00\">0</span> (0.00 B)\n",
              "</pre>\n"
            ]
          },
          "metadata": {}
        }
      ]
    },
    {
      "cell_type": "code",
      "source": [
        "# 9. Train with EarlyStopping\n",
        "es = EarlyStopping(monitor='val_loss', patience=3, restore_best_weights=True)\n",
        "history = model.fit(\n",
        "    X_train_pad, y_train,\n",
        "    validation_split=0.1,\n",
        "    epochs=20,\n",
        "    batch_size=64,\n",
        "    callbacks=[es]\n",
        ")"
      ],
      "metadata": {
        "colab": {
          "base_uri": "https://localhost:8080/"
        },
        "id": "SmjorhzyS7Ym",
        "outputId": "8a3a33cd-7801-47e5-b3a1-2449d40cdbbb"
      },
      "execution_count": 58,
      "outputs": [
        {
          "output_type": "stream",
          "name": "stdout",
          "text": [
            "Epoch 1/20\n",
            "\u001b[1m120/120\u001b[0m \u001b[32m━━━━━━━━━━━━━━━━━━━━\u001b[0m\u001b[37m\u001b[0m \u001b[1m9s\u001b[0m 62ms/step - accuracy: 0.6051 - loss: 1.3031 - val_accuracy: 0.7591 - val_loss: 0.7708\n",
            "Epoch 2/20\n",
            "\u001b[1m120/120\u001b[0m \u001b[32m━━━━━━━━━━━━━━━━━━━━\u001b[0m\u001b[37m\u001b[0m \u001b[1m10s\u001b[0m 60ms/step - accuracy: 0.7649 - loss: 0.7776 - val_accuracy: 0.8096 - val_loss: 0.6137\n",
            "Epoch 3/20\n",
            "\u001b[1m120/120\u001b[0m \u001b[32m━━━━━━━━━━━━━━━━━━━━\u001b[0m\u001b[37m\u001b[0m \u001b[1m8s\u001b[0m 71ms/step - accuracy: 0.8459 - loss: 0.5307 - val_accuracy: 0.8331 - val_loss: 0.5142\n",
            "Epoch 4/20\n",
            "\u001b[1m120/120\u001b[0m \u001b[32m━━━━━━━━━━━━━━━━━━━━\u001b[0m\u001b[37m\u001b[0m \u001b[1m7s\u001b[0m 60ms/step - accuracy: 0.8792 - loss: 0.4251 - val_accuracy: 0.8543 - val_loss: 0.4993\n",
            "Epoch 5/20\n",
            "\u001b[1m120/120\u001b[0m \u001b[32m━━━━━━━━━━━━━━━━━━━━\u001b[0m\u001b[37m\u001b[0m \u001b[1m8s\u001b[0m 68ms/step - accuracy: 0.9020 - loss: 0.3137 - val_accuracy: 0.8508 - val_loss: 0.5509\n",
            "Epoch 6/20\n",
            "\u001b[1m120/120\u001b[0m \u001b[32m━━━━━━━━━━━━━━━━━━━━\u001b[0m\u001b[37m\u001b[0m \u001b[1m9s\u001b[0m 72ms/step - accuracy: 0.9180 - loss: 0.2545 - val_accuracy: 0.8531 - val_loss: 0.5617\n",
            "Epoch 7/20\n",
            "\u001b[1m120/120\u001b[0m \u001b[32m━━━━━━━━━━━━━━━━━━━━\u001b[0m\u001b[37m\u001b[0m \u001b[1m7s\u001b[0m 62ms/step - accuracy: 0.9404 - loss: 0.2105 - val_accuracy: 0.8684 - val_loss: 0.5860\n"
          ]
        }
      ]
    },
    {
      "cell_type": "code",
      "source": [
        "loss, accuracy = model.evaluate(X_test_pad, y_test)\n",
        "print(f\"Test Accuracy: {accuracy:.4f}\")"
      ],
      "metadata": {
        "colab": {
          "base_uri": "https://localhost:8080/"
        },
        "id": "Pzwh7ya8TDwD",
        "outputId": "30053db5-0902-4eca-d4c6-3dd318a2f4d4"
      },
      "execution_count": 59,
      "outputs": [
        {
          "output_type": "stream",
          "name": "stdout",
          "text": [
            "\u001b[1m67/67\u001b[0m \u001b[32m━━━━━━━━━━━━━━━━━━━━\u001b[0m\u001b[37m\u001b[0m \u001b[1m1s\u001b[0m 10ms/step - accuracy: 0.8341 - loss: 0.5293\n",
            "Test Accuracy: 0.8467\n"
          ]
        }
      ]
    },
    {
      "cell_type": "code",
      "source": [
        "import numpy as np\n",
        "import matplotlib.pyplot as plt\n",
        "from sklearn.metrics import confusion_matrix\n",
        "\n",
        "# 1. Get model predictions (assuming model, X_test_pad, and y_test exist)\n",
        "y_pred_prob = model.predict(X_test_pad)\n",
        "y_pred_labels = np.argmax(y_pred_prob, axis=1)\n",
        "\n",
        "# 2. Compute confusion matrix\n",
        "cm = confusion_matrix(y_test, y_pred_labels)\n",
        "\n",
        "# 3. Plot confusion matrix\n",
        "plt.figure()\n",
        "plt.imshow(cm, interpolation='nearest')\n",
        "plt.title('Confusion Matrix')\n",
        "plt.xlabel('Predicted label')\n",
        "plt.ylabel('True label')\n",
        "plt.xticks(np.arange(len(le.classes_)), le.classes_, rotation=45)\n",
        "plt.yticks(np.arange(len(le.classes_)), le.classes_)\n",
        "plt.colorbar()\n",
        "plt.tight_layout()\n",
        "plt.show()"
      ],
      "metadata": {
        "colab": {
          "base_uri": "https://localhost:8080/",
          "height": 504
        },
        "id": "iZbvSdOXTYPQ",
        "outputId": "835ed25a-db30-4552-f6d9-5264a69aa6ea"
      },
      "execution_count": 60,
      "outputs": [
        {
          "output_type": "stream",
          "name": "stdout",
          "text": [
            "\u001b[1m67/67\u001b[0m \u001b[32m━━━━━━━━━━━━━━━━━━━━\u001b[0m\u001b[37m\u001b[0m \u001b[1m1s\u001b[0m 10ms/step\n"
          ]
        },
        {
          "output_type": "display_data",
          "data": {
            "text/plain": [
              "<Figure size 640x480 with 2 Axes>"
            ],
            "image/png": "[encoded data removed]"
          },
          "metadata": {}
        }
      ]
    },
    {
      "cell_type": "code",
      "source": [
        "# Both CNN And LSTM"
      ],
      "metadata": {
        "id": "Jlmpoh2KT7D7"
      },
      "execution_count": 61,
      "outputs": []
    },
    {
      "cell_type": "code",
      "source": [
        "import pandas as pd\n",
        "import numpy as np\n",
        "import matplotlib.pyplot as plt\n",
        "from sklearn.model_selection import train_test_split\n",
        "from sklearn.preprocessing import LabelEncoder\n",
        "from sklearn.metrics import confusion_matrix\n",
        "from tensorflow.keras.preprocessing.text import Tokenizer\n",
        "from tensorflow.keras.preprocessing.sequence import pad_sequences\n",
        "from tensorflow.keras.models import Sequential\n",
        "from tensorflow.keras.layers import Embedding, Conv1D, GlobalMaxPooling1D, LSTM, Dense, Dropout\n",
        "from tensorflow.keras.callbacks import EarlyStopping\n",
        "\n",
        "# Configuration for both languages\n",
        "datasets = [\n",
        "    ('Hindi', '/content/Emotion_attached_final_hindi.csv', 'Text_description'),\n",
        "    ('Telugu', '/content/Emotion_attached_final_telugu.csv', 'cleaned_text'),\n",
        "]\n",
        "\n",
        "max_words = 10000\n",
        "max_len = 100\n",
        "embedding_dim = 100\n",
        "batch_size = 64\n",
        "epochs = 10\n",
        "\n",
        "# Store results for comparison\n",
        "results = {}\n",
        "\n",
        "for lang, path, text_col in datasets:\n",
        "    # 1. Load and preprocess\n",
        "    df = pd.read_csv(path)\n",
        "    texts = df[text_col].astype(str)\n",
        "    labels = df['emotion_label']\n",
        "\n",
        "    le = LabelEncoder()\n",
        "    labels_enc = le.fit_transform(labels)\n",
        "    num_classes = len(le.classes_)\n",
        "\n",
        "    X_train, X_test, y_train, y_test = train_test_split(\n",
        "        texts, labels_enc,\n",
        "        test_size=0.2,\n",
        "        random_state=42,\n",
        "        stratify=labels_enc\n",
        "    )\n",
        "\n",
        "    tokenizer = Tokenizer(num_words=max_words, oov_token='<OOV>')\n",
        "    tokenizer.fit_on_texts(X_train)\n",
        "\n",
        "    X_train_pad = pad_sequences(\n",
        "        tokenizer.texts_to_sequences(X_train),\n",
        "        maxlen=max_len, padding='post', truncating='post'\n",
        "    )\n",
        "    X_test_pad = pad_sequences(\n",
        "        tokenizer.texts_to_sequences(X_test),\n",
        "        maxlen=max_len, padding='post', truncating='post'\n",
        "    )\n",
        "\n",
        "    y_train = y_train.reshape(-1).astype('int32')\n",
        "    y_test = y_test.reshape(-1).astype('int32')\n",
        "\n",
        "    es = EarlyStopping(monitor='val_loss', patience=3, restore_best_weights=True)\n",
        "\n",
        "    # 2. Build & train CNN\n",
        "    cnn = Sequential([\n",
        "        Embedding(input_dim=max_words, output_dim=embedding_dim, input_shape=(max_len,)),\n",
        "        Conv1D(filters=128, kernel_size=5, activation='relu'),\n",
        "        GlobalMaxPooling1D(),\n",
        "        Dropout(0.5),\n",
        "        Dense(64, activation='relu'),\n",
        "        Dropout(0.5),\n",
        "        Dense(num_classes, activation='softmax'),\n",
        "    ])\n",
        "    cnn.compile(loss='sparse_categorical_crossentropy', optimizer='adam', metrics=['accuracy'])\n",
        "    cnn.fit(X_train_pad, y_train, validation_split=0.1, epochs=epochs,\n",
        "            batch_size=batch_size, callbacks=[es], verbose=0)\n",
        "    loss_cnn, acc_cnn = cnn.evaluate(X_test_pad, y_test, verbose=0)\n",
        "    y_pred_cnn = np.argmax(cnn.predict(X_test_pad), axis=1)\n",
        "    cm_cnn = confusion_matrix(y_test, y_pred_cnn)\n",
        "\n",
        "    # 3. Build & train LSTM\n",
        "    lstm = Sequential([\n",
        "        Embedding(input_dim=max_words, output_dim=embedding_dim, input_shape=(max_len,)),\n",
        "        LSTM(128),\n",
        "        Dropout(0.5),\n",
        "        Dense(64, activation='relu'),\n",
        "        Dropout(0.5),\n",
        "        Dense(num_classes, activation='softmax'),\n",
        "    ])\n",
        "    lstm.compile(loss='sparse_categorical_crossentropy', optimizer='adam', metrics=['accuracy'])\n",
        "    lstm.fit(X_train_pad, y_train, validation_split=0.1, epochs=epochs,\n",
        "             batch_size=batch_size, callbacks=[es], verbose=0)\n",
        "    loss_lstm, acc_lstm = lstm.evaluate(X_test_pad, y_test, verbose=0)\n",
        "    y_pred_lstm = np.argmax(lstm.predict(X_test_pad), axis=1)\n",
        "    cm_lstm = confusion_matrix(y_test, y_pred_lstm)\n",
        "\n",
        "    # Save results\n",
        "    results[lang] = {\n",
        "        'label_encoder': le,\n",
        "        'accuracy': {'CNN': acc_cnn, 'LSTM': acc_lstm},\n",
        "        'confusion_matrices': {'CNN': cm_cnn, 'LSTM': cm_lstm}\n",
        "    }\n",
        "\n",
        "    # 4. Plot confusion matrices for this language\n",
        "    fig, axes = plt.subplots(1, 2, figsize=(10,4))\n",
        "    for ax, cm, title in zip(\n",
        "        axes,\n",
        "        [cm_cnn, cm_lstm],\n",
        "        [f'{lang} CNN Confusion Matrix', f'{lang} LSTM Confusion Matrix']\n",
        "    ):\n",
        "        im = ax.imshow(cm, interpolation='nearest')\n",
        "        ax.set_title(title)\n",
        "        ax.set_xticks(np.arange(num_classes))\n",
        "        ax.set_xticklabels(le.classes_, rotation=45)\n",
        "        ax.set_yticks(np.arange(num_classes))\n",
        "        ax.set_yticklabels(le.classes_)\n",
        "        ax.set_xlabel('Predicted')\n",
        "        ax.set_ylabel('True')\n",
        "        fig.colorbar(im, ax=ax)\n",
        "    plt.tight_layout()\n",
        "    plt.show()\n",
        "\n",
        "# 5. Compare accuracies across languages\n",
        "fig, ax = plt.subplots(figsize=(6,4))\n",
        "labels = list(results.keys())\n",
        "cnn_acc = [results[l]['accuracy']['CNN'] for l in labels]\n",
        "lstm_acc = [results[l]['accuracy']['LSTM'] for l in labels]\n",
        "\n",
        "x = np.arange(len(labels))\n",
        "width = 0.35\n",
        "\n",
        "ax.bar(x - width/2, cnn_acc, width, label='CNN')\n",
        "ax.bar(x + width/2, lstm_acc, width, label='LSTM')\n",
        "ax.set_xticks(x)\n",
        "ax.set_xticklabels(labels)\n",
        "ax.set_ylabel('Test Accuracy')\n",
        "ax.set_title('CNN vs LSTM Accuracy by Language')\n",
        "ax.legend()\n",
        "for i in range(len(labels)):\n",
        "    ax.text(x[i] - width/2, cnn_acc[i] + 0.02, f\"{cnn_acc[i]:.2f}\", ha='center')\n",
        "    ax.text(x[i] + width/2, lstm_acc[i] + 0.02, f\"{lstm_acc[i]:.2f}\", ha='center')\n",
        "plt.ylim(0,1)\n",
        "plt.tight_layout()\n",
        "plt.show()\n"
      ],
      "metadata": {
        "colab": {
          "base_uri": "https://localhost:8080/",
          "height": 1000
        },
        "id": "T3b2N8GwWCNj",
        "outputId": "fd47c1ad-d105-4f68-93bd-336241d3f7a6"
      },
      "execution_count": 62,
      "outputs": [
        {
          "output_type": "stream",
          "name": "stderr",
          "text": [
            "/usr/local/lib/python3.11/dist-packages/keras/src/layers/core/embedding.py:93: UserWarning: Do not pass an `input_shape`/`input_dim` argument to a layer. When using Sequential models, prefer using an `Input(shape)` object as the first layer in the model instead.\n",
            "  super().__init__(**kwargs)\n"
          ]
        },
        {
          "output_type": "stream",
          "name": "stdout",
          "text": [
            "\u001b[1m76/76\u001b[0m \u001b[32m━━━━━━━━━━━━━━━━━━━━\u001b[0m\u001b[37m\u001b[0m \u001b[1m1s\u001b[0m 10ms/step\n"
          ]
        },
        {
          "output_type": "stream",
          "name": "stderr",
          "text": [
            "/usr/local/lib/python3.11/dist-packages/keras/src/layers/core/embedding.py:93: UserWarning: Do not pass an `input_shape`/`input_dim` argument to a layer. When using Sequential models, prefer using an `Input(shape)` object as the first layer in the model instead.\n",
            "  super().__init__(**kwargs)\n"
          ]
        },
        {
          "output_type": "stream",
          "name": "stdout",
          "text": [
            "\u001b[1m76/76\u001b[0m \u001b[32m━━━━━━━━━━━━━━━━━━━━\u001b[0m\u001b[37m\u001b[0m \u001b[1m4s\u001b[0m 52ms/step\n"
          ]
        },
        {
          "output_type": "display_data",
          "data": {
            "text/plain": [
              "<Figure size 1000x400 with 4 Axes>"
            ],
            "image/png": "[encoded data removed]"
          },
          "metadata": {}
        },
        {
          "output_type": "stream",
          "name": "stderr",
          "text": [
            "/usr/local/lib/python3.11/dist-packages/keras/src/layers/core/embedding.py:93: UserWarning: Do not pass an `input_shape`/`input_dim` argument to a layer. When using Sequential models, prefer using an `Input(shape)` object as the first layer in the model instead.\n",
            "  super().__init__(**kwargs)\n"
          ]
        },
        {
          "output_type": "stream",
          "name": "stdout",
          "text": [
            "\u001b[1m67/67\u001b[0m \u001b[32m━━━━━━━━━━━━━━━━━━━━\u001b[0m\u001b[37m\u001b[0m \u001b[1m1s\u001b[0m 10ms/step\n"
          ]
        },
        {
          "output_type": "stream",
          "name": "stderr",
          "text": [
            "/usr/local/lib/python3.11/dist-packages/keras/src/layers/core/embedding.py:93: UserWarning: Do not pass an `input_shape`/`input_dim` argument to a layer. When using Sequential models, prefer using an `Input(shape)` object as the first layer in the model instead.\n",
            "  super().__init__(**kwargs)\n"
          ]
        },
        {
          "output_type": "stream",
          "name": "stdout",
          "text": [
            "\u001b[1m67/67\u001b[0m \u001b[32m━━━━━━━━━━━━━━━━━━━━\u001b[0m\u001b[37m\u001b[0m \u001b[1m3s\u001b[0m 48ms/step\n"
          ]
        },
        {
          "output_type": "display_data",
          "data": {
            "text/plain": [
              "<Figure size 1000x400 with 4 Axes>"
            ],
            "image/png": "[encoded data removed]"
          },
          "metadata": {}
        },
        {
          "output_type": "display_data",
          "data": {
            "text/plain": [
              "<Figure size 600x400 with 1 Axes>"
            ],
            "image/png": "[encoded data removed]"
          },
          "metadata": {}
        }
      ]
    },
    {
      "cell_type": "code",
      "source": [
        "accuracy_df = pd.DataFrame([\n",
        "    {\n",
        "        'Language': lang,\n",
        "        'CNN Accuracy': results[lang]['accuracy']['CNN'],\n",
        "        'LSTM Accuracy': results[lang]['accuracy']['LSTM']\n",
        "    }\n",
        "    for lang in results\n",
        "])"
      ],
      "metadata": {
        "id": "mcizx3_YWVXD"
      },
      "execution_count": 63,
      "outputs": []
    },
    {
      "cell_type": "code",
      "source": [
        "accuracy_df"
      ],
      "metadata": {
        "colab": {
          "base_uri": "https://localhost:8080/",
          "height": 125
        },
        "id": "vx3ToLKJZEOY",
        "outputId": "3143ef97-5051-4512-c2e1-035b7d222e74"
      },
      "execution_count": 64,
      "outputs": [
        {
          "output_type": "execute_result",
          "data": {
            "text/plain": [
              "  Language  CNN Accuracy  LSTM Accuracy\n",
              "0    Hindi      0.725498       0.376246\n",
              "1   Telugu      0.840075       0.761994"
            ],
            "text/html": [
              "\n",
              "  <div id=\"df-5949ec54-bfd1-4eda-87f6-b082522bd7f2\" class=\"colab-df-container\">\n",
              "    <div>\n",
              "<style scoped>\n",
              "    .dataframe tbody tr th:only-of-type {\n",
              "        vertical-align: middle;\n",
              "    }\n",
              "\n",
              "    .dataframe tbody tr th {\n",
              "        vertical-align: top;\n",
              "    }\n",
              "\n",
              "    .dataframe thead th {\n",
              "        text-align: right;\n",
              "    }\n",
              "</style>\n",
              "<table border=\"1\" class=\"dataframe\">\n",
              "  <thead>\n",
              "    <tr style=\"text-align: right;\">\n",
              "      <th></th>\n",
              "      <th>Language</th>\n",
              "      <th>CNN Accuracy</th>\n",
              "      <th>LSTM Accuracy</th>\n",
              "    </tr>\n",
              "  </thead>\n",
              "  <tbody>\n",
              "    <tr>\n",
              "      <th>0</th>\n",
              "      <td>Hindi</td>\n",
              "      <td>0.725498</td>\n",
              "      <td>0.376246</td>\n",
              "    </tr>\n",
              "    <tr>\n",
              "      <th>1</th>\n",
              "      <td>Telugu</td>\n",
              "      <td>0.840075</td>\n",
              "      <td>0.761994</td>\n",
              "    </tr>\n",
              "  </tbody>\n",
              "</table>\n",
              "</div>\n",
              "    <div class=\"colab-df-buttons\">\n",
              "\n",
              "  <div class=\"colab-df-container\">\n",
              "    <button class=\"colab-df-convert\" onclick=\"convertToInteractive('df-5949ec54-bfd1-4eda-87f6-b082522bd7f2')\"\n",
              "            title=\"Convert this dataframe to an interactive table.\"\n",
              "            style=\"display:none;\">\n",
              "\n",
              "  <svg xmlns=\"http://www.w3.org/2000/svg\" height=\"24px\" viewBox=\"0 -960 960 960\">\n",
              "    <path d=\"M120-120v-720h720v720H120Zm60-500h600v-160H180v160Zm220 220h160v-160H400v160Zm0 220h160v-160H400v160ZM180-400h160v-160H180v160Zm440 0h160v-160H620v160ZM180-180h160v-160H180v160Zm440 0h160v-160H620v160Z\"/>\n",
              "  </svg>\n",
              "    </button>\n",
              "\n",
              "  <style>\n",
              "    .colab-df-container {\n",
              "      display:flex;\n",
              "      gap: 12px;\n",
              "    }\n",
              "\n",
              "    .colab-df-convert {\n",
              "      background-color: #E8F0FE;\n",
              "      border: none;\n",
              "      border-radius: 50%;\n",
              "      cursor: pointer;\n",
              "      display: none;\n",
              "      fill: #1967D2;\n",
              "      height: 32px;\n",
              "      padding: 0 0 0 0;\n",
              "      width: 32px;\n",
              "    }\n",
              "\n",
              "    .colab-df-convert:hover {\n",
              "      background-color: #E2EBFA;\n",
              "      box-shadow: 0px 1px 2px rgba(60, 64, 67, 0.3), 0px 1px 3px 1px rgba(60, 64, 67, 0.15);\n",
              "      fill: #174EA6;\n",
              "    }\n",
              "\n",
              "    .colab-df-buttons div {\n",
              "      margin-bottom: 4px;\n",
              "    }\n",
              "\n",
              "    [theme=dark] .colab-df-convert {\n",
              "      background-color: #3B4455;\n",
              "      fill: #D2E3FC;\n",
              "    }\n",
              "\n",
              "    [theme=dark] .colab-df-convert:hover {\n",
              "      background-color: #434B5C;\n",
              "      box-shadow: 0px 1px 3px 1px rgba(0, 0, 0, 0.15);\n",
              "      filter: drop-shadow(0px 1px 2px rgba(0, 0, 0, 0.3));\n",
              "      fill: #FFFFFF;\n",
              "    }\n",
              "  </style>\n",
              "\n",
              "    <script>\n",
              "      const buttonEl =\n",
              "        document.querySelector('#df-5949ec54-bfd1-4eda-87f6-b082522bd7f2 button.colab-df-convert');\n",
              "      buttonEl.style.display =\n",
              "        google.colab.kernel.accessAllowed ? 'block' : 'none';\n",
              "\n",
              "      async function convertToInteractive(key) {\n",
              "        const element = document.querySelector('#df-5949ec54-bfd1-4eda-87f6-b082522bd7f2');\n",
              "        const dataTable =\n",
              "          await google.colab.kernel.invokeFunction('convertToInteractive',\n",
              "                                                    [key], {});\n",
              "        if (!dataTable) return;\n",
              "\n",
              "        const docLinkHtml = 'Like what you see? Visit the ' +\n",
              "          '<a target=\"_blank\" href=https://colab.research.google.com/notebooks/data_table.ipynb>data table notebook</a>'\n",
              "          + ' to learn more about interactive tables.';\n",
              "        element.innerHTML = '';\n",
              "        dataTable['output_type'] = 'display_data';\n",
              "        await google.colab.output.renderOutput(dataTable, element);\n",
              "        const docLink = document.createElement('div');\n",
              "        docLink.innerHTML = docLinkHtml;\n",
              "        element.appendChild(docLink);\n",
              "      }\n",
              "    </script>\n",
              "  </div>\n",
              "\n",
              "\n",
              "    <div id=\"df-076fe515-16bf-450c-86c6-1c91cc34cceb\">\n",
              "      <button class=\"colab-df-quickchart\" onclick=\"quickchart('df-076fe515-16bf-450c-86c6-1c91cc34cceb')\"\n",
              "                title=\"Suggest charts\"\n",
              "                style=\"display:none;\">\n",
              "\n",
              "<svg xmlns=\"http://www.w3.org/2000/svg\" height=\"24px\"viewBox=\"0 0 24 24\"\n",
              "     width=\"24px\">\n",
              "    <g>\n",
              "        <path d=\"M19 3H5c-1.1 0-2 .9-2 2v14c0 1.1.9 2 2 2h14c1.1 0 2-.9 2-2V5c0-1.1-.9-2-2-2zM9 17H7v-7h2v7zm4 0h-2V7h2v10zm4 0h-2v-4h2v4z\"/>\n",
              "    </g>\n",
              "</svg>\n",
              "      </button>\n",
              "\n",
              "<style>\n",
              "  .colab-df-quickchart {\n",
              "      --bg-color: #E8F0FE;\n",
              "      --fill-color: #1967D2;\n",
              "      --hover-bg-color: #E2EBFA;\n",
              "      --hover-fill-color: #174EA6;\n",
              "      --disabled-fill-color: #AAA;\n",
              "      --disabled-bg-color: #DDD;\n",
              "  }\n",
              "\n",
              "  [theme=dark] .colab-df-quickchart {\n",
              "      --bg-color: #3B4455;\n",
              "      --fill-color: #D2E3FC;\n",
              "      --hover-bg-color: #434B5C;\n",
              "      --hover-fill-color: #FFFFFF;\n",
              "      --disabled-bg-color: #3B4455;\n",
              "      --disabled-fill-color: #666;\n",
              "  }\n",
              "\n",
              "  .colab-df-quickchart {\n",
              "    background-color: var(--bg-color);\n",
              "    border: none;\n",
              "    border-radius: 50%;\n",
              "    cursor: pointer;\n",
              "    display: none;\n",
              "    fill: var(--fill-color);\n",
              "    height: 32px;\n",
              "    padding: 0;\n",
              "    width: 32px;\n",
              "  }\n",
              "\n",
              "  .colab-df-quickchart:hover {\n",
              "    background-color: var(--hover-bg-color);\n",
              "    box-shadow: 0 1px 2px rgba(60, 64, 67, 0.3), 0 1px 3px 1px rgba(60, 64, 67, 0.15);\n",
              "    fill: var(--button-hover-fill-color);\n",
              "  }\n",
              "\n",
              "  .colab-df-quickchart-complete:disabled,\n",
              "  .colab-df-quickchart-complete:disabled:hover {\n",
              "    background-color: var(--disabled-bg-color);\n",
              "    fill: var(--disabled-fill-color);\n",
              "    box-shadow: none;\n",
              "  }\n",
              "\n",
              "  .colab-df-spinner {\n",
              "    border: 2px solid var(--fill-color);\n",
              "    border-color: transparent;\n",
              "    border-bottom-color: var(--fill-color);\n",
              "    animation:\n",
              "      spin 1s steps(1) infinite;\n",
              "  }\n",
              "\n",
              "  @keyframes spin {\n",
              "    0% {\n",
              "      border-color: transparent;\n",
              "      border-bottom-color: var(--fill-color);\n",
              "      border-left-color: var(--fill-color);\n",
              "    }\n",
              "    20% {\n",
              "      border-color: transparent;\n",
              "      border-left-color: var(--fill-color);\n",
              "      border-top-color: var(--fill-color);\n",
              "    }\n",
              "    30% {\n",
              "      border-color: transparent;\n",
              "      border-left-color: var(--fill-color);\n",
              "      border-top-color: var(--fill-color);\n",
              "      border-right-color: var(--fill-color);\n",
              "    }\n",
              "    40% {\n",
              "      border-color: transparent;\n",
              "      border-right-color: var(--fill-color);\n",
              "      border-top-color: var(--fill-color);\n",
              "    }\n",
              "    60% {\n",
              "      border-color: transparent;\n",
              "      border-right-color: var(--fill-color);\n",
              "    }\n",
              "    80% {\n",
              "      border-color: transparent;\n",
              "      border-right-color: var(--fill-color);\n",
              "      border-bottom-color: var(--fill-color);\n",
              "    }\n",
              "    90% {\n",
              "      border-color: transparent;\n",
              "      border-bottom-color: var(--fill-color);\n",
              "    }\n",
              "  }\n",
              "</style>\n",
              "\n",
              "      <script>\n",
              "        async function quickchart(key) {\n",
              "          const quickchartButtonEl =\n",
              "            document.querySelector('#' + key + ' button');\n",
              "          quickchartButtonEl.disabled = true;  // To prevent multiple clicks.\n",
              "          quickchartButtonEl.classList.add('colab-df-spinner');\n",
              "          try {\n",
              "            const charts = await google.colab.kernel.invokeFunction(\n",
              "                'suggestCharts', [key], {});\n",
              "          } catch (error) {\n",
              "            console.error('Error during call to suggestCharts:', error);\n",
              "          }\n",
              "          quickchartButtonEl.classList.remove('colab-df-spinner');\n",
              "          quickchartButtonEl.classList.add('colab-df-quickchart-complete');\n",
              "        }\n",
              "        (() => {\n",
              "          let quickchartButtonEl =\n",
              "            document.querySelector('#df-076fe515-16bf-450c-86c6-1c91cc34cceb button');\n",
              "          quickchartButtonEl.style.display =\n",
              "            google.colab.kernel.accessAllowed ? 'block' : 'none';\n",
              "        })();\n",
              "      </script>\n",
              "    </div>\n",
              "\n",
              "  <div id=\"id_44a8b8dc-0a02-412a-9ffc-e726e447d5a0\">\n",
              "    <style>\n",
              "      .colab-df-generate {\n",
              "        background-color: #E8F0FE;\n",
              "        border: none;\n",
              "        border-radius: 50%;\n",
              "        cursor: pointer;\n",
              "        display: none;\n",
              "        fill: #1967D2;\n",
              "        height: 32px;\n",
              "        padding: 0 0 0 0;\n",
              "        width: 32px;\n",
              "      }\n",
              "\n",
              "      .colab-df-generate:hover {\n",
              "        background-color: #E2EBFA;\n",
              "        box-shadow: 0px 1px 2px rgba(60, 64, 67, 0.3), 0px 1px 3px 1px rgba(60, 64, 67, 0.15);\n",
              "        fill: #174EA6;\n",
              "      }\n",
              "\n",
              "      [theme=dark] .colab-df-generate {\n",
              "        background-color: #3B4455;\n",
              "        fill: #D2E3FC;\n",
              "      }\n",
              "\n",
              "      [theme=dark] .colab-df-generate:hover {\n",
              "        background-color: #434B5C;\n",
              "        box-shadow: 0px 1px 3px 1px rgba(0, 0, 0, 0.15);\n",
              "        filter: drop-shadow(0px 1px 2px rgba(0, 0, 0, 0.3));\n",
              "        fill: #FFFFFF;\n",
              "      }\n",
              "    </style>\n",
              "    <button class=\"colab-df-generate\" onclick=\"generateWithVariable('accuracy_df')\"\n",
              "            title=\"Generate code using this dataframe.\"\n",
              "            style=\"display:none;\">\n",
              "\n",
              "  <svg xmlns=\"http://www.w3.org/2000/svg\" height=\"24px\"viewBox=\"0 0 24 24\"\n",
              "       width=\"24px\">\n",
              "    <path d=\"M7,19H8.4L18.45,9,17,7.55,7,17.6ZM5,21V16.75L18.45,3.32a2,2,0,0,1,2.83,0l1.4,1.43a1.91,1.91,0,0,1,.58,1.4,1.91,1.91,0,0,1-.58,1.4L9.25,21ZM18.45,9,17,7.55Zm-12,3A5.31,5.31,0,0,0,4.9,8.1,5.31,5.31,0,0,0,1,6.5,5.31,5.31,0,0,0,4.9,4.9,5.31,5.31,0,0,0,6.5,1,5.31,5.31,0,0,0,8.1,4.9,5.31,5.31,0,0,0,12,6.5,5.46,5.46,0,0,0,6.5,12Z\"/>\n",
              "  </svg>\n",
              "    </button>\n",
              "    <script>\n",
              "      (() => {\n",
              "      const buttonEl =\n",
              "        document.querySelector('#id_44a8b8dc-0a02-412a-9ffc-e726e447d5a0 button.colab-df-generate');\n",
              "      buttonEl.style.display =\n",
              "        google.colab.kernel.accessAllowed ? 'block' : 'none';\n",
              "\n",
              "      buttonEl.onclick = () => {\n",
              "        google.colab.notebook.generateWithVariable('accuracy_df');\n",
              "      }\n",
              "      })();\n",
              "    </script>\n",
              "  </div>\n",
              "\n",
              "    </div>\n",
              "  </div>\n"
            ],
            "application/vnd.google.colaboratory.intrinsic+json": {
              "type": "dataframe",
              "variable_name": "accuracy_df",
              "summary": "{\n  \"name\": \"accuracy_df\",\n  \"rows\": 2,\n  \"fields\": [\n    {\n      \"column\": \"Language\",\n      \"properties\": {\n        \"dtype\": \"string\",\n        \"num_unique_values\": 2,\n        \"samples\": [\n          \"Telugu\",\n          \"Hindi\"\n        ],\n        \"semantic_type\": \"\",\n        \"description\": \"\"\n      }\n    },\n    {\n      \"column\": \"CNN Accuracy\",\n      \"properties\": {\n        \"dtype\": \"number\",\n        \"std\": 0.0810181282492184,\n        \"min\": 0.7254983186721802,\n        \"max\": 0.8400752544403076,\n        \"num_unique_values\": 2,\n        \"samples\": [\n          0.8400752544403076,\n          0.7254983186721802\n        ],\n        \"semantic_type\": \"\",\n        \"description\": \"\"\n      }\n    },\n    {\n      \"column\": \"LSTM Accuracy\",\n      \"properties\": {\n        \"dtype\": \"number\",\n        \"std\": 0.27276538413692486,\n        \"min\": 0.3762458562850952,\n        \"max\": 0.7619943618774414,\n        \"num_unique_values\": 2,\n        \"samples\": [\n          0.7619943618774414,\n          0.3762458562850952\n        ],\n        \"semantic_type\": \"\",\n        \"description\": \"\"\n      }\n    }\n  ]\n}"
            }
          },
          "metadata": {},
          "execution_count": 64
        }
      ]
    },
    {
      "cell_type": "code",
      "source": [
        "#\n",
        "#\n",
        "#\n",
        "#\n",
        "#\n",
        "#\n",
        "#\n",
        "#\n",
        "#\n",
        "#\n",
        "#\n",
        "#         CNN, LSTM, MBERT, INDIC BERT CODE\n",
        "#\n",
        "#\n",
        "#\n",
        "#\n",
        "#\n",
        "#\n",
        "#\n",
        "#"
      ],
      "metadata": {
        "id": "tHzM44oYBnbZ"
      },
      "execution_count": null,
      "outputs": []
    },
    {
      "cell_type": "code",
      "source": [
        "!pip install torch torchvision torchaudio\n",
        "!pip install transformers"
      ],
      "metadata": {
        "colab": {
          "base_uri": "https://localhost:8080/",
          "height": 1000
        },
        "id": "3wohW12ucckw",
        "outputId": "ed291ea6-c86c-4654-eedf-3b19177c0551"
      },
      "execution_count": 69,
      "outputs": [
        {
          "output_type": "stream",
          "name": "stdout",
          "text": [
            "Requirement already satisfied: torch in /usr/local/lib/python3.11/dist-packages (2.6.0+cu124)\n",
            "Requirement already satisfied: torchvision in /usr/local/lib/python3.11/dist-packages (0.21.0+cu124)\n",
            "Requirement already satisfied: torchaudio in /usr/local/lib/python3.11/dist-packages (2.6.0+cu124)\n",
            "Requirement already satisfied: filelock in /usr/local/lib/python3.11/dist-packages (from torch) (3.18.0)\n",
            "Requirement already satisfied: typing-extensions>=4.10.0 in /usr/local/lib/python3.11/dist-packages (from torch) (4.13.2)\n",
            "Requirement already satisfied: networkx in /usr/local/lib/python3.11/dist-packages (from torch) (3.4.2)\n",
            "Requirement already satisfied: jinja2 in /usr/local/lib/python3.11/dist-packages (from torch) (3.1.6)\n",
            "Requirement already satisfied: fsspec in /usr/local/lib/python3.11/dist-packages (from torch) (2025.3.2)\n",
            "Collecting nvidia-cuda-nvrtc-cu12==12.4.127 (from torch)\n",
            "  Downloading nvidia_cuda_nvrtc_cu12-12.4.127-py3-none-manylinux2014_x86_64.whl.metadata (1.5 kB)\n",
            "Collecting nvidia-cuda-runtime-cu12==12.4.127 (from torch)\n",
            "  Downloading nvidia_cuda_runtime_cu12-12.4.127-py3-none-manylinux2014_x86_64.whl.metadata (1.5 kB)\n",
            "Collecting nvidia-cuda-cupti-cu12==12.4.127 (from torch)\n",
            "  Downloading nvidia_cuda_cupti_cu12-12.4.127-py3-none-manylinux2014_x86_64.whl.metadata (1.6 kB)\n",
            "Collecting nvidia-cudnn-cu12==9.1.0.70 (from torch)\n",
            "  Downloading nvidia_cudnn_cu12-9.1.0.70-py3-none-manylinux2014_x86_64.whl.metadata (1.6 kB)\n",
            "Collecting nvidia-cublas-cu12==12.4.5.8 (from torch)\n",
            "  Downloading nvidia_cublas_cu12-12.4.5.8-py3-none-manylinux2014_x86_64.whl.metadata (1.5 kB)\n",
            "Collecting nvidia-cufft-cu12==11.2.1.3 (from torch)\n",
            "  Downloading nvidia_cufft_cu12-11.2.1.3-py3-none-manylinux2014_x86_64.whl.metadata (1.5 kB)\n",
            "Collecting nvidia-curand-cu12==10.3.5.147 (from torch)\n",
            "  Downloading nvidia_curand_cu12-10.3.5.147-py3-none-manylinux2014_x86_64.whl.metadata (1.5 kB)\n",
            "Collecting nvidia-cusolver-cu12==11.6.1.9 (from torch)\n",
            "  Downloading nvidia_cusolver_cu12-11.6.1.9-py3-none-manylinux2014_x86_64.whl.metadata (1.6 kB)\n",
            "Collecting nvidia-cusparse-cu12==12.3.1.170 (from torch)\n",
            "  Downloading nvidia_cusparse_cu12-12.3.1.170-py3-none-manylinux2014_x86_64.whl.metadata (1.6 kB)\n",
            "Requirement already satisfied: nvidia-cusparselt-cu12==0.6.2 in /usr/local/lib/python3.11/dist-packages (from torch) (0.6.2)\n",
            "Requirement already satisfied: nvidia-nccl-cu12==2.21.5 in /usr/local/lib/python3.11/dist-packages (from torch) (2.21.5)\n",
            "Requirement already satisfied: nvidia-nvtx-cu12==12.4.127 in /usr/local/lib/python3.11/dist-packages (from torch) (12.4.127)\n",
            "Collecting nvidia-nvjitlink-cu12==12.4.127 (from torch)\n",
            "  Downloading nvidia_nvjitlink_cu12-12.4.127-py3-none-manylinux2014_x86_64.whl.metadata (1.5 kB)\n",
            "Requirement already satisfied: triton==3.2.0 in /usr/local/lib/python3.11/dist-packages (from torch) (3.2.0)\n",
            "Requirement already satisfied: sympy==1.13.1 in /usr/local/lib/python3.11/dist-packages (from torch) (1.13.1)\n",
            "Requirement already satisfied: mpmath<1.4,>=1.1.0 in /usr/local/lib/python3.11/dist-packages (from sympy==1.13.1->torch) (1.3.0)\n",
            "Requirement already satisfied: numpy in /usr/local/lib/python3.11/dist-packages (from torchvision) (2.0.2)\n",
            "Requirement already satisfied: pillow!=8.3.*,>=5.3.0 in /usr/local/lib/python3.11/dist-packages (from torchvision) (11.1.0)\n",
            "Requirement already satisfied: MarkupSafe>=2.0 in /usr/local/lib/python3.11/dist-packages (from jinja2->torch) (3.0.2)\n",
            "Downloading nvidia_cublas_cu12-12.4.5.8-py3-none-manylinux2014_x86_64.whl (363.4 MB)\n",
            "\u001b[2K   \u001b[90m━━━━━━━━━━━━━━━━━━━━━━━━━━━━━━━━━━━━━━━━\u001b[0m \u001b[32m363.4/363.4 MB\u001b[0m \u001b[31m1.4 MB/s\u001b[0m eta \u001b[36m0:00:00\u001b[0m\n",
            "\u001b[?25hDownloading nvidia_cuda_cupti_cu12-12.4.127-py3-none-manylinux2014_x86_64.whl (13.8 MB)\n",
            "\u001b[2K   \u001b[90m━━━━━━━━━━━━━━━━━━━━━━━━━━━━━━━━━━━━━━━━\u001b[0m \u001b[32m13.8/13.8 MB\u001b[0m \u001b[31m75.4 MB/s\u001b[0m eta \u001b[36m0:00:00\u001b[0m\n",
            "\u001b[?25hDownloading nvidia_cuda_nvrtc_cu12-12.4.127-py3-none-manylinux2014_x86_64.whl (24.6 MB)\n",
            "\u001b[2K   \u001b[90m━━━━━━━━━━━━━━━━━━━━━━━━━━━━━━━━━━━━━━━━\u001b[0m \u001b[32m24.6/24.6 MB\u001b[0m \u001b[31m22.2 MB/s\u001b[0m eta \u001b[36m0:00:00\u001b[0m\n",
            "\u001b[?25hDownloading nvidia_cuda_runtime_cu12-12.4.127-py3-none-manylinux2014_x86_64.whl (883 kB)\n",
            "\u001b[2K   \u001b[90m━━━━━━━━━━━━━━━━━━━━━━━━━━━━━━━━━━━━━━━━\u001b[0m \u001b[32m883.7/883.7 kB\u001b[0m \u001b[31m33.1 MB/s\u001b[0m eta \u001b[36m0:00:00\u001b[0m\n",
            "\u001b[?25hDownloading nvidia_cudnn_cu12-9.1.0.70-py3-none-manylinux2014_x86_64.whl (664.8 MB)\n",
            "\u001b[2K   \u001b[90m━━━━━━━━━━━━━━━━━━━━━━━━━━━━━━━━━━━━━━━━\u001b[0m \u001b[32m664.8/664.8 MB\u001b[0m \u001b[31m1.1 MB/s\u001b[0m eta \u001b[36m0:00:00\u001b[0m\n",
            "\u001b[?25hDownloading nvidia_cufft_cu12-11.2.1.3-py3-none-manylinux2014_x86_64.whl (211.5 MB)\n",
            "\u001b[2K   \u001b[90m━━━━━━━━━━━━━━━━━━━━━━━━━━━━━━━━━━━━━━━━\u001b[0m \u001b[32m211.5/211.5 MB\u001b[0m \u001b[31m6.8 MB/s\u001b[0m eta \u001b[36m0:00:00\u001b[0m\n",
            "\u001b[?25hDownloading nvidia_curand_cu12-10.3.5.147-py3-none-manylinux2014_x86_64.whl (56.3 MB)\n",
            "\u001b[2K   \u001b[90m━━━━━━━━━━━━━━━━━━━━━━━━━━━━━━━━━━━━━━━━\u001b[0m \u001b[32m56.3/56.3 MB\u001b[0m \u001b[31m12.6 MB/s\u001b[0m eta \u001b[36m0:00:00\u001b[0m\n",
            "\u001b[?25hDownloading nvidia_cusolver_cu12-11.6.1.9-py3-none-manylinux2014_x86_64.whl (127.9 MB)\n",
            "\u001b[2K   \u001b[90m━━━━━━━━━━━━━━━━━━━━━━━━━━━━━━━━━━━━━━━━\u001b[0m \u001b[32m127.9/127.9 MB\u001b[0m \u001b[31m7.7 MB/s\u001b[0m eta \u001b[36m0:00:00\u001b[0m\n",
            "\u001b[?25hDownloading nvidia_cusparse_cu12-12.3.1.170-py3-none-manylinux2014_x86_64.whl (207.5 MB)\n",
            "\u001b[2K   \u001b[90m━━━━━━━━━━━━━━━━━━━━━━━━━━━━━━━━━━━━━━━━\u001b[0m \u001b[32m207.5/207.5 MB\u001b[0m \u001b[31m7.1 MB/s\u001b[0m eta \u001b[36m0:00:00\u001b[0m\n",
            "\u001b[?25hDownloading nvidia_nvjitlink_cu12-12.4.127-py3-none-manylinux2014_x86_64.whl (21.1 MB)\n",
            "\u001b[2K   \u001b[90m━━━━━━━━━━━━━━━━━━━━━━━━━━━━━━━━━━━━━━━━\u001b[0m \u001b[32m21.1/21.1 MB\u001b[0m \u001b[31m88.0 MB/s\u001b[0m eta \u001b[36m0:00:00\u001b[0m\n",
            "\u001b[?25hInstalling collected packages: nvidia-nvjitlink-cu12, nvidia-curand-cu12, nvidia-cufft-cu12, nvidia-cuda-runtime-cu12, nvidia-cuda-nvrtc-cu12, nvidia-cuda-cupti-cu12, nvidia-cublas-cu12, nvidia-cusparse-cu12, nvidia-cudnn-cu12, nvidia-cusolver-cu12\n",
            "  Attempting uninstall: nvidia-nvjitlink-cu12\n",
            "    Found existing installation: nvidia-nvjitlink-cu12 12.5.82\n",
            "    Uninstalling nvidia-nvjitlink-cu12-12.5.82:\n",
            "      Successfully uninstalled nvidia-nvjitlink-cu12-12.5.82\n",
            "  Attempting uninstall: nvidia-curand-cu12\n",
            "    Found existing installation: nvidia-curand-cu12 10.3.6.82\n",
            "    Uninstalling nvidia-curand-cu12-10.3.6.82:\n",
            "      Successfully uninstalled nvidia-curand-cu12-10.3.6.82\n",
            "  Attempting uninstall: nvidia-cufft-cu12\n",
            "    Found existing installation: nvidia-cufft-cu12 11.2.3.61\n",
            "    Uninstalling nvidia-cufft-cu12-11.2.3.61:\n",
            "      Successfully uninstalled nvidia-cufft-cu12-11.2.3.61\n",
            "  Attempting uninstall: nvidia-cuda-runtime-cu12\n",
            "    Found existing installation: nvidia-cuda-runtime-cu12 12.5.82\n",
            "    Uninstalling nvidia-cuda-runtime-cu12-12.5.82:\n",
            "      Successfully uninstalled nvidia-cuda-runtime-cu12-12.5.82\n",
            "  Attempting uninstall: nvidia-cuda-nvrtc-cu12\n",
            "    Found existing installation: nvidia-cuda-nvrtc-cu12 12.5.82\n",
            "    Uninstalling nvidia-cuda-nvrtc-cu12-12.5.82:\n",
            "      Successfully uninstalled nvidia-cuda-nvrtc-cu12-12.5.82\n",
            "  Attempting uninstall: nvidia-cuda-cupti-cu12\n",
            "    Found existing installation: nvidia-cuda-cupti-cu12 12.5.82\n",
            "    Uninstalling nvidia-cuda-cupti-cu12-12.5.82:\n",
            "      Successfully uninstalled nvidia-cuda-cupti-cu12-12.5.82\n",
            "  Attempting uninstall: nvidia-cublas-cu12\n",
            "    Found existing installation: nvidia-cublas-cu12 12.5.3.2\n",
            "    Uninstalling nvidia-cublas-cu12-12.5.3.2:\n",
            "      Successfully uninstalled nvidia-cublas-cu12-12.5.3.2\n",
            "  Attempting uninstall: nvidia-cusparse-cu12\n",
            "    Found existing installation: nvidia-cusparse-cu12 12.5.1.3\n",
            "    Uninstalling nvidia-cusparse-cu12-12.5.1.3:\n",
            "      Successfully uninstalled nvidia-cusparse-cu12-12.5.1.3\n",
            "  Attempting uninstall: nvidia-cudnn-cu12\n",
            "    Found existing installation: nvidia-cudnn-cu12 9.3.0.75\n",
            "    Uninstalling nvidia-cudnn-cu12-9.3.0.75:\n",
            "      Successfully uninstalled nvidia-cudnn-cu12-9.3.0.75\n",
            "  Attempting uninstall: nvidia-cusolver-cu12\n",
            "    Found existing installation: nvidia-cusolver-cu12 11.6.3.83\n",
            "    Uninstalling nvidia-cusolver-cu12-11.6.3.83:\n",
            "      Successfully uninstalled nvidia-cusolver-cu12-11.6.3.83\n",
            "Successfully installed nvidia-cublas-cu12-12.4.5.8 nvidia-cuda-cupti-cu12-12.4.127 nvidia-cuda-nvrtc-cu12-12.4.127 nvidia-cuda-runtime-cu12-12.4.127 nvidia-cudnn-cu12-9.1.0.70 nvidia-cufft-cu12-11.2.1.3 nvidia-curand-cu12-10.3.5.147 nvidia-cusolver-cu12-11.6.1.9 nvidia-cusparse-cu12-12.3.1.170 nvidia-nvjitlink-cu12-12.4.127\n"
          ]
        },
        {
          "output_type": "display_data",
          "data": {
            "application/vnd.colab-display-data+json": {
              "pip_warning": {
                "packages": [
                  "nvidia"
                ]
              },
              "id": "146a5ab1c0b54b028d28bc1a24a08307"
            }
          },
          "metadata": {}
        },
        {
          "output_type": "stream",
          "name": "stdout",
          "text": [
            "Requirement already satisfied: transformers in /usr/local/lib/python3.11/dist-packages (4.51.3)\n",
            "Requirement already satisfied: filelock in /usr/local/lib/python3.11/dist-packages (from transformers) (3.18.0)\n",
            "Requirement already satisfied: huggingface-hub<1.0,>=0.30.0 in /usr/local/lib/python3.11/dist-packages (from transformers) (0.30.2)\n",
            "Requirement already satisfied: numpy>=1.17 in /usr/local/lib/python3.11/dist-packages (from transformers) (2.0.2)\n",
            "Requirement already satisfied: packaging>=20.0 in /usr/local/lib/python3.11/dist-packages (from transformers) (24.2)\n",
            "Requirement already satisfied: pyyaml>=5.1 in /usr/local/lib/python3.11/dist-packages (from transformers) (6.0.2)\n",
            "Requirement already satisfied: regex!=2019.12.17 in /usr/local/lib/python3.11/dist-packages (from transformers) (2024.11.6)\n",
            "Requirement already satisfied: requests in /usr/local/lib/python3.11/dist-packages (from transformers) (2.32.3)\n",
            "Requirement already satisfied: tokenizers<0.22,>=0.21 in /usr/local/lib/python3.11/dist-packages (from transformers) (0.21.1)\n",
            "Requirement already satisfied: safetensors>=0.4.3 in /usr/local/lib/python3.11/dist-packages (from transformers) (0.5.3)\n",
            "Requirement already satisfied: tqdm>=4.27 in /usr/local/lib/python3.11/dist-packages (from transformers) (4.67.1)\n",
            "Requirement already satisfied: fsspec>=2023.5.0 in /usr/local/lib/python3.11/dist-packages (from huggingface-hub<1.0,>=0.30.0->transformers) (2025.3.2)\n",
            "Requirement already satisfied: typing-extensions>=3.7.4.3 in /usr/local/lib/python3.11/dist-packages (from huggingface-hub<1.0,>=0.30.0->transformers) (4.13.2)\n",
            "Requirement already satisfied: charset-normalizer<4,>=2 in /usr/local/lib/python3.11/dist-packages (from requests->transformers) (3.4.1)\n",
            "Requirement already satisfied: idna<4,>=2.5 in /usr/local/lib/python3.11/dist-packages (from requests->transformers) (3.10)\n",
            "Requirement already satisfied: urllib3<3,>=1.21.1 in /usr/local/lib/python3.11/dist-packages (from requests->transformers) (2.3.0)\n",
            "Requirement already satisfied: certifi>=2017.4.17 in /usr/local/lib/python3.11/dist-packages (from requests->transformers) (2025.1.31)\n"
          ]
        }
      ]
    },
    {
      "cell_type": "code",
      "source": [
        "import pandas as pd\n",
        "import numpy as np\n",
        "import matplotlib.pyplot as plt\n",
        "from sklearn.model_selection import train_test_split\n",
        "from sklearn.preprocessing import LabelEncoder\n",
        "from sklearn.metrics import accuracy_score\n",
        "import torch\n",
        "from torch.utils.data import Dataset\n",
        "from transformers import AutoTokenizer, AutoModelForSequenceClassification, Trainer, TrainingArguments\n",
        "from tensorflow.keras import Input\n",
        "from tensorflow.keras.preprocessing.text import Tokenizer\n",
        "from tensorflow.keras.preprocessing.sequence import pad_sequences\n",
        "from tensorflow.keras.models import Sequential\n",
        "from tensorflow.keras.layers import Embedding, Conv1D, GlobalMaxPooling1D, LSTM, Dense, Dropout\n",
        "from tensorflow.keras.callbacks import EarlyStopping\n",
        "\n",
        "# Configuration\n",
        "datasets = {\n",
        "    'Hindi': {\n",
        "        'path': '/content/Emotion_attached_final_hindi.csv',\n",
        "        'text_col': 'Text_description'\n",
        "    },\n",
        "    'Telugu': {\n",
        "        'path': '/content/Emotion_attached_final_telugu.csv',\n",
        "        'text_col': 'cleaned_text'\n",
        "    }\n",
        "}\n",
        "max_len = 100\n",
        "max_words = 10000\n",
        "embedding_dim = 64\n",
        "batch_size = 32\n",
        "epochs = 3\n",
        "\n",
        "class TextDataset(Dataset):\n",
        "    def __init__(self, texts, labels, tokenizer):\n",
        "        self.encodings = tokenizer(texts, truncation=True, padding='max_length', max_length=max_len)\n",
        "        self.labels = labels\n",
        "    def __getitem__(self, idx):\n",
        "        item = {k: torch.tensor(v[idx]) for k, v in self.encodings.items()}\n",
        "        item['labels'] = torch.tensor(self.labels[idx], dtype=torch.long)\n",
        "        return item\n",
        "    def __len__(self):\n",
        "        return len(self.labels)\n",
        "\n",
        "def train_transformer(model_name, train_texts, train_labels, val_texts, val_labels, num_labels):\n",
        "    tokenizer = AutoTokenizer.from_pretrained(model_name)\n",
        "    model = AutoModelForSequenceClassification.from_pretrained(model_name, num_labels=num_labels)\n",
        "    train_ds = TextDataset(train_texts, train_labels, tokenizer)\n",
        "    val_ds = TextDataset(val_texts, val_labels, tokenizer)\n",
        "    args = TrainingArguments(\n",
        "        output_dir='./tmp',\n",
        "        num_train_epochs=epochs,\n",
        "        per_device_train_batch_size=batch_size,\n",
        "        per_device_eval_batch_size=batch_size,\n",
        "        logging_dir='./logs',\n",
        "        logging_steps=50,\n",
        "        save_total_limit=1\n",
        "    )\n",
        "    trainer = Trainer(\n",
        "        model=model,\n",
        "        args=args,\n",
        "        train_dataset=train_ds,\n",
        "        eval_dataset=val_ds,\n",
        "        compute_metrics=lambda p: {'accuracy': accuracy_score(p.label_ids, np.argmax(p.predictions, axis=1))}\n",
        "    )\n",
        "    trainer.train()\n",
        "    res = trainer.evaluate()\n",
        "    return res['eval_accuracy']\n",
        "\n",
        "results = {}\n",
        "\n",
        "for lang, cfg in datasets.items():\n",
        "    # Load data\n",
        "    df = pd.read_csv(cfg['path'])\n",
        "    texts = df[cfg['text_col']].astype(str).tolist()\n",
        "    labels = df['emotion_label'].tolist()\n",
        "    le = LabelEncoder()\n",
        "    labels_enc = le.fit_transform(labels)\n",
        "    num_classes = len(le.classes_)\n",
        "\n",
        "    # Split\n",
        "    X_train, X_test, y_train, y_test = train_test_split(\n",
        "        texts, labels_enc, test_size=0.2, stratify=labels_enc, random_state=42\n",
        "    )\n",
        "\n",
        "    # Tokenize for Keras models\n",
        "    tok = Tokenizer(num_words=max_words, oov_token='<OOV>')\n",
        "    tok.fit_on_texts(X_train)\n",
        "    X_tr_seq = tok.texts_to_sequences(X_train)\n",
        "    X_te_seq = tok.texts_to_sequences(X_test)\n",
        "    X_tr = pad_sequences(X_tr_seq, maxlen=max_len, padding='post').astype('int32')\n",
        "    X_te = pad_sequences(X_te_seq, maxlen=max_len, padding='post').astype('int32')\n",
        "    y_tr = np.array(y_train, dtype='int32')\n",
        "    y_te = np.array(y_test, dtype='int32')\n",
        "\n",
        "    es = EarlyStopping(monitor='val_loss', patience=2, restore_best_weights=True)\n",
        "\n",
        "    # CNN model\n",
        "    cnn = Sequential([\n",
        "        Input(shape=(max_len,)),\n",
        "        Embedding(input_dim=max_words, output_dim=embedding_dim),\n",
        "        Conv1D(filters=64, kernel_size=5, activation='relu'),\n",
        "        GlobalMaxPooling1D(),\n",
        "        Dropout(0.5),\n",
        "        Dense(32, activation='relu'),\n",
        "        Dropout(0.5),\n",
        "        Dense(num_classes, activation='softmax')\n",
        "    ])\n",
        "    cnn.compile(optimizer='adam', loss='sparse_categorical_crossentropy', metrics=['accuracy'])\n",
        "    cnn.fit(X_tr, y_tr, validation_split=0.1, epochs=epochs, batch_size=batch_size, callbacks=[es], verbose=0)\n",
        "    _, acc_cnn = cnn.evaluate(X_te, y_te, verbose=0)\n",
        "\n",
        "    # LSTM model\n",
        "    lstm = Sequential([\n",
        "        Input(shape=(max_len,)),\n",
        "        Embedding(input_dim=max_words, output_dim=embedding_dim),\n",
        "        LSTM(64),\n",
        "        Dropout(0.5),\n",
        "        Dense(32, activation='relu'),\n",
        "        Dropout(0.5),\n",
        "        Dense(num_classes, activation='softmax')\n",
        "    ])\n",
        "    lstm.compile(optimizer='adam', loss='sparse_categorical_crossentropy', metrics=['accuracy'])\n",
        "    lstm.fit(X_tr, y_tr, validation_split=0.1, epochs=epochs, batch_size=batch_size, callbacks=[es], verbose=0)\n",
        "    _, acc_lstm = lstm.evaluate(X_te, y_te, verbose=0)\n",
        "\n",
        "    # Transformer models\n",
        "    acc_mbert = train_transformer('bert-base-multilingual-cased', X_train, y_train, X_test, y_test, num_classes)\n",
        "    acc_ibert = train_transformer('ai4bharat/indic-bert', X_train, y_train, X_test, y_test, num_classes)\n",
        "\n",
        "    results[lang] = {\n",
        "        'CNN': acc_cnn,\n",
        "        'LSTM': acc_lstm,\n",
        "        'mBERT': acc_mbert,\n",
        "        'IndicBERT': acc_ibert\n",
        "    }\n",
        "\n",
        "# Plot accuracies\n",
        "df_acc = pd.DataFrame(results).T\n",
        "df_acc.plot(kind='bar', figsize=(8,5))\n",
        "plt.title('Model Accuracy Comparison by Language')\n",
        "plt.ylabel('Accuracy')\n",
        "plt.ylim(0, 1)\n",
        "plt.xticks(rotation=0)\n",
        "plt.legend(title='Model')\n",
        "plt.tight_layout()\n",
        "plt.show()\n"
      ],
      "metadata": {
        "colab": {
          "base_uri": "https://localhost:8080/",
          "height": 800,
          "referenced_widgets": [
            "701ae217e9ad47bcb39267e8eba79068",
            "c9bce113ea874292a4ef36cc2066df0e",
            "85201465acef463aa2e980702407f556",
            "aea490e563fb42ab8c6f9854b067038a",
            "087a0fdb0f604a64a80c474cb045fc11",
            "760ab585c3664256ba6cfafeb3f6e074",
            "3489c624dfbf468294ab6eead385b193",
            "cc0c7b9cfc574d1f90449b1b9ce7cfbf",
            "97d7c639cb044cd381fc216b8a6159ce",
            "2a4180dc4382428a93ccded3a01c9132",
            "c9c89440266d4ec583d0bbe2a14b5da7",
            "13a4b3db12e44146b2cc2f76f1fff431",
            "5c5964bf56b341f086fd3d6244f931a5",
            "6d93c8b47dcc412abf64512160f48aa5",
            "474ccbd92ec64a7f91828d9cd57beb59",
            "89f225abae644dbd87828400a99cb6f5",
            "045e9f0ebd8f44839224e71e44811b12",
            "f6148919571040398ea99764933bd439",
            "94c62911de82405985f58dd80a23462a",
            "c81eb68f448944bb86b333dadd764ed3",
            "304789b14a534b68a866137cf10742a2",
            "ba11be1180d6484482340fa571fd7cbb",
            "1645fdb6c344474ab19f3de7dd998c5d",
            "0c147a67df6f40969aae12f98a2cbcfe",
            "958c80da51b747f68678af46313bd12e",
            "6df35b0c119449319c30d1a6efbdb335",
            "3a54b022d6d7486d9a92760ae38cedca",
            "62a6265b3f06496f892245fa589edffb",
            "a94dbcd7a02047f2ba4cb36a1733004e",
            "5e562857d7e14bd099f72f3d7af78e61",
            "edbd96e4d4994fbcb0624414cf822376",
            "56183d1f2d7a4350a011ac04e859b310",
            "954006a636d7450090dac193d327becf",
            "7b760a8bbbc3475593903ef73ee69499",
            "7bceec9fa69f47a89e5e0de9bd02faa0",
            "3d72734c77534ed3a2372b456ff3114c",
            "8d91540f11e242dabd588fbfb4a738e1",
            "1423f5fe264a400ab76c5d71e8a6fcb5",
            "1a8b2b6ee42b4d6b8910a1af11052bcc",
            "060c1c4fd361408b9aa3b42c1229b584",
            "d98a932671e9443eb213417b6c1744a5",
            "2c1f9e4d51ed4e4b9e34f0f43483c714",
            "67ae0d3cae2c401eb461e3eb6b0600f2",
            "d4390d6d40b34c32b55e401d16bfc440",
            "49913527ec824018a7604250d5aad6a0",
            "b9272685eea542cb9b0a3d56b1085226",
            "db169b84961b446d96cad413200ff756",
            "4b058231c4c546bdb8c1698abdbc2883",
            "a7f41a89750a4acf866542bdd4b360ee",
            "c4b9ea5a783242b197888079960befcd",
            "070fa78b61d54808a4b7afc6c77a6c7f",
            "8408e24b0f2e4a6fabc30b3ac302526a",
            "9af6b66e4ba8428fb3c7cb673548c1e6",
            "bb9afdbb70f64e5b9b2241d97631043a",
            "5dbcc3aefe994f15b0abebbc2f5aad20"
          ]
        },
        "id": "t-Clf00jZJm7",
        "outputId": "6877cd58-6553-452c-c583-a7fe4d447e81"
      },
      "execution_count": null,
      "outputs": [
        {
          "metadata": {
            "tags": null
          },
          "name": "stderr",
          "output_type": "stream",
          "text": [
            "/usr/local/lib/python3.11/dist-packages/huggingface_hub/utils/_auth.py:94: UserWarning: \n",
            "The secret `HF_TOKEN` does not exist in your Colab secrets.\n",
            "To authenticate with the Hugging Face Hub, create a token in your settings tab (https://huggingface.co/settings/tokens), set it as secret in your Google Colab and restart your session.\n",
            "You will be able to reuse this secret in all of your notebooks.\n",
            "Please note that authentication is recommended but still optional to access public models or datasets.\n",
            "  warnings.warn(\n"
          ]
        },
        {
          "data": {
            "application/vnd.jupyter.widget-view+json": {
              "model_id": "701ae217e9ad47bcb39267e8eba79068",
              "version_major": 2,
              "version_minor": 0
            },
            "text/plain": [
              "tokenizer_config.json:   0%|          | 0.00/49.0 [00:00<?, ?B/s]"
            ]
          },
          "metadata": {},
          "output_type": "display_data"
        },
        {
          "data": {
            "application/vnd.jupyter.widget-view+json": {
              "model_id": "13a4b3db12e44146b2cc2f76f1fff431",
              "version_major": 2,
              "version_minor": 0
            },
            "text/plain": [
              "config.json:   0%|          | 0.00/625 [00:00<?, ?B/s]"
            ]
          },
          "metadata": {},
          "output_type": "display_data"
        },
        {
          "data": {
            "application/vnd.jupyter.widget-view+json": {
              "model_id": "1645fdb6c344474ab19f3de7dd998c5d",
              "version_major": 2,
              "version_minor": 0
            },
            "text/plain": [
              "vocab.txt:   0%|          | 0.00/996k [00:00<?, ?B/s]"
            ]
          },
          "metadata": {},
          "output_type": "display_data"
        },
        {
          "data": {
            "application/vnd.jupyter.widget-view+json": {
              "model_id": "7b760a8bbbc3475593903ef73ee69499",
              "version_major": 2,
              "version_minor": 0
            },
            "text/plain": [
              "tokenizer.json:   0%|          | 0.00/1.96M [00:00<?, ?B/s]"
            ]
          },
          "metadata": {},
          "output_type": "display_data"
        },
        {
          "metadata": {
            "tags": null
          },
          "name": "stderr",
          "output_type": "stream",
          "text": [
            "Xet Storage is enabled for this repo, but the 'hf_xet' package is not installed. Falling back to regular HTTP download. For better performance, install the package with: `pip install huggingface_hub[hf_xet]` or `pip install hf_xet`\n",
            "WARNING:huggingface_hub.file_download:Xet Storage is enabled for this repo, but the 'hf_xet' package is not installed. Falling back to regular HTTP download. For better performance, install the package with: `pip install huggingface_hub[hf_xet]` or `pip install hf_xet`\n"
          ]
        },
        {
          "data": {
            "application/vnd.jupyter.widget-view+json": {
              "model_id": "49913527ec824018a7604250d5aad6a0",
              "version_major": 2,
              "version_minor": 0
            },
            "text/plain": [
              "model.safetensors:   0%|          | 0.00/714M [00:00<?, ?B/s]"
            ]
          },
          "metadata": {},
          "output_type": "display_data"
        },
        {
          "metadata": {
            "tags": null
          },
          "name": "stderr",
          "output_type": "stream",
          "text": [
            "Some weights of BertForSequenceClassification were not initialized from the model checkpoint at bert-base-multilingual-cased and are newly initialized: ['classifier.bias', 'classifier.weight']\n",
            "You should probably TRAIN this model on a down-stream task to be able to use it for predictions and inference.\n",
            "\u001b[34m\u001b[1mwandb\u001b[0m: \u001b[33mWARNING\u001b[0m The `run_name` is currently set to the same value as `TrainingArguments.output_dir`. If this was not intended, please specify a different run name by setting the `TrainingArguments.run_name` parameter.\n",
            "\u001b[34m\u001b[1mwandb\u001b[0m: Using wandb-core as the SDK backend.  Please refer to https://wandb.me/wandb-core for more information.\n"
          ]
        },
        {
          "data": {
            "application/javascript": [
              "\n",
              "        window._wandbApiKey = new Promise((resolve, reject) => {\n",
              "            function loadScript(url) {\n",
              "            return new Promise(function(resolve, reject) {\n",
              "                let newScript = document.createElement(\"script\");\n",
              "                newScript.onerror = reject;\n",
              "                newScript.onload = resolve;\n",
              "                document.body.appendChild(newScript);\n",
              "                newScript.src = url;\n",
              "            });\n",
              "            }\n",
              "            loadScript(\"https://cdn.jsdelivr.net/npm/postmate/build/postmate.min.js\").then(() => {\n",
              "            const iframe = document.createElement('iframe')\n",
              "            iframe.style.cssText = \"width:0;height:0;border:none\"\n",
              "            document.body.appendChild(iframe)\n",
              "            const handshake = new Postmate({\n",
              "                container: iframe,\n",
              "                url: 'https://wandb.ai/authorize'\n",
              "            });\n",
              "            const timeout = setTimeout(() => reject(\"Couldn't auto authenticate\"), 5000)\n",
              "            handshake.then(function(child) {\n",
              "                child.on('authorize', data => {\n",
              "                    clearTimeout(timeout)\n",
              "                    resolve(data)\n",
              "                });\n",
              "            });\n",
              "            })\n",
              "        });\n",
              "    "
            ],
            "text/plain": [
              "<IPython.core.display.Javascript object>"
            ]
          },
          "metadata": {},
          "output_type": "display_data"
        },
        {
          "metadata": {
            "tags": null
          },
          "name": "stderr",
          "output_type": "stream",
          "text": [
            "\u001b[34m\u001b[1mwandb\u001b[0m: Logging into wandb.ai. (Learn how to deploy a W&B server locally: https://wandb.me/wandb-server)\n",
            "\u001b[34m\u001b[1mwandb\u001b[0m: You can find your API key in your browser here: https://wandb.ai/authorize\n",
            "wandb: Paste an API key from your profile and hit enter:\u001b[34m\u001b[1mwandb\u001b[0m: \u001b[33mWARNING\u001b[0m If you're specifying your api key in code, ensure this code is not shared publicly.\n",
            "\u001b[34m\u001b[1mwandb\u001b[0m: \u001b[33mWARNING\u001b[0m Consider setting the WANDB_API_KEY environment variable, or running `wandb login` from the command line.\n",
            "\u001b[34m\u001b[1mwandb\u001b[0m: No netrc file found, creating one.\n",
            "\u001b[34m\u001b[1mwandb\u001b[0m: Appending key for api.wandb.ai to your netrc file: /root/.netrc\n",
            "\u001b[34m\u001b[1mwandb\u001b[0m: Currently logged in as: \u001b[33mnayudammacnarne\u001b[0m (\u001b[33mnayudammacnarne-california-state-university-east-bay\u001b[0m) to \u001b[32mhttps://api.wandb.ai\u001b[0m. Use \u001b[1m`wandb login --relogin`\u001b[0m to force relogin\n"
          ]
        },
        {
          "data": {
            "text/html": [
              "Tracking run with wandb version 0.19.9"
            ],
            "text/plain": [
              "<IPython.core.display.HTML object>"
            ]
          },
          "metadata": {},
          "output_type": "display_data"
        },
        {
          "data": {
            "text/html": [
              "Run data is saved locally in <code>/content/wandb/run-20250427_162309-anfq415p</code>"
            ],
            "text/plain": [
              "<IPython.core.display.HTML object>"
            ]
          },
          "metadata": {},
          "output_type": "display_data"
        },
        {
          "data": {
            "text/html": [
              "Syncing run <strong><a href='https://wandb.ai/nayudammacnarne-california-state-university-east-bay/huggingface/runs/anfq415p' target=\"_blank\">./tmp</a></strong> to <a href='https://wandb.ai/nayudammacnarne-california-state-university-east-bay/huggingface' target=\"_blank\">Weights & Biases</a> (<a href='https://wandb.me/developer-guide' target=\"_blank\">docs</a>)<br>"
            ],
            "text/plain": [
              "<IPython.core.display.HTML object>"
            ]
          },
          "metadata": {},
          "output_type": "display_data"
        },
        {
          "data": {
            "text/html": [
              " View project at <a href='https://wandb.ai/nayudammacnarne-california-state-university-east-bay/huggingface' target=\"_blank\">https://wandb.ai/nayudammacnarne-california-state-university-east-bay/huggingface</a>"
            ],
            "text/plain": [
              "<IPython.core.display.HTML object>"
            ]
          },
          "metadata": {},
          "output_type": "display_data"
        },
        {
          "data": {
            "text/html": [
              " View run at <a href='https://wandb.ai/nayudammacnarne-california-state-university-east-bay/huggingface/runs/anfq415p' target=\"_blank\">https://wandb.ai/nayudammacnarne-california-state-university-east-bay/huggingface/runs/anfq415p</a>"
            ],
            "text/plain": [
              "<IPython.core.display.HTML object>"
            ]
          },
          "metadata": {},
          "output_type": "display_data"
        },
        {
          "data": {
            "text/html": [
              "\n",
              "    <div>\n",
              "      \n",
              "      <progress value='83' max='903' style='width:300px; height:20px; vertical-align: middle;'></progress>\n",
              "      [ 83/903 47:31 < 8:01:07, 0.03 it/s, Epoch 0.27/3]\n",
              "    </div>\n",
              "    <table border=\"1\" class=\"dataframe\">\n",
              "  <thead>\n",
              " <tr style=\"text-align: left;\">\n",
              "      <th>Step</th>\n",
              "      <th>Training Loss</th>\n",
              "    </tr>\n",
              "  </thead>\n",
              "  <tbody>\n",
              "    <tr>\n",
              "      <td>50</td>\n",
              "      <td>1.757100</td>\n",
              "    </tr>\n",
              "  </tbody>\n",
              "</table><p>"
            ],
            "text/plain": [
              "<IPython.core.display.HTML object>"
            ]
          },
          "metadata": {},
          "output_type": "display_data"
        },
        {
          "output_type": "display_data",
          "data": {
            "text/plain": [
              "<IPython.core.display.HTML object>"
            ],
            "text/html": [
              "\n",
              "    <div>\n",
              "      \n",
              "      <progress value='99' max='903' style='width:300px; height:20px; vertical-align: middle;'></progress>\n",
              "      [ 99/903 56:54 < 7:51:38, 0.03 it/s, Epoch 0.33/3]\n",
              "    </div>\n",
              "    <table border=\"1\" class=\"dataframe\">\n",
              "  <thead>\n",
              " <tr style=\"text-align: left;\">\n",
              "      <th>Step</th>\n",
              "      <th>Training Loss</th>\n",
              "    </tr>\n",
              "  </thead>\n",
              "  <tbody>\n",
              "    <tr>\n",
              "      <td>50</td>\n",
              "      <td>1.757100</td>\n",
              "    </tr>\n",
              "  </tbody>\n",
              "</table><p>"
            ]
          },
          "metadata": {}
        }
      ]
    },
    {
      "cell_type": "code",
      "source": [
        "# wandb api: 13e80f9a0b070c054b6ad05fe35bebd99364eece"
      ],
      "metadata": {
        "id": "a9EBNvShaeGp"
      },
      "execution_count": null,
      "outputs": []
    },
    {
      "cell_type": "code",
      "source": [],
      "metadata": {
        "id": "cRxIMxmmeasp"
      },
      "execution_count": null,
      "outputs": []
    }
  ]
}